{
 "cells": [
  {
   "cell_type": "markdown",
   "metadata": {
    "id": "u98L9TgH0eMk"
   },
   "source": [
    "# Recommendation Boost — A/B-тест нового алгоритма в приложении\n"
   ]
  },
  {
   "cell_type": "markdown",
   "metadata": {
    "id": "LJBRALHs0eMf"
   },
   "source": [
    "## Цели проекта\n",
    "Целью проекта является оценка результатов A/B-теста, проведённого на платформе, чтобы определить влияние изменений в продукте на поведение пользователей. Для этого необходимо проверить корректность проведения эксперимента и выявить, существует ли статистически значимое различие в метриках между тестовой и контрольной группами."
   ]
  },
  {
   "cell_type": "markdown",
   "metadata": {},
   "source": [
    "## Задачи проекта\n",
    "- Исследовать и подготовить данные:\n",
    "    - Проверить целостность и корректность данных.\n",
    "    - Объединить исторические и экспериментальные выборки для анализа.\n",
    "\n",
    "- Оценить корректность A/B-теста:\n",
    "    - Проверить равномерность распределения пользователей по тестовым группам.\n",
    "    - Убедиться в отсутствии перекрёстных пользователей (пересечения групп).\n",
    "    - Сравнить поведение групп до начала эксперимента (при наличии данных).\n",
    "\n",
    "- Провести анализ результатов эксперимента:\n",
    "    - Сравнить ключевые метрики (например, длину сессий, количество просмотренных страниц, частоту посещений) между группами.\n",
    "    - Рассчитать статистическую значимость различий.\n",
    "\n",
    "- Сделать выводы и рекомендации:\n",
    "    - Оценить, повлияли ли изменения на поведение пользователей.\n",
    "    - Рекомендовать действия на основе полученных результатов (например, внедрять изменения или отклонить их).\n",
    "\n"
   ]
  },
  {
   "cell_type": "markdown",
   "metadata": {},
   "source": [
    "## Описание данных\n",
    "Проект использует три датасета, содержащих данные о пользовательских сессиях в мобильном приложении:\n",
    "\n",
    "`sessions_project_history.csv`\n",
    "Исторические данные о сессиях пользователей в период с 2025-08-15 по 2025-09-23.\n",
    "Используются для бенчмаркинга и проверки корректности сплитования групп.\n",
    "\n",
    "`sessions_project_test_part.csv`\n",
    "Данные за первый день A/B-теста (2025-10-14).\n",
    "Предназначены для предварительной проверки запуска эксперимента.\n",
    "\n",
    "`sessions_project_test.csv`\n",
    "Данные за весь период эксперимента: с 2025-10-14 по 2025-11-02.\n",
    "Используются для финального анализа результатов теста.\n",
    "\n",
    "Общие поля в таблицах:\n",
    "\n",
    "`user_id` — уникальный ID пользователя;\n",
    "\n",
    "`session_id` — ID сессии;\n",
    "\n",
    "`session_date` — дата сессии;\n",
    "\n",
    "`session_start_ts` — дата и время начала сессии;\n",
    "\n",
    "`install_date` — дата установки приложения;\n",
    "\n",
    "`session_number` — порядковый номер сессии пользователя;\n",
    "\n",
    "`registration_flag` — зарегистрирован ли пользователь;\n",
    "\n",
    "`page_counter` — количество просмотренных страниц;\n",
    "\n",
    "`region` — регион пользователя;\n",
    "\n",
    "`device` — устройство;\n",
    "\n",
    "`test_group` — группа в эксперименте (есть только в тестовых таблицах).\n",
    "\n"
   ]
  },
  {
   "cell_type": "markdown",
   "metadata": {},
   "source": [
    "## Содержимое проекта\n",
    "Проект состоит из следующих этапов:\n",
    "- Загрузка и первичный осмотр данных.\n",
    "- Очистка и предварительная обработка.\n",
    "- Анализ распределения пользователей по группам.\n",
    "- Проверка равномерности и случайности распределения.\n",
    "- Выбор ключевых метрик для анализа.\n",
    "- Проведение статистических тестов.\n",
    "- Интерпретация результатов.\n",
    "- Формулирование выводов и рекомендаций.\n",
    "\n"
   ]
  },
  {
   "cell_type": "markdown",
   "metadata": {
    "id": "8iJMtL-30eMl"
   },
   "source": [
    "##  Загрузка и первичный осмотр данных.\n"
   ]
  },
  {
   "cell_type": "code",
   "execution_count": 1,
   "metadata": {
    "id": "6TPR2-1RPboT"
   },
   "outputs": [],
   "source": [
    "import pandas as pd \n",
    "import matplotlib.pyplot as plt \n",
    "import scipy.stats as stats\n",
    "from scipy.stats import ttest_ind\n",
    "from statsmodels.stats.proportion import proportions_ztest\n",
    "from math import ceil \n",
    "from statsmodels.stats.power import NormalIndPower"
   ]
  },
  {
   "cell_type": "code",
   "execution_count": 2,
   "metadata": {},
   "outputs": [],
   "source": [
    "sessions_history = pd.read_csv('https://code.s3.yandex.net/datasets/sessions_project_history.csv')"
   ]
  },
  {
   "cell_type": "code",
   "execution_count": 3,
   "metadata": {},
   "outputs": [
    {
     "data": {
      "application/vnd.microsoft.datawrangler.viewer.v0+json": {
       "columns": [
        {
         "name": "index",
         "rawType": "int64",
         "type": "integer"
        },
        {
         "name": "user_id",
         "rawType": "object",
         "type": "string"
        },
        {
         "name": "session_id",
         "rawType": "object",
         "type": "string"
        },
        {
         "name": "session_date",
         "rawType": "object",
         "type": "string"
        },
        {
         "name": "session_start_ts",
         "rawType": "object",
         "type": "string"
        },
        {
         "name": "install_date",
         "rawType": "object",
         "type": "string"
        },
        {
         "name": "session_number",
         "rawType": "int64",
         "type": "integer"
        },
        {
         "name": "registration_flag",
         "rawType": "int64",
         "type": "integer"
        },
        {
         "name": "page_counter",
         "rawType": "int64",
         "type": "integer"
        },
        {
         "name": "region",
         "rawType": "object",
         "type": "string"
        },
        {
         "name": "device",
         "rawType": "object",
         "type": "string"
        }
       ],
       "conversionMethod": "pd.DataFrame",
       "ref": "cf4ad5fa-073e-40fe-8f3c-3a17ee4f93a8",
       "rows": [
        [
         "0",
         "E302123B7000BFE4",
         "F9AF61A0C2023832",
         "2025-08-15",
         "2025-08-15 17:47:35",
         "2025-08-15",
         "1",
         "0",
         "3",
         "CIS",
         "iPhone"
        ],
        [
         "1",
         "2530F72E221829FB",
         "85003A206CBDAC6F",
         "2025-08-15",
         "2025-08-15 16:42:14",
         "2025-08-15",
         "1",
         "0",
         "4",
         "MENA",
         "Android"
        ],
        [
         "2",
         "876E020A4FC512F5",
         "3677423E49D72DEE",
         "2025-08-15",
         "2025-08-15 12:30:00",
         "2025-08-15",
         "1",
         "0",
         "4",
         "EU",
         "PC"
        ],
        [
         "3",
         "2640B349E1D81584",
         "956B45F5915CA225",
         "2025-08-15",
         "2025-08-15 15:31:31",
         "2025-08-15",
         "1",
         "0",
         "4",
         "CIS",
         "Android"
        ],
        [
         "4",
         "94E1CBFAEF1F5EE9",
         "83BF0DA35F9F1F40",
         "2025-08-15",
         "2025-08-15 21:33:53",
         "2025-08-15",
         "1",
         "0",
         "3",
         "CIS",
         "Android"
        ]
       ],
       "shape": {
        "columns": 10,
        "rows": 5
       }
      },
      "text/html": [
       "<div>\n",
       "<style scoped>\n",
       "    .dataframe tbody tr th:only-of-type {\n",
       "        vertical-align: middle;\n",
       "    }\n",
       "\n",
       "    .dataframe tbody tr th {\n",
       "        vertical-align: top;\n",
       "    }\n",
       "\n",
       "    .dataframe thead th {\n",
       "        text-align: right;\n",
       "    }\n",
       "</style>\n",
       "<table border=\"1\" class=\"dataframe\">\n",
       "  <thead>\n",
       "    <tr style=\"text-align: right;\">\n",
       "      <th></th>\n",
       "      <th>user_id</th>\n",
       "      <th>session_id</th>\n",
       "      <th>session_date</th>\n",
       "      <th>session_start_ts</th>\n",
       "      <th>install_date</th>\n",
       "      <th>session_number</th>\n",
       "      <th>registration_flag</th>\n",
       "      <th>page_counter</th>\n",
       "      <th>region</th>\n",
       "      <th>device</th>\n",
       "    </tr>\n",
       "  </thead>\n",
       "  <tbody>\n",
       "    <tr>\n",
       "      <th>0</th>\n",
       "      <td>E302123B7000BFE4</td>\n",
       "      <td>F9AF61A0C2023832</td>\n",
       "      <td>2025-08-15</td>\n",
       "      <td>2025-08-15 17:47:35</td>\n",
       "      <td>2025-08-15</td>\n",
       "      <td>1</td>\n",
       "      <td>0</td>\n",
       "      <td>3</td>\n",
       "      <td>CIS</td>\n",
       "      <td>iPhone</td>\n",
       "    </tr>\n",
       "    <tr>\n",
       "      <th>1</th>\n",
       "      <td>2530F72E221829FB</td>\n",
       "      <td>85003A206CBDAC6F</td>\n",
       "      <td>2025-08-15</td>\n",
       "      <td>2025-08-15 16:42:14</td>\n",
       "      <td>2025-08-15</td>\n",
       "      <td>1</td>\n",
       "      <td>0</td>\n",
       "      <td>4</td>\n",
       "      <td>MENA</td>\n",
       "      <td>Android</td>\n",
       "    </tr>\n",
       "    <tr>\n",
       "      <th>2</th>\n",
       "      <td>876E020A4FC512F5</td>\n",
       "      <td>3677423E49D72DEE</td>\n",
       "      <td>2025-08-15</td>\n",
       "      <td>2025-08-15 12:30:00</td>\n",
       "      <td>2025-08-15</td>\n",
       "      <td>1</td>\n",
       "      <td>0</td>\n",
       "      <td>4</td>\n",
       "      <td>EU</td>\n",
       "      <td>PC</td>\n",
       "    </tr>\n",
       "    <tr>\n",
       "      <th>3</th>\n",
       "      <td>2640B349E1D81584</td>\n",
       "      <td>956B45F5915CA225</td>\n",
       "      <td>2025-08-15</td>\n",
       "      <td>2025-08-15 15:31:31</td>\n",
       "      <td>2025-08-15</td>\n",
       "      <td>1</td>\n",
       "      <td>0</td>\n",
       "      <td>4</td>\n",
       "      <td>CIS</td>\n",
       "      <td>Android</td>\n",
       "    </tr>\n",
       "    <tr>\n",
       "      <th>4</th>\n",
       "      <td>94E1CBFAEF1F5EE9</td>\n",
       "      <td>83BF0DA35F9F1F40</td>\n",
       "      <td>2025-08-15</td>\n",
       "      <td>2025-08-15 21:33:53</td>\n",
       "      <td>2025-08-15</td>\n",
       "      <td>1</td>\n",
       "      <td>0</td>\n",
       "      <td>3</td>\n",
       "      <td>CIS</td>\n",
       "      <td>Android</td>\n",
       "    </tr>\n",
       "  </tbody>\n",
       "</table>\n",
       "</div>"
      ],
      "text/plain": [
       "            user_id        session_id session_date     session_start_ts  \\\n",
       "0  E302123B7000BFE4  F9AF61A0C2023832   2025-08-15  2025-08-15 17:47:35   \n",
       "1  2530F72E221829FB  85003A206CBDAC6F   2025-08-15  2025-08-15 16:42:14   \n",
       "2  876E020A4FC512F5  3677423E49D72DEE   2025-08-15  2025-08-15 12:30:00   \n",
       "3  2640B349E1D81584  956B45F5915CA225   2025-08-15  2025-08-15 15:31:31   \n",
       "4  94E1CBFAEF1F5EE9  83BF0DA35F9F1F40   2025-08-15  2025-08-15 21:33:53   \n",
       "\n",
       "  install_date  session_number  registration_flag  page_counter region  \\\n",
       "0   2025-08-15               1                  0             3    CIS   \n",
       "1   2025-08-15               1                  0             4   MENA   \n",
       "2   2025-08-15               1                  0             4     EU   \n",
       "3   2025-08-15               1                  0             4    CIS   \n",
       "4   2025-08-15               1                  0             3    CIS   \n",
       "\n",
       "    device  \n",
       "0   iPhone  \n",
       "1  Android  \n",
       "2       PC  \n",
       "3  Android  \n",
       "4  Android  "
      ]
     },
     "execution_count": 3,
     "metadata": {},
     "output_type": "execute_result"
    }
   ],
   "source": [
    "sessions_history.head()"
   ]
  },
  {
   "cell_type": "code",
   "execution_count": 4,
   "metadata": {},
   "outputs": [
    {
     "data": {
      "application/vnd.microsoft.datawrangler.viewer.v0+json": {
       "columns": [
        {
         "name": "index",
         "rawType": "int64",
         "type": "integer"
        },
        {
         "name": "user_id",
         "rawType": "object",
         "type": "string"
        },
        {
         "name": "session_id",
         "rawType": "object",
         "type": "string"
        },
        {
         "name": "session_date",
         "rawType": "object",
         "type": "string"
        },
        {
         "name": "session_start_ts",
         "rawType": "object",
         "type": "string"
        },
        {
         "name": "install_date",
         "rawType": "object",
         "type": "string"
        },
        {
         "name": "session_number",
         "rawType": "int64",
         "type": "integer"
        },
        {
         "name": "registration_flag",
         "rawType": "int64",
         "type": "integer"
        },
        {
         "name": "page_counter",
         "rawType": "int64",
         "type": "integer"
        },
        {
         "name": "region",
         "rawType": "object",
         "type": "string"
        },
        {
         "name": "device",
         "rawType": "object",
         "type": "string"
        }
       ],
       "conversionMethod": "pd.DataFrame",
       "ref": "3de68449-c779-4df8-b137-f9afcaa4e2ab",
       "rows": [
        [
         "435919",
         "769BC199AF26FEF8",
         "914903B51D69C5EA",
         "2025-09-17",
         "2025-09-17 21:33:57",
         "2025-09-04",
         "3",
         "1",
         "3",
         "CIS",
         "PC"
        ],
        [
         "435920",
         "599DED39F3CD2ADE",
         "66ADBE343C94DCDA",
         "2025-09-17",
         "2025-09-17 17:11:46",
         "2025-09-04",
         "4",
         "0",
         "4",
         "MENA",
         "iPhone"
        ],
        [
         "435921",
         "1FA20C4BC94E64B2",
         "C4CCD7E81733665F",
         "2025-09-17",
         "2025-09-17 19:36:55",
         "2025-09-04",
         "4",
         "0",
         "4",
         "CIS",
         "Android"
        ],
        [
         "435922",
         "88E5FC3016A7A0AD",
         "6834FB4914B56200",
         "2025-09-17",
         "2025-09-17 22:13:33",
         "2025-09-04",
         "5",
         "0",
         "4",
         "MENA",
         "PC"
        ],
        [
         "435923",
         "5CC144801F7B0D1D",
         "8CC9E67AFF5D9CA8",
         "2025-09-17",
         "2025-09-17 15:23:46",
         "2025-09-04",
         "3",
         "0",
         "2",
         "MENA",
         "iPhone"
        ]
       ],
       "shape": {
        "columns": 10,
        "rows": 5
       }
      },
      "text/html": [
       "<div>\n",
       "<style scoped>\n",
       "    .dataframe tbody tr th:only-of-type {\n",
       "        vertical-align: middle;\n",
       "    }\n",
       "\n",
       "    .dataframe tbody tr th {\n",
       "        vertical-align: top;\n",
       "    }\n",
       "\n",
       "    .dataframe thead th {\n",
       "        text-align: right;\n",
       "    }\n",
       "</style>\n",
       "<table border=\"1\" class=\"dataframe\">\n",
       "  <thead>\n",
       "    <tr style=\"text-align: right;\">\n",
       "      <th></th>\n",
       "      <th>user_id</th>\n",
       "      <th>session_id</th>\n",
       "      <th>session_date</th>\n",
       "      <th>session_start_ts</th>\n",
       "      <th>install_date</th>\n",
       "      <th>session_number</th>\n",
       "      <th>registration_flag</th>\n",
       "      <th>page_counter</th>\n",
       "      <th>region</th>\n",
       "      <th>device</th>\n",
       "    </tr>\n",
       "  </thead>\n",
       "  <tbody>\n",
       "    <tr>\n",
       "      <th>435919</th>\n",
       "      <td>769BC199AF26FEF8</td>\n",
       "      <td>914903B51D69C5EA</td>\n",
       "      <td>2025-09-17</td>\n",
       "      <td>2025-09-17 21:33:57</td>\n",
       "      <td>2025-09-04</td>\n",
       "      <td>3</td>\n",
       "      <td>1</td>\n",
       "      <td>3</td>\n",
       "      <td>CIS</td>\n",
       "      <td>PC</td>\n",
       "    </tr>\n",
       "    <tr>\n",
       "      <th>435920</th>\n",
       "      <td>599DED39F3CD2ADE</td>\n",
       "      <td>66ADBE343C94DCDA</td>\n",
       "      <td>2025-09-17</td>\n",
       "      <td>2025-09-17 17:11:46</td>\n",
       "      <td>2025-09-04</td>\n",
       "      <td>4</td>\n",
       "      <td>0</td>\n",
       "      <td>4</td>\n",
       "      <td>MENA</td>\n",
       "      <td>iPhone</td>\n",
       "    </tr>\n",
       "    <tr>\n",
       "      <th>435921</th>\n",
       "      <td>1FA20C4BC94E64B2</td>\n",
       "      <td>C4CCD7E81733665F</td>\n",
       "      <td>2025-09-17</td>\n",
       "      <td>2025-09-17 19:36:55</td>\n",
       "      <td>2025-09-04</td>\n",
       "      <td>4</td>\n",
       "      <td>0</td>\n",
       "      <td>4</td>\n",
       "      <td>CIS</td>\n",
       "      <td>Android</td>\n",
       "    </tr>\n",
       "    <tr>\n",
       "      <th>435922</th>\n",
       "      <td>88E5FC3016A7A0AD</td>\n",
       "      <td>6834FB4914B56200</td>\n",
       "      <td>2025-09-17</td>\n",
       "      <td>2025-09-17 22:13:33</td>\n",
       "      <td>2025-09-04</td>\n",
       "      <td>5</td>\n",
       "      <td>0</td>\n",
       "      <td>4</td>\n",
       "      <td>MENA</td>\n",
       "      <td>PC</td>\n",
       "    </tr>\n",
       "    <tr>\n",
       "      <th>435923</th>\n",
       "      <td>5CC144801F7B0D1D</td>\n",
       "      <td>8CC9E67AFF5D9CA8</td>\n",
       "      <td>2025-09-17</td>\n",
       "      <td>2025-09-17 15:23:46</td>\n",
       "      <td>2025-09-04</td>\n",
       "      <td>3</td>\n",
       "      <td>0</td>\n",
       "      <td>2</td>\n",
       "      <td>MENA</td>\n",
       "      <td>iPhone</td>\n",
       "    </tr>\n",
       "  </tbody>\n",
       "</table>\n",
       "</div>"
      ],
      "text/plain": [
       "                 user_id        session_id session_date     session_start_ts  \\\n",
       "435919  769BC199AF26FEF8  914903B51D69C5EA   2025-09-17  2025-09-17 21:33:57   \n",
       "435920  599DED39F3CD2ADE  66ADBE343C94DCDA   2025-09-17  2025-09-17 17:11:46   \n",
       "435921  1FA20C4BC94E64B2  C4CCD7E81733665F   2025-09-17  2025-09-17 19:36:55   \n",
       "435922  88E5FC3016A7A0AD  6834FB4914B56200   2025-09-17  2025-09-17 22:13:33   \n",
       "435923  5CC144801F7B0D1D  8CC9E67AFF5D9CA8   2025-09-17  2025-09-17 15:23:46   \n",
       "\n",
       "       install_date  session_number  registration_flag  page_counter region  \\\n",
       "435919   2025-09-04               3                  1             3    CIS   \n",
       "435920   2025-09-04               4                  0             4   MENA   \n",
       "435921   2025-09-04               4                  0             4    CIS   \n",
       "435922   2025-09-04               5                  0             4   MENA   \n",
       "435923   2025-09-04               3                  0             2   MENA   \n",
       "\n",
       "         device  \n",
       "435919       PC  \n",
       "435920   iPhone  \n",
       "435921  Android  \n",
       "435922       PC  \n",
       "435923   iPhone  "
      ]
     },
     "execution_count": 4,
     "metadata": {},
     "output_type": "execute_result"
    }
   ],
   "source": [
    "sessions_history.tail()"
   ]
  },
  {
   "cell_type": "code",
   "execution_count": 5,
   "metadata": {},
   "outputs": [
    {
     "name": "stdout",
     "output_type": "stream",
     "text": [
      "<class 'pandas.core.frame.DataFrame'>\n",
      "RangeIndex: 435924 entries, 0 to 435923\n",
      "Data columns (total 10 columns):\n",
      " #   Column             Non-Null Count   Dtype \n",
      "---  ------             --------------   ----- \n",
      " 0   user_id            435924 non-null  object\n",
      " 1   session_id         435924 non-null  object\n",
      " 2   session_date       435924 non-null  object\n",
      " 3   session_start_ts   435924 non-null  object\n",
      " 4   install_date       435924 non-null  object\n",
      " 5   session_number     435924 non-null  int64 \n",
      " 6   registration_flag  435924 non-null  int64 \n",
      " 7   page_counter       435924 non-null  int64 \n",
      " 8   region             435924 non-null  object\n",
      " 9   device             435924 non-null  object\n",
      "dtypes: int64(3), object(7)\n",
      "memory usage: 33.3+ MB\n"
     ]
    }
   ],
   "source": [
    "sessions_history.info()"
   ]
  },
  {
   "cell_type": "markdown",
   "metadata": {
    "id": "qTDoiODz0eMo"
   },
   "source": [
    "### Поиск числа уникальных сессий для каждого клиента "
   ]
  },
  {
   "cell_type": "code",
   "execution_count": 6,
   "metadata": {},
   "outputs": [
    {
     "data": {
      "text/plain": [
       "user_id\n",
       "10E0DEFC1ABDBBE0    10\n",
       "6A73CB5566BB494D    10\n",
       "D11541BAC141FB94     9\n",
       "E8ADFF2913E86056     9\n",
       "FA752AB58040C361     9\n",
       "Name: session_id, dtype: int64"
      ]
     },
     "execution_count": 6,
     "metadata": {},
     "output_type": "execute_result"
    }
   ],
   "source": [
    "unique_session_count = sessions_history.groupby('user_id')['session_id'].nunique().sort_values(ascending = False)\n",
    "unique_session_count.head()"
   ]
  },
  {
   "cell_type": "code",
   "execution_count": 7,
   "metadata": {
    "id": "PWZO9vTIPbPN"
   },
   "outputs": [
    {
     "data": {
      "application/vnd.microsoft.datawrangler.viewer.v0+json": {
       "columns": [
        {
         "name": "index",
         "rawType": "int64",
         "type": "integer"
        },
        {
         "name": "user_id",
         "rawType": "object",
         "type": "string"
        },
        {
         "name": "session_id",
         "rawType": "object",
         "type": "string"
        },
        {
         "name": "session_date",
         "rawType": "object",
         "type": "string"
        },
        {
         "name": "session_start_ts",
         "rawType": "object",
         "type": "string"
        },
        {
         "name": "install_date",
         "rawType": "object",
         "type": "string"
        },
        {
         "name": "session_number",
         "rawType": "int64",
         "type": "integer"
        },
        {
         "name": "registration_flag",
         "rawType": "int64",
         "type": "integer"
        },
        {
         "name": "page_counter",
         "rawType": "int64",
         "type": "integer"
        },
        {
         "name": "region",
         "rawType": "object",
         "type": "string"
        },
        {
         "name": "device",
         "rawType": "object",
         "type": "string"
        }
       ],
       "conversionMethod": "pd.DataFrame",
       "ref": "dea99444-1e41-4808-ac0d-107da6575272",
       "rows": [
        [
         "0",
         "10E0DEFC1ABDBBE0",
         "B8F0423BBFFCF5DC",
         "2025-08-14",
         "2025-08-14 13:57:39",
         "2025-08-14",
         "1",
         "0",
         "4",
         "CIS",
         "Android"
        ],
        [
         "1",
         "10E0DEFC1ABDBBE0",
         "87CA2FA549473837",
         "2025-08-15",
         "2025-08-15 16:42:10",
         "2025-08-14",
         "2",
         "0",
         "3",
         "CIS",
         "Android"
        ],
        [
         "2",
         "10E0DEFC1ABDBBE0",
         "4ADD8011DCDCE318",
         "2025-08-16",
         "2025-08-16 19:53:21",
         "2025-08-14",
         "3",
         "0",
         "3",
         "CIS",
         "Android"
        ],
        [
         "3",
         "10E0DEFC1ABDBBE0",
         "DF0FD0E09BF1F3D7",
         "2025-08-17",
         "2025-08-17 15:03:43",
         "2025-08-14",
         "4",
         "0",
         "1",
         "CIS",
         "Android"
        ],
        [
         "4",
         "10E0DEFC1ABDBBE0",
         "3C221774B4DE6885",
         "2025-08-18",
         "2025-08-18 17:29:14",
         "2025-08-14",
         "5",
         "0",
         "4",
         "CIS",
         "Android"
        ],
        [
         "5",
         "10E0DEFC1ABDBBE0",
         "031BD7A67048105B",
         "2025-08-19",
         "2025-08-19 13:23:55",
         "2025-08-14",
         "6",
         "0",
         "2",
         "CIS",
         "Android"
        ],
        [
         "6",
         "10E0DEFC1ABDBBE0",
         "FF4315CF4AD4B100",
         "2025-08-20",
         "2025-08-20 19:31:54",
         "2025-08-14",
         "7",
         "0",
         "2",
         "CIS",
         "Android"
        ],
        [
         "7",
         "10E0DEFC1ABDBBE0",
         "4045FEA0747203B4",
         "2025-08-22",
         "2025-08-22 17:54:13",
         "2025-08-14",
         "8",
         "0",
         "2",
         "CIS",
         "Android"
        ],
        [
         "8",
         "10E0DEFC1ABDBBE0",
         "344B086C421C7F37",
         "2025-08-24",
         "2025-08-24 14:46:13",
         "2025-08-14",
         "9",
         "0",
         "2",
         "CIS",
         "Android"
        ],
        [
         "9",
         "10E0DEFC1ABDBBE0",
         "054F20BA371E4C9D",
         "2025-08-25",
         "2025-08-25 18:36:41",
         "2025-08-14",
         "10",
         "0",
         "3",
         "CIS",
         "Android"
        ]
       ],
       "shape": {
        "columns": 10,
        "rows": 10
       }
      },
      "text/html": [
       "<div>\n",
       "<style scoped>\n",
       "    .dataframe tbody tr th:only-of-type {\n",
       "        vertical-align: middle;\n",
       "    }\n",
       "\n",
       "    .dataframe tbody tr th {\n",
       "        vertical-align: top;\n",
       "    }\n",
       "\n",
       "    .dataframe thead th {\n",
       "        text-align: right;\n",
       "    }\n",
       "</style>\n",
       "<table border=\"1\" class=\"dataframe\">\n",
       "  <thead>\n",
       "    <tr style=\"text-align: right;\">\n",
       "      <th></th>\n",
       "      <th>user_id</th>\n",
       "      <th>session_id</th>\n",
       "      <th>session_date</th>\n",
       "      <th>session_start_ts</th>\n",
       "      <th>install_date</th>\n",
       "      <th>session_number</th>\n",
       "      <th>registration_flag</th>\n",
       "      <th>page_counter</th>\n",
       "      <th>region</th>\n",
       "      <th>device</th>\n",
       "    </tr>\n",
       "  </thead>\n",
       "  <tbody>\n",
       "    <tr>\n",
       "      <th>0</th>\n",
       "      <td>10E0DEFC1ABDBBE0</td>\n",
       "      <td>B8F0423BBFFCF5DC</td>\n",
       "      <td>2025-08-14</td>\n",
       "      <td>2025-08-14 13:57:39</td>\n",
       "      <td>2025-08-14</td>\n",
       "      <td>1</td>\n",
       "      <td>0</td>\n",
       "      <td>4</td>\n",
       "      <td>CIS</td>\n",
       "      <td>Android</td>\n",
       "    </tr>\n",
       "    <tr>\n",
       "      <th>1</th>\n",
       "      <td>10E0DEFC1ABDBBE0</td>\n",
       "      <td>87CA2FA549473837</td>\n",
       "      <td>2025-08-15</td>\n",
       "      <td>2025-08-15 16:42:10</td>\n",
       "      <td>2025-08-14</td>\n",
       "      <td>2</td>\n",
       "      <td>0</td>\n",
       "      <td>3</td>\n",
       "      <td>CIS</td>\n",
       "      <td>Android</td>\n",
       "    </tr>\n",
       "    <tr>\n",
       "      <th>2</th>\n",
       "      <td>10E0DEFC1ABDBBE0</td>\n",
       "      <td>4ADD8011DCDCE318</td>\n",
       "      <td>2025-08-16</td>\n",
       "      <td>2025-08-16 19:53:21</td>\n",
       "      <td>2025-08-14</td>\n",
       "      <td>3</td>\n",
       "      <td>0</td>\n",
       "      <td>3</td>\n",
       "      <td>CIS</td>\n",
       "      <td>Android</td>\n",
       "    </tr>\n",
       "    <tr>\n",
       "      <th>3</th>\n",
       "      <td>10E0DEFC1ABDBBE0</td>\n",
       "      <td>DF0FD0E09BF1F3D7</td>\n",
       "      <td>2025-08-17</td>\n",
       "      <td>2025-08-17 15:03:43</td>\n",
       "      <td>2025-08-14</td>\n",
       "      <td>4</td>\n",
       "      <td>0</td>\n",
       "      <td>1</td>\n",
       "      <td>CIS</td>\n",
       "      <td>Android</td>\n",
       "    </tr>\n",
       "    <tr>\n",
       "      <th>4</th>\n",
       "      <td>10E0DEFC1ABDBBE0</td>\n",
       "      <td>3C221774B4DE6885</td>\n",
       "      <td>2025-08-18</td>\n",
       "      <td>2025-08-18 17:29:14</td>\n",
       "      <td>2025-08-14</td>\n",
       "      <td>5</td>\n",
       "      <td>0</td>\n",
       "      <td>4</td>\n",
       "      <td>CIS</td>\n",
       "      <td>Android</td>\n",
       "    </tr>\n",
       "    <tr>\n",
       "      <th>5</th>\n",
       "      <td>10E0DEFC1ABDBBE0</td>\n",
       "      <td>031BD7A67048105B</td>\n",
       "      <td>2025-08-19</td>\n",
       "      <td>2025-08-19 13:23:55</td>\n",
       "      <td>2025-08-14</td>\n",
       "      <td>6</td>\n",
       "      <td>0</td>\n",
       "      <td>2</td>\n",
       "      <td>CIS</td>\n",
       "      <td>Android</td>\n",
       "    </tr>\n",
       "    <tr>\n",
       "      <th>6</th>\n",
       "      <td>10E0DEFC1ABDBBE0</td>\n",
       "      <td>FF4315CF4AD4B100</td>\n",
       "      <td>2025-08-20</td>\n",
       "      <td>2025-08-20 19:31:54</td>\n",
       "      <td>2025-08-14</td>\n",
       "      <td>7</td>\n",
       "      <td>0</td>\n",
       "      <td>2</td>\n",
       "      <td>CIS</td>\n",
       "      <td>Android</td>\n",
       "    </tr>\n",
       "    <tr>\n",
       "      <th>7</th>\n",
       "      <td>10E0DEFC1ABDBBE0</td>\n",
       "      <td>4045FEA0747203B4</td>\n",
       "      <td>2025-08-22</td>\n",
       "      <td>2025-08-22 17:54:13</td>\n",
       "      <td>2025-08-14</td>\n",
       "      <td>8</td>\n",
       "      <td>0</td>\n",
       "      <td>2</td>\n",
       "      <td>CIS</td>\n",
       "      <td>Android</td>\n",
       "    </tr>\n",
       "    <tr>\n",
       "      <th>8</th>\n",
       "      <td>10E0DEFC1ABDBBE0</td>\n",
       "      <td>344B086C421C7F37</td>\n",
       "      <td>2025-08-24</td>\n",
       "      <td>2025-08-24 14:46:13</td>\n",
       "      <td>2025-08-14</td>\n",
       "      <td>9</td>\n",
       "      <td>0</td>\n",
       "      <td>2</td>\n",
       "      <td>CIS</td>\n",
       "      <td>Android</td>\n",
       "    </tr>\n",
       "    <tr>\n",
       "      <th>9</th>\n",
       "      <td>10E0DEFC1ABDBBE0</td>\n",
       "      <td>054F20BA371E4C9D</td>\n",
       "      <td>2025-08-25</td>\n",
       "      <td>2025-08-25 18:36:41</td>\n",
       "      <td>2025-08-14</td>\n",
       "      <td>10</td>\n",
       "      <td>0</td>\n",
       "      <td>3</td>\n",
       "      <td>CIS</td>\n",
       "      <td>Android</td>\n",
       "    </tr>\n",
       "  </tbody>\n",
       "</table>\n",
       "</div>"
      ],
      "text/plain": [
       "            user_id        session_id session_date     session_start_ts  \\\n",
       "0  10E0DEFC1ABDBBE0  B8F0423BBFFCF5DC   2025-08-14  2025-08-14 13:57:39   \n",
       "1  10E0DEFC1ABDBBE0  87CA2FA549473837   2025-08-15  2025-08-15 16:42:10   \n",
       "2  10E0DEFC1ABDBBE0  4ADD8011DCDCE318   2025-08-16  2025-08-16 19:53:21   \n",
       "3  10E0DEFC1ABDBBE0  DF0FD0E09BF1F3D7   2025-08-17  2025-08-17 15:03:43   \n",
       "4  10E0DEFC1ABDBBE0  3C221774B4DE6885   2025-08-18  2025-08-18 17:29:14   \n",
       "5  10E0DEFC1ABDBBE0  031BD7A67048105B   2025-08-19  2025-08-19 13:23:55   \n",
       "6  10E0DEFC1ABDBBE0  FF4315CF4AD4B100   2025-08-20  2025-08-20 19:31:54   \n",
       "7  10E0DEFC1ABDBBE0  4045FEA0747203B4   2025-08-22  2025-08-22 17:54:13   \n",
       "8  10E0DEFC1ABDBBE0  344B086C421C7F37   2025-08-24  2025-08-24 14:46:13   \n",
       "9  10E0DEFC1ABDBBE0  054F20BA371E4C9D   2025-08-25  2025-08-25 18:36:41   \n",
       "\n",
       "  install_date  session_number  registration_flag  page_counter region  \\\n",
       "0   2025-08-14               1                  0             4    CIS   \n",
       "1   2025-08-14               2                  0             3    CIS   \n",
       "2   2025-08-14               3                  0             3    CIS   \n",
       "3   2025-08-14               4                  0             1    CIS   \n",
       "4   2025-08-14               5                  0             4    CIS   \n",
       "5   2025-08-14               6                  0             2    CIS   \n",
       "6   2025-08-14               7                  0             2    CIS   \n",
       "7   2025-08-14               8                  0             2    CIS   \n",
       "8   2025-08-14               9                  0             2    CIS   \n",
       "9   2025-08-14              10                  0             3    CIS   \n",
       "\n",
       "    device  \n",
       "0  Android  \n",
       "1  Android  \n",
       "2  Android  \n",
       "3  Android  \n",
       "4  Android  \n",
       "5  Android  \n",
       "6  Android  \n",
       "7  Android  \n",
       "8  Android  \n",
       "9  Android  "
      ]
     },
     "metadata": {},
     "output_type": "display_data"
    }
   ],
   "source": [
    "max_session_user_info = sessions_history[(sessions_history['user_id'] == '10E0DEFC1ABDBBE0')].reset_index(drop = True)\n",
    "display(max_session_user_info)"
   ]
  },
  {
   "cell_type": "markdown",
   "metadata": {
    "id": "CmcGpJTP0eMq"
   },
   "source": [
    "### Анализ числа регистраций"
   ]
  },
  {
   "cell_type": "code",
   "execution_count": 8,
   "metadata": {},
   "outputs": [],
   "source": [
    "num_unique_users = sessions_history.groupby('session_date')['user_id'].nunique()\n",
    "\n",
    "regis_num_users = sessions_history[(sessions_history['registration_flag'] == 1)].groupby('session_date')['user_id'].nunique()"
   ]
  },
  {
   "cell_type": "code",
   "execution_count": 9,
   "metadata": {
    "id": "tN_6Ml3EPatS"
   },
   "outputs": [
    {
     "data": {
      "image/png": "[encoded data removed]",
      "text/plain": [
       "<Figure size 1500x800 with 1 Axes>"
      ]
     },
     "metadata": {},
     "output_type": "display_data"
    }
   ],
   "source": [
    "plt.figure(figsize=(15, 8))\n",
    "\n",
    "plt.plot(num_unique_users.index,\n",
    "         num_unique_users,\n",
    "         marker='o',\n",
    "         linestyle='-',\n",
    "         color='indianred',\n",
    "         label ='Все пользователи')\n",
    "\n",
    "plt.plot(regis_num_users.index,\n",
    "         regis_num_users,\n",
    "         marker='o',\n",
    "         linestyle='-',\n",
    "         color='cornflowerblue',\n",
    "         label ='Зарегистрированные пользователи')\n",
    "\n",
    "plt.title('Сравнение общего числа пользователей и общего числа зарегистрированных пользователей по дням')\n",
    "plt.xlabel('Дата')\n",
    "plt.ylabel('Количество пользователей')\n",
    "plt.legend()\n",
    "plt.xticks(rotation=90)\n",
    "plt.grid(True)\n",
    "\n",
    "plt.show()"
   ]
  },
  {
   "cell_type": "markdown",
   "metadata": {},
   "source": [
    "### Аналитические выводы по общему числу пользователей и зарегистрированных пользователей\n",
    "\n",
    "- Общее число пользователей\n",
    "    - В период с 11 августа по 23 августа наблюдается стабильный рост, достигая пика в 17 563 пользователя (22 августа).\n",
    "    - После 11 сентября начинается снижение, особенно заметное после 16 сентября, когда трафик падает ниже 3000 пользователей в день.\n",
    "    - К 23 сентября активность почти сходит на нет (317 пользователей).\n",
    "    \n",
    "    \n",
    "- Общее число зарегистрированных пользователей\n",
    "    - Динамика регистраций в целом повторяет общий трафик.\n",
    "    - Пик зарегистрированных пользователей — 1253 регистрации (22 августа).\n",
    "    - После 11 сентября число регистраций снижается, к 23 сентября фиксируется всего 32 регистрации.\n",
    " ---   "
   ]
  },
  {
   "cell_type": "code",
   "execution_count": 10,
   "metadata": {
    "scrolled": false
   },
   "outputs": [
    {
     "data": {
      "image/png": "[encoded data removed]",
      "text/plain": [
       "<Figure size 1500x800 with 1 Axes>"
      ]
     },
     "metadata": {},
     "output_type": "display_data"
    }
   ],
   "source": [
    "registered_ratio = regis_num_users / num_unique_users\n",
    "\n",
    "plt.figure(figsize=(15, 8))\n",
    "plt.plot(registered_ratio.index,\n",
    "         registered_ratio,\n",
    "         marker='o',\n",
    "         linestyle='-',\n",
    "         color='cornflowerblue',\n",
    "         label='Доля зарегистрированных')\n",
    "\n",
    "plt.title('Доля зарегистрированных пользователей по дням')\n",
    "plt.xlabel('Дата')\n",
    "plt.ylabel('Доля зарегистрированных пользователей')\n",
    "plt.legend()\n",
    "plt.xticks(rotation=90, ha='right') \n",
    "plt.grid(True)\n",
    "\n",
    "plt.show()"
   ]
  },
  {
   "cell_type": "markdown",
   "metadata": {},
   "source": [
    "### Аналитические выводы по доле зарегистрированных пользователей\n",
    "\n",
    "- Общий тренд\n",
    "    - В первые недели (с 11 августа по 10 сентября) доля зарегистрированных пользователей варьируется от 4% до 8%, с небольшими колебаниями.\n",
    "    - После 11 сентября начинается рост, достигая максимума 12.4% (22 сентября).\n",
    "    \n",
    "    \n",
    "- Ключевые моменты\n",
    "\n",
    "    - Стабильный рост в конце августа: вероятно, связано с улучшением пользовательского опыта или внешними факторами (маркетинговая активность).\n",
    "    - Резкий рост после 11 сентября: возможно, снижение общего трафика повлияло на повышение регистраций среди оставшихся активных пользователей.\n",
    "\n",
    "---"
   ]
  },
  {
   "cell_type": "markdown",
   "metadata": {
    "id": "UR7D7RhF0eMr"
   },
   "source": [
    "### Анализ числа просмотренных страниц"
   ]
  },
  {
   "cell_type": "code",
   "execution_count": 11,
   "metadata": {
    "id": "cb6hPlVzPaSf"
   },
   "outputs": [
    {
     "data": {
      "text/plain": [
       "page_counter\n",
       "1     29160\n",
       "2    105536\n",
       "3    166690\n",
       "4    105569\n",
       "5     26288\n",
       "6      2589\n",
       "7        92\n",
       "Name: session_id, dtype: int64"
      ]
     },
     "metadata": {},
     "output_type": "display_data"
    }
   ],
   "source": [
    "page_info = sessions_history.groupby('page_counter')['session_id'].count()\n",
    "display(page_info)"
   ]
  },
  {
   "cell_type": "code",
   "execution_count": 12,
   "metadata": {},
   "outputs": [
    {
     "data": {
      "image/png": "[encoded data removed]",
      "text/plain": [
       "<Figure size 1500x800 with 1 Axes>"
      ]
     },
     "metadata": {},
     "output_type": "display_data"
    }
   ],
   "source": [
    "aa = page_info.plot( \n",
    "               kind='bar',\n",
    "               figsize = (15,8),\n",
    "               color='cornflowerblue',\n",
    "               edgecolor='black'\n",
    ")\n",
    "\n",
    "for container in aa.patches:\n",
    "    height = container.get_height()\n",
    "    x = container.get_x() + container.get_width() / 2 \n",
    "    aa.text(x, height + 1, str(int(height)), ha='center', fontsize=10)\n",
    "    \n",
    "plt.title('Распределение сессий по количеству просмотренных страниц', fontsize=14)\n",
    "plt.xlabel('Число просмотренных страниц', fontsize=12)\n",
    "plt.ylabel('Количество сессий', fontsize=12)\n",
    "plt.xticks(rotation=0, ha='right')\n",
    "plt.grid(axis='y', linestyle='--', alpha=0.5)\n",
    "\n",
    "plt.show()"
   ]
  },
  {
   "cell_type": "markdown",
   "metadata": {
    "id": "xDltSpVP0eMr"
   },
   "source": [
    "### Доля пользователей, просмотревших более четырёх страниц"
   ]
  },
  {
   "cell_type": "code",
   "execution_count": 13,
   "metadata": {
    "id": "iygaPfixPYMW"
   },
   "outputs": [],
   "source": [
    "sessions_history['good_session'] = (sessions_history['page_counter'] >= 4).astype(int)"
   ]
  },
  {
   "cell_type": "code",
   "execution_count": 14,
   "metadata": {},
   "outputs": [
    {
     "data": {
      "image/png": "[encoded data removed]",
      "text/plain": [
       "<Figure size 1500x800 with 1 Axes>"
      ]
     },
     "metadata": {},
     "output_type": "display_data"
    }
   ],
   "source": [
    "daily_sessions = sessions_history.groupby('session_date').agg(\n",
    "    session_count=('session_id', 'count'),\n",
    "    good_count=('good_session', 'sum')\n",
    ")\n",
    "\n",
    "daily_sessions['good_ratio'] = daily_sessions['good_count'] / daily_sessions['session_count']\n",
    "\n",
    "plt.figure(figsize=(15, 8))\n",
    "plt.plot(daily_sessions.index, \n",
    "         daily_sessions['good_ratio'], \n",
    "         marker='o', \n",
    "         linestyle='-', \n",
    "         color='cornflowerblue', \n",
    "         label='Доля успешных сессий')\n",
    "\n",
    "plt.title('Средняя доля успешных сессий по дням')\n",
    "plt.xlabel('Дата')\n",
    "plt.ylabel('Доля успешных сессий')\n",
    "plt.legend()\n",
    "plt.xticks(rotation=90, ha='right')\n",
    "plt.grid(True)\n",
    "\n",
    "plt.show()"
   ]
  },
  {
   "cell_type": "markdown",
   "metadata": {},
   "source": [
    "### Аналитические выводы\n",
    "\n",
    "- Общий уровень вовлечённости\n",
    "    - Доля пользователей, просмотревших более 4 страниц, колеблется в пределах ~29%–32%.\n",
    "    - Среднее значение остается стабильным, без резких скачков.\n",
    "    \n",
    "    \n",
    "- Тренды\n",
    "    - Пиковые значения: 2025-09-17 (32.03%), 2025-09-19 (31.81%).\n",
    "    - Минимальные значения: 2025-09-21 (28.87%), 2025-09-18 (29.25%).\n",
    "    - В целом, доля удерживается в пределах 30%, но есть небольшие колебания."
   ]
  },
  {
   "cell_type": "markdown",
   "metadata": {
    "id": "21JcG77Y0eMt"
   },
   "source": [
    "## Подготовка к тесту\n"
   ]
  },
  {
   "cell_type": "markdown",
   "metadata": {
    "id": "uzaeln270eMt"
   },
   "source": [
    "###  Расчёт размера выборки"
   ]
  },
  {
   "cell_type": "code",
   "execution_count": 15,
   "metadata": {
    "id": "zSxJyPGPNdaI"
   },
   "outputs": [
    {
     "name": "stdout",
     "output_type": "stream",
     "text": [
      "Необходимый размер выборки для каждой группы: 17441\n"
     ]
    }
   ],
   "source": [
    "alpha = 0.05\n",
    "beta = 0.2 \n",
    "power = 1 - beta\n",
    "mde = 0.03\n",
    "\n",
    "power_analysis = NormalIndPower()\n",
    "\n",
    "sample_size = power_analysis.solve_power(\n",
    "    effect_size = mde,\n",
    "    power = power,\n",
    "    alpha = alpha,\n",
    "    ratio = 1\n",
    ")\n",
    "\n",
    "print(f'Необходимый размер выборки для каждой группы: {int(sample_size)}')"
   ]
  },
  {
   "cell_type": "markdown",
   "metadata": {
    "id": "qLEv4RoV0eMu"
   },
   "source": [
    "### Расчёт длительности A/B-теста"
   ]
  },
  {
   "cell_type": "code",
   "execution_count": 16,
   "metadata": {
    "id": "KZDRbryDOGHa"
   },
   "outputs": [
    {
     "name": "stdout",
     "output_type": "stream",
     "text": [
      "Рассчитанная длительность A/B-теста при текущем уровене трафика в 9907 пользователей в день составит 4 дня\n"
     ]
    }
   ],
   "source": [
    "avg_daily_users = round(num_unique_users.mean())\n",
    "test_duration = ceil((2*sample_size) / avg_daily_users)\n",
    "\n",
    "print(f\"Рассчитанная длительность A/B-теста при текущем уровене трафика в {avg_daily_users} пользователей в день составит {test_duration} дня\")"
   ]
  },
  {
   "cell_type": "markdown",
   "metadata": {
    "id": "ZuvtAdha0eMv"
   },
   "source": [
    "## Мониторинг А/В-теста"
   ]
  },
  {
   "cell_type": "markdown",
   "metadata": {
    "id": "jq5sE3Ya0eMv"
   },
   "source": [
    "### Проверка распределения пользователей"
   ]
  },
  {
   "cell_type": "code",
   "execution_count": 17,
   "metadata": {
    "id": "G1bqIzDJOUiz",
    "scrolled": false
   },
   "outputs": [],
   "source": [
    "sessions_test_part = pd.read_csv('https://code.s3.yandex.net/datasets/sessions_project_test_part.csv')"
   ]
  },
  {
   "cell_type": "code",
   "execution_count": 18,
   "metadata": {},
   "outputs": [],
   "source": [
    "a_group = sessions_test_part[(sessions_test_part['test_group'] == 'A')]\n",
    "b_group = sessions_test_part[(sessions_test_part['test_group'] == 'B')]"
   ]
  },
  {
   "cell_type": "code",
   "execution_count": 19,
   "metadata": {},
   "outputs": [
    {
     "name": "stdout",
     "output_type": "stream",
     "text": [
      "Количество уникальных пользователей в группе А: 1477\n",
      "Количество уникальных пользователей в группе B: 1466\n"
     ]
    }
   ],
   "source": [
    "a_count = a_group['user_id'].nunique()\n",
    "b_count = b_group['user_id'].nunique()\n",
    "print(f'Количество уникальных пользователей в группе А: {a_count}')\n",
    "print(f'Количество уникальных пользователей в группе B: {b_count}')"
   ]
  },
  {
   "cell_type": "code",
   "execution_count": 20,
   "metadata": {},
   "outputs": [
    {
     "name": "stdout",
     "output_type": "stream",
     "text": [
      "Процентная разница в количестве пользователей в группе А: 50.2\n",
      "Процентная разница в количестве пользователей в группе B: 49.8\n"
     ]
    }
   ],
   "source": [
    "a_perc = 100 * a_count / sessions_test_part['user_id'].nunique()\n",
    "b_perc = 100 * b_count / sessions_test_part['user_id'].nunique()\n",
    "print(f'Процентная разница в количестве пользователей в группе А: {a_perc:.1f}')\n",
    "print(f'Процентная разница в количестве пользователей в группе B: {b_perc:.1f}')"
   ]
  },
  {
   "cell_type": "code",
   "execution_count": 21,
   "metadata": {},
   "outputs": [
    {
     "data": {
      "text/plain": [
       "<function matplotlib.pyplot.show(close=None, block=None)>"
      ]
     },
     "execution_count": 21,
     "metadata": {},
     "output_type": "execute_result"
    },
    {
     "data": {
      "image/png": "[encoded data removed]",
      "text/plain": [
       "<Figure size 1200x600 with 1 Axes>"
      ]
     },
     "metadata": {},
     "output_type": "display_data"
    }
   ],
   "source": [
    "users_test_count =  sessions_test_part.groupby('test_group')['user_id'].nunique()\n",
    "users_test_count.plot(kind='pie',\n",
    "                  figsize = (12,6),\n",
    "                  labels=['Группа A', 'Группа В'],\n",
    "                  autopct='%1.1f%%',\n",
    "                  startangle=140,\n",
    "                  colors=['indianred', 'cornflowerblue']\n",
    ")\n",
    "plt.title('Соотношение групп', fontsize=14)\n",
    "plt.ylabel('')\n",
    "plt.show"
   ]
  },
  {
   "cell_type": "markdown",
   "metadata": {
    "id": "sgpNY5bv0eM0"
   },
   "source": [
    "### Проверка пересечений пользователей"
   ]
  },
  {
   "cell_type": "code",
   "execution_count": 22,
   "metadata": {},
   "outputs": [
    {
     "name": "stdout",
     "output_type": "stream",
     "text": [
      "Количество пользователей, которые встречаются одновременно в группах A и B: 0\n"
     ]
    }
   ],
   "source": [
    "a_users = a_group['user_id']\n",
    "b_users = b_group['user_id']\n",
    "\n",
    "intersection = set(a_users) & set(b_users)\n",
    "\n",
    "print(f'Количество пользователей, которые встречаются одновременно в группах A и B: {len(intersection)}')"
   ]
  },
  {
   "cell_type": "markdown",
   "metadata": {
    "id": "6RvkNLrg0eM1"
   },
   "source": [
    "###  Равномерность разделения пользователей по устройствам"
   ]
  },
  {
   "cell_type": "code",
   "execution_count": 23,
   "metadata": {},
   "outputs": [
    {
     "name": "stdout",
     "output_type": "stream",
     "text": [
      "Количество каждого типа устройства для пользователей из группы A:\n"
     ]
    },
    {
     "data": {
      "text/plain": [
       "device\n",
       "Android    656\n",
       "Mac        156\n",
       "PC         369\n",
       "iPhone     296\n",
       "Name: user_id, dtype: int64"
      ]
     },
     "metadata": {},
     "output_type": "display_data"
    },
    {
     "data": {
      "image/png": "[encoded data removed]",
      "text/plain": [
       "<Figure size 800x800 with 1 Axes>"
      ]
     },
     "metadata": {},
     "output_type": "display_data"
    }
   ],
   "source": [
    "a_device = a_group.groupby('device')['user_id'].nunique()\n",
    "\n",
    "a_device.plot(kind='pie',\n",
    "                     figsize = (8,8),\n",
    "                     autopct='%1.1f%%',\n",
    "                     startangle=140,\n",
    "                     colors=plt.cm.Paired.colors)\n",
    "plt.title('Доля каждого типа устройства для пользователей из группы A', fontsize=14)\n",
    "plt.ylabel('')\n",
    "\n",
    "print(f'Количество каждого типа устройства для пользователей из группы A:')\n",
    "display(a_device)\n",
    "plt.show()"
   ]
  },
  {
   "cell_type": "code",
   "execution_count": 24,
   "metadata": {},
   "outputs": [
    {
     "name": "stdout",
     "output_type": "stream",
     "text": [
      "Количество каждого типа устройства для пользователей из группы B:\n"
     ]
    },
    {
     "data": {
      "text/plain": [
       "device\n",
       "Android    668\n",
       "Mac        148\n",
       "PC         381\n",
       "iPhone     269\n",
       "Name: user_id, dtype: int64"
      ]
     },
     "metadata": {},
     "output_type": "display_data"
    },
    {
     "data": {
      "image/png": "[encoded data removed]",
      "text/plain": [
       "<Figure size 800x800 with 1 Axes>"
      ]
     },
     "metadata": {},
     "output_type": "display_data"
    }
   ],
   "source": [
    "b_device = b_group.groupby('device')['user_id'].nunique()\n",
    "\n",
    "b_device.plot(kind='pie',\n",
    "                     figsize = (8,8),\n",
    "                     autopct='%1.1f%%',\n",
    "                     startangle=140,\n",
    "                     colors=plt.cm.Paired.colors)\n",
    "plt.title('Доля каждого типа устройства для пользователей из группы B', fontsize=14)\n",
    "plt.ylabel('')\n",
    "\n",
    "print(f'Количество каждого типа устройства для пользователей из группы B:')\n",
    "display(b_device)\n",
    "plt.show()"
   ]
  },
  {
   "cell_type": "markdown",
   "metadata": {
    "id": "gAgmP6vo0eM1"
   },
   "source": [
    "###  Равномерность распределения пользователей по регионам\n"
   ]
  },
  {
   "cell_type": "code",
   "execution_count": 25,
   "metadata": {
    "id": "3hAq-FG4OdYM"
   },
   "outputs": [
    {
     "name": "stdout",
     "output_type": "stream",
     "text": [
      "Количество пользователей в группе А по регионам:\n"
     ]
    },
    {
     "data": {
      "text/plain": [
       "region\n",
       "CIS     644\n",
       "EU      224\n",
       "MENA    609\n",
       "Name: user_id, dtype: int64"
      ]
     },
     "metadata": {},
     "output_type": "display_data"
    },
    {
     "data": {
      "image/png": "[encoded data removed]",
      "text/plain": [
       "<Figure size 800x800 with 1 Axes>"
      ]
     },
     "metadata": {},
     "output_type": "display_data"
    }
   ],
   "source": [
    "a_region = a_group.groupby('region')['user_id'].nunique()\n",
    "\n",
    "a_region.plot(kind='pie',\n",
    "                     figsize = (8,8),\n",
    "                     autopct='%1.1f%%',\n",
    "                     startangle=140,\n",
    "                     colors=plt.cm.Paired.colors)\n",
    "plt.title('Доля каждого региона для пользователей из группы A', fontsize=14)\n",
    "plt.ylabel('')\n",
    "\n",
    "print(f'Количество пользователей в группе А по регионам:')\n",
    "display(a_region)\n",
    "plt.show()"
   ]
  },
  {
   "cell_type": "code",
   "execution_count": 26,
   "metadata": {},
   "outputs": [
    {
     "name": "stdout",
     "output_type": "stream",
     "text": [
      "Количество пользователей в группе B по регионам:\n"
     ]
    },
    {
     "data": {
      "text/plain": [
       "region\n",
       "CIS     645\n",
       "EU      217\n",
       "MENA    604\n",
       "Name: user_id, dtype: int64"
      ]
     },
     "metadata": {},
     "output_type": "display_data"
    },
    {
     "data": {
      "image/png": "[encoded data removed]",
      "text/plain": [
       "<Figure size 800x800 with 1 Axes>"
      ]
     },
     "metadata": {},
     "output_type": "display_data"
    }
   ],
   "source": [
    "b_region = b_group.groupby('region')['user_id'].nunique()\n",
    "\n",
    "b_region.plot(kind='pie',\n",
    "                     figsize = (8,8),\n",
    "                     autopct='%1.1f%%',\n",
    "                     startangle=140,\n",
    "                     colors=plt.cm.Paired.colors)\n",
    "plt.title('Доля каждого региона для пользователей из группы B', fontsize=14)\n",
    "plt.ylabel('')\n",
    "\n",
    "print(f'Количество пользователей в группе B по регионам:')\n",
    "display(b_region)\n",
    "plt.show()"
   ]
  },
  {
   "cell_type": "markdown",
   "metadata": {
    "id": "dDELHlAcOi8d"
   },
   "source": [
    "### Вывод \n",
    "- A/B-тест проводится корректно.\n",
    "- Размеры выборок сбалансированы, процентное соотношение пользователей в группах A и B практически одинаково.\n",
    "- Выборки независимы, пересечений пользователей между группами нет.\n",
    "- Распределение пользователей по устройствам и регионам равномерное, различия незначительны и не повлияют на корректность результатов теста.\n",
    "- На основе проведённой проверки можно сделать вывод, что тест проходит без нарушений, и можно переходить к анализу ключевой метрики — доли успешных сессий."
   ]
  },
  {
   "cell_type": "markdown",
   "metadata": {
    "id": "nudRr_BQ0eM2"
   },
   "source": [
    "## Проверка результатов A/B-теста"
   ]
  },
  {
   "cell_type": "markdown",
   "metadata": {
    "id": "JVve-YBB0eM2"
   },
   "source": [
    "###  Получение результатов теста и подсчёт основной метрики"
   ]
  },
  {
   "cell_type": "code",
   "execution_count": 27,
   "metadata": {
    "id": "EqRlwMtKPTir"
   },
   "outputs": [],
   "source": [
    "sessions_test = pd.read_csv('https://code.s3.yandex.net/datasets/sessions_project_test.csv')"
   ]
  },
  {
   "cell_type": "code",
   "execution_count": 28,
   "metadata": {},
   "outputs": [],
   "source": [
    "sessions_test['good_session'] = (sessions_test['page_counter'] >= 4).astype(int)"
   ]
  },
  {
   "cell_type": "markdown",
   "metadata": {
    "id": "aeYhrMYy0eM2"
   },
   "source": [
    "###  Проверка корректности результатов теста"
   ]
  },
  {
   "cell_type": "code",
   "execution_count": 29,
   "metadata": {
    "id": "5NUlcltkTTSU",
    "scrolled": true
   },
   "outputs": [
    {
     "data": {
      "text/plain": [
       "test_group  session_date\n",
       "A           2025-10-14      1502\n",
       "            2025-10-15      2235\n",
       "            2025-10-16      3280\n",
       "            2025-10-17      4089\n",
       "            2025-10-18      5013\n",
       "            2025-10-19      6535\n",
       "            2025-10-20      5837\n",
       "            2025-10-21      3927\n",
       "            2025-10-22      3083\n",
       "            2025-10-23      2470\n",
       "            2025-10-24      2090\n",
       "            2025-10-25      1897\n",
       "            2025-10-26      1669\n",
       "            2025-10-27      1454\n",
       "            2025-10-28      1279\n",
       "            2025-10-29      1068\n",
       "            2025-10-30       887\n",
       "            2025-10-31       644\n",
       "            2025-11-01       434\n",
       "            2025-11-02       158\n",
       "B           2025-10-14      1628\n",
       "            2025-10-15      2283\n",
       "            2025-10-16      3241\n",
       "            2025-10-17      4054\n",
       "            2025-10-18      5059\n",
       "            2025-10-19      6779\n",
       "            2025-10-20      6089\n",
       "            2025-10-21      3981\n",
       "            2025-10-22      3111\n",
       "            2025-10-23      2548\n",
       "            2025-10-24      2068\n",
       "            2025-10-25      1814\n",
       "            2025-10-26      1692\n",
       "            2025-10-27      1517\n",
       "            2025-10-28      1289\n",
       "            2025-10-29      1131\n",
       "            2025-10-30       876\n",
       "            2025-10-31       669\n",
       "            2025-11-01       465\n",
       "            2025-11-02       160\n",
       "Name: session_id, dtype: int64"
      ]
     },
     "metadata": {},
     "output_type": "display_data"
    }
   ],
   "source": [
    "dayly_session = sessions_test.groupby(['test_group', 'session_date'])['session_id'].nunique()\n",
    "display(dayly_session)"
   ]
  },
  {
   "cell_type": "markdown",
   "metadata": {},
   "source": [
    "### Тест Стьюдента\n",
    "- H₀ (нулевая гипотеза) — количество уникальных дневных сессий не различается между тестовой и контрольной группами.\n",
    "- H₁ (альтернативная гипотеза) — количество уникальных дневных сессий различается между тестовой и контрольной группами."
   ]
  },
  {
   "cell_type": "code",
   "execution_count": 30,
   "metadata": {
    "scrolled": true
   },
   "outputs": [
    {
     "name": "stdout",
     "output_type": "stream",
     "text": [
      "p-value теста Стьюдента = 0.93822\n",
      "Нулевая гипотеза подтверждается: количество уникальных дневных сессий не различается в группах A и B\n"
     ]
    }
   ],
   "source": [
    "sample_a = sessions_test[(sessions_test['test_group'] == 'A')].groupby('session_date')['session_id'].nunique()\n",
    "sample_b = sessions_test[(sessions_test['test_group'] == 'B')].groupby('session_date')['session_id'].nunique()\n",
    "\n",
    "alpha = 0.05\n",
    "\n",
    "stat_ttest, p_value_ttest = ttest_ind(\n",
    "    sample_a,\n",
    "    sample_b,\n",
    "    alternative='two-sided')\n",
    "\n",
    "print(f'p-value теста Стьюдента = {round(p_value_ttest, 5)}')\n",
    "\n",
    "if p_value_ttest > alpha:\n",
    "    print('Нулевая гипотеза подтверждается: количество уникальных дневных сессий не различается в группах A и B')\n",
    "else:\n",
    "    print('Нулевая гипотеза отвергается: количество уникальных дневных сессий различается в группах A и B')"
   ]
  },
  {
   "cell_type": "markdown",
   "metadata": {
    "id": "7kwRxzg70eM3"
   },
   "source": [
    "### Сравнение доли успешных сессий"
   ]
  },
  {
   "cell_type": "code",
   "execution_count": 31,
   "metadata": {},
   "outputs": [
    {
     "name": "stdout",
     "output_type": "stream",
     "text": [
      "Доля успешных сессий в группе A: 0.308\n",
      "Доля успешных сессий в группе B: 0.318\n",
      "Разница в доле успешных сессий (B - A): 0.011\n"
     ]
    }
   ],
   "source": [
    "n_a = sessions_test[sessions_test.test_group == 'A'].shape[0]\n",
    "n_b = sessions_test[sessions_test.test_group == 'B'].shape[0]\n",
    "\n",
    "m_a = sessions_test[(sessions_test.test_group == 'A')&(sessions_test.good_session==1)].shape[0]\n",
    "m_b = sessions_test[(sessions_test.test_group == 'B')&(sessions_test.good_session==1)].shape[0]\n",
    "\n",
    "p_a = m_a/n_a\n",
    "p_b = m_b/n_b \n",
    "diff = p_b - p_a\n",
    "\n",
    "print(f'Доля успешных сессий в группе A: {p_a:.3f}')\n",
    "print(f'Доля успешных сессий в группе B: {p_b:.3f}')\n",
    "print(f'Разница в доле успешных сессий (B - A): {diff:.3f}')"
   ]
  },
  {
   "cell_type": "markdown",
   "metadata": {
    "id": "9fMFuja10eM4"
   },
   "source": [
    "### Насколько статистически значимо изменение ключевой метрики\n",
    "- H₀ (нулевая гипотеза) — разница в доле успешных сессий между группами A и B не является статистически значимой.\n",
    "- H₁ (альтернативная гипотеза) — разница в доле успешных сессий между группами A и B является статистически значимой."
   ]
  },
  {
   "cell_type": "code",
   "execution_count": 32,
   "metadata": {
    "id": "gFvhRGwlPLS0"
   },
   "outputs": [
    {
     "name": "stdout",
     "output_type": "stream",
     "text": [
      "pvalue=0.0001574739988036123\n",
      "Нулевая гипотеза не находит подтверждения: разница в доле успешных сессий между группами A и B является статистически значимой.\n"
     ]
    }
   ],
   "source": [
    "alpha = 0.05\n",
    "\n",
    "stat_ztest, p_value_ztest = proportions_ztest(\n",
    "    [m_a, m_b],\n",
    "    [n_a, n_b],\n",
    "    alternative='smaller'\n",
    ")\n",
    "\n",
    "print(f'pvalue={p_value_ztest}') \n",
    "\n",
    "if p_value_ztest > alpha:\n",
    "    print('Нулевая гипотеза находит подтверждение: разница в доле успешных сессий между группами A и B не является статистически значимой.')\n",
    "else:\n",
    "    print('Нулевая гипотеза не находит подтверждения: разница в доле успешных сессий между группами A и B является статистически значимой.')"
   ]
  },
  {
   "cell_type": "markdown",
   "metadata": {
    "id": "rri8KRIgPMrW"
   },
   "source": [
    "### Выводы по результатам A/B-теста для команды разработки\n",
    "\n",
    "1. Характеристики эксперимента\n",
    "    - Цель теста: Оценить влияние нового алгоритма рекомендаций на успешность пользовательских сессий.\n",
    "    - Размер требуемой выборки: 17 441 пользователя на группу.\n",
    "    - Фактический размер выборки: 15 163 уникальных пользователей в группе A, 15 416 уникальных пользователей в группе B.\n",
    "    - Длительность эксперимента: 4 дня при среднем трафике 9 907 пользователей в день.\n",
    "    \n",
    "    \n",
    "2. Влияние нового алгоритма на ключевую метрику\n",
    "    - Доля успешных сессий в группе A составила 30.8%, а в группе B — 31.8%.\n",
    "    - Разница между группами: +1.1% в пользу группы B.\n",
    "    - Однако статистическая значимость этого увеличения не подтверждена.\n",
    "    \n",
    "    \n",
    "3. Результаты статистических тестов\n",
    "    - Сравнение количества сессий между группами: p-value = 0.9382 -> группы сопоставимы.\n",
    "    - Оценка значимости разницы в доле успешных сессий:\n",
    "    - p-value = 0.00015 (значительно ниже 0.05).\n",
    "    - Нулевая гипотеза отвергается, разница в успешных сессиях является статистически значимой.\n",
    "    \n",
    "    \n",
    "4. Заключение и рекомендации\n",
    "    - На основе теста нет оснований утверждать, что новый алгоритм улучшает ключевую метрику.\n",
    "    - Внедрять нововведение в приложение нецелесообразно без дополнительных исследований.\n",
    "    - Возможно, требуется доработка алгоритма или повторное тестирование с более крупной выборкой и длительным сроком."
   ]
  }
 ],
 "metadata": {
  "ExecuteTimeLog": [
   {
    "duration": 912,
    "start_time": "2025-03-26T11:00:36.485Z"
   },
   {
    "duration": 0,
    "start_time": "2025-03-26T11:00:37.398Z"
   },
   {
    "duration": 3,
    "start_time": "2025-03-26T11:01:07.545Z"
   },
   {
    "duration": 40,
    "start_time": "2025-03-26T11:02:47.938Z"
   },
   {
    "duration": 2093,
    "start_time": "2025-03-26T11:04:12.512Z"
   },
   {
    "duration": 1702,
    "start_time": "2025-03-26T11:04:47.171Z"
   },
   {
    "duration": 11,
    "start_time": "2025-03-26T11:07:46.891Z"
   },
   {
    "duration": 469,
    "start_time": "2025-03-26T11:08:00.910Z"
   },
   {
    "duration": 477,
    "start_time": "2025-03-26T11:08:14.581Z"
   },
   {
    "duration": 455,
    "start_time": "2025-03-26T11:09:07.774Z"
   },
   {
    "duration": 494,
    "start_time": "2025-03-26T11:09:16.659Z"
   },
   {
    "duration": 7,
    "start_time": "2025-03-26T11:12:52.529Z"
   },
   {
    "duration": 40,
    "start_time": "2025-03-26T11:14:16.476Z"
   },
   {
    "duration": 32,
    "start_time": "2025-03-26T11:16:30.336Z"
   },
   {
    "duration": 32,
    "start_time": "2025-03-26T11:16:44.849Z"
   },
   {
    "duration": 32,
    "start_time": "2025-03-26T11:18:42.309Z"
   },
   {
    "duration": 129,
    "start_time": "2025-03-26T11:20:31.172Z"
   },
   {
    "duration": 69561,
    "start_time": "2025-03-26T11:26:36.942Z"
   },
   {
    "duration": 0,
    "start_time": "2025-03-26T11:27:46.504Z"
   },
   {
    "duration": 176,
    "start_time": "2025-03-26T11:27:59.934Z"
   },
   {
    "duration": 131,
    "start_time": "2025-03-26T11:28:08.982Z"
   },
   {
    "duration": 162,
    "start_time": "2025-03-26T11:28:24.849Z"
   },
   {
    "duration": 170,
    "start_time": "2025-03-26T11:29:08.927Z"
   },
   {
    "duration": 195,
    "start_time": "2025-03-26T11:39:55.571Z"
   },
   {
    "duration": 475,
    "start_time": "2025-03-26T11:40:34.647Z"
   },
   {
    "duration": 2011,
    "start_time": "2025-03-26T11:40:36.247Z"
   },
   {
    "duration": 644,
    "start_time": "2025-03-26T11:40:51.903Z"
   },
   {
    "duration": 2360,
    "start_time": "2025-03-26T11:40:52.549Z"
   },
   {
    "duration": 555,
    "start_time": "2025-03-26T11:40:54.910Z"
   },
   {
    "duration": 36,
    "start_time": "2025-03-26T11:40:55.467Z"
   },
   {
    "duration": 187,
    "start_time": "2025-03-26T11:40:55.505Z"
   },
   {
    "duration": 722,
    "start_time": "2025-03-26T11:40:55.694Z"
   },
   {
    "duration": 584,
    "start_time": "2025-03-26T11:40:56.418Z"
   },
   {
    "duration": 0,
    "start_time": "2025-03-26T11:40:57.004Z"
   },
   {
    "duration": 210,
    "start_time": "2025-03-26T11:41:35.714Z"
   },
   {
    "duration": 174,
    "start_time": "2025-03-26T11:41:45.787Z"
   },
   {
    "duration": 548,
    "start_time": "2025-03-26T11:41:46.922Z"
   },
   {
    "duration": 182,
    "start_time": "2025-03-26T11:42:58.960Z"
   },
   {
    "duration": 534,
    "start_time": "2025-03-26T11:43:17.828Z"
   },
   {
    "duration": 521,
    "start_time": "2025-03-26T11:44:30.504Z"
   },
   {
    "duration": 18,
    "start_time": "2025-03-26T11:46:47.243Z"
   },
   {
    "duration": 517,
    "start_time": "2025-03-26T11:47:32.949Z"
   },
   {
    "duration": 629,
    "start_time": "2025-03-26T11:47:53.984Z"
   },
   {
    "duration": 571,
    "start_time": "2025-03-26T11:48:31.903Z"
   },
   {
    "duration": 528,
    "start_time": "2025-03-26T11:48:34.324Z"
   },
   {
    "duration": 97,
    "start_time": "2025-03-26T11:49:39.298Z"
   },
   {
    "duration": 503,
    "start_time": "2025-03-26T11:49:48.391Z"
   },
   {
    "duration": 594,
    "start_time": "2025-03-26T11:50:25.549Z"
   },
   {
    "duration": 185,
    "start_time": "2025-03-26T11:50:35.355Z"
   },
   {
    "duration": 608,
    "start_time": "2025-03-26T11:51:17.770Z"
   },
   {
    "duration": 560,
    "start_time": "2025-03-26T11:51:39.635Z"
   },
   {
    "duration": 559,
    "start_time": "2025-03-26T11:52:06.715Z"
   },
   {
    "duration": 533,
    "start_time": "2025-03-26T11:53:33.407Z"
   },
   {
    "duration": 518,
    "start_time": "2025-03-26T11:53:37.461Z"
   },
   {
    "duration": 134,
    "start_time": "2025-03-26T11:58:44.825Z"
   },
   {
    "duration": 15,
    "start_time": "2025-03-26T12:02:05.972Z"
   },
   {
    "duration": 1056,
    "start_time": "2025-03-26T12:02:14.031Z"
   },
   {
    "duration": 38,
    "start_time": "2025-03-26T12:02:38.003Z"
   },
   {
    "duration": 34,
    "start_time": "2025-03-26T12:03:53.400Z"
   },
   {
    "duration": 27,
    "start_time": "2025-03-26T12:04:08.514Z"
   },
   {
    "duration": 26,
    "start_time": "2025-03-26T12:04:55.498Z"
   },
   {
    "duration": 176,
    "start_time": "2025-03-26T12:05:59.805Z"
   },
   {
    "duration": 184,
    "start_time": "2025-03-26T12:06:36.303Z"
   },
   {
    "duration": 252,
    "start_time": "2025-03-26T12:07:02.236Z"
   },
   {
    "duration": 595,
    "start_time": "2025-03-26T12:12:14.381Z"
   },
   {
    "duration": 599,
    "start_time": "2025-03-26T12:12:24.778Z"
   },
   {
    "duration": 81,
    "start_time": "2025-03-26T12:19:33.690Z"
   },
   {
    "duration": 195,
    "start_time": "2025-03-26T12:19:40.129Z"
   },
   {
    "duration": 212,
    "start_time": "2025-03-26T12:19:51.764Z"
   },
   {
    "duration": 190,
    "start_time": "2025-03-26T12:19:59.553Z"
   },
   {
    "duration": 190,
    "start_time": "2025-03-26T12:20:07.509Z"
   },
   {
    "duration": 191,
    "start_time": "2025-03-26T12:20:13.475Z"
   },
   {
    "duration": 198,
    "start_time": "2025-03-26T12:20:44.544Z"
   },
   {
    "duration": 133,
    "start_time": "2025-03-26T12:25:13.831Z"
   },
   {
    "duration": 51,
    "start_time": "2025-03-26T12:26:48.726Z"
   },
   {
    "duration": 13,
    "start_time": "2025-03-26T12:28:04.744Z"
   },
   {
    "duration": 13,
    "start_time": "2025-03-26T12:28:15.092Z"
   },
   {
    "duration": 10,
    "start_time": "2025-03-26T12:30:04.602Z"
   },
   {
    "duration": 127,
    "start_time": "2025-03-26T12:30:37.376Z"
   },
   {
    "duration": 212,
    "start_time": "2025-03-26T12:31:58.780Z"
   },
   {
    "duration": 9,
    "start_time": "2025-03-26T12:39:07.536Z"
   },
   {
    "duration": 394,
    "start_time": "2025-03-26T12:39:08.552Z"
   },
   {
    "duration": 347,
    "start_time": "2025-03-26T12:39:52.306Z"
   },
   {
    "duration": 131,
    "start_time": "2025-03-26T12:46:56.876Z"
   },
   {
    "duration": 517,
    "start_time": "2025-03-26T12:47:57.329Z"
   },
   {
    "duration": 546,
    "start_time": "2025-03-26T12:48:08.773Z"
   },
   {
    "duration": 533,
    "start_time": "2025-03-26T12:48:52.058Z"
   },
   {
    "duration": 162,
    "start_time": "2025-03-26T12:50:21.337Z"
   },
   {
    "duration": 570,
    "start_time": "2025-03-26T12:51:13.705Z"
   },
   {
    "duration": 209,
    "start_time": "2025-03-26T12:51:27.742Z"
   },
   {
    "duration": 511,
    "start_time": "2025-03-26T12:51:42.178Z"
   },
   {
    "duration": 187,
    "start_time": "2025-03-26T12:51:49.458Z"
   },
   {
    "duration": 7,
    "start_time": "2025-03-26T12:54:23.425Z"
   },
   {
    "duration": 136,
    "start_time": "2025-03-26T12:54:27.563Z"
   },
   {
    "duration": 547,
    "start_time": "2025-03-26T12:54:40.162Z"
   },
   {
    "duration": 12,
    "start_time": "2025-03-26T12:55:30.637Z"
   },
   {
    "duration": 5,
    "start_time": "2025-03-26T12:55:49.811Z"
   },
   {
    "duration": 128,
    "start_time": "2025-03-26T12:55:56.346Z"
   },
   {
    "duration": 10,
    "start_time": "2025-03-26T12:55:58.714Z"
   },
   {
    "duration": 7,
    "start_time": "2025-03-26T12:56:08.864Z"
   },
   {
    "duration": 534,
    "start_time": "2025-03-26T12:56:10.857Z"
   },
   {
    "duration": 4,
    "start_time": "2025-03-26T12:57:59.798Z"
   },
   {
    "duration": 578,
    "start_time": "2025-03-26T12:58:01.724Z"
   },
   {
    "duration": 5,
    "start_time": "2025-03-26T12:58:32.015Z"
   },
   {
    "duration": 552,
    "start_time": "2025-03-26T12:58:32.983Z"
   },
   {
    "duration": 14,
    "start_time": "2025-03-26T13:01:41.474Z"
   },
   {
    "duration": 4,
    "start_time": "2025-03-26T13:12:23.753Z"
   },
   {
    "duration": 3,
    "start_time": "2025-03-26T13:14:58.788Z"
   },
   {
    "duration": 5,
    "start_time": "2025-03-26T13:16:37.817Z"
   },
   {
    "duration": 5,
    "start_time": "2025-03-26T13:17:12.991Z"
   },
   {
    "duration": 4,
    "start_time": "2025-03-26T13:17:18.445Z"
   },
   {
    "duration": 4,
    "start_time": "2025-03-26T13:19:14.422Z"
   },
   {
    "duration": 649,
    "start_time": "2025-03-26T13:22:50.918Z"
   },
   {
    "duration": 2242,
    "start_time": "2025-03-26T13:22:51.569Z"
   },
   {
    "duration": 599,
    "start_time": "2025-03-26T13:22:53.813Z"
   },
   {
    "duration": 37,
    "start_time": "2025-03-26T13:22:54.414Z"
   },
   {
    "duration": 209,
    "start_time": "2025-03-26T13:22:54.454Z"
   },
   {
    "duration": 585,
    "start_time": "2025-03-26T13:22:54.665Z"
   },
   {
    "duration": 536,
    "start_time": "2025-03-26T13:22:55.252Z"
   },
   {
    "duration": 29,
    "start_time": "2025-03-26T13:22:55.790Z"
   },
   {
    "duration": 232,
    "start_time": "2025-03-26T13:22:55.835Z"
   },
   {
    "duration": 6,
    "start_time": "2025-03-26T13:22:56.068Z"
   },
   {
    "duration": 650,
    "start_time": "2025-03-26T13:22:56.076Z"
   },
   {
    "duration": 444,
    "start_time": "2025-03-26T13:22:56.728Z"
   },
   {
    "duration": 4,
    "start_time": "2025-03-26T13:22:57.174Z"
   },
   {
    "duration": 3,
    "start_time": "2025-03-26T13:24:11.557Z"
   },
   {
    "duration": 2089,
    "start_time": "2025-03-26T13:24:13.347Z"
   },
   {
    "duration": 495,
    "start_time": "2025-03-26T13:24:15.705Z"
   },
   {
    "duration": 33,
    "start_time": "2025-03-26T13:24:17.431Z"
   },
   {
    "duration": 181,
    "start_time": "2025-03-26T13:24:22.333Z"
   },
   {
    "duration": 551,
    "start_time": "2025-03-26T13:24:23.762Z"
   },
   {
    "duration": 580,
    "start_time": "2025-03-26T13:24:24.667Z"
   },
   {
    "duration": 27,
    "start_time": "2025-03-26T13:24:26.863Z"
   },
   {
    "duration": 193,
    "start_time": "2025-03-26T13:24:27.850Z"
   },
   {
    "duration": 6,
    "start_time": "2025-03-26T13:24:30.549Z"
   },
   {
    "duration": 537,
    "start_time": "2025-03-26T13:24:31.758Z"
   },
   {
    "duration": 18,
    "start_time": "2025-03-26T13:24:34.827Z"
   },
   {
    "duration": 4,
    "start_time": "2025-03-26T13:24:36.599Z"
   },
   {
    "duration": 49,
    "start_time": "2025-03-26T16:31:08.837Z"
   },
   {
    "duration": 826,
    "start_time": "2025-03-26T16:31:22.332Z"
   },
   {
    "duration": 1808,
    "start_time": "2025-03-26T16:31:23.161Z"
   },
   {
    "duration": 588,
    "start_time": "2025-03-26T16:31:24.971Z"
   },
   {
    "duration": 36,
    "start_time": "2025-03-26T16:31:25.561Z"
   },
   {
    "duration": 226,
    "start_time": "2025-03-26T16:31:25.599Z"
   },
   {
    "duration": 618,
    "start_time": "2025-03-26T16:31:25.827Z"
   },
   {
    "duration": 546,
    "start_time": "2025-03-26T16:31:26.447Z"
   },
   {
    "duration": 31,
    "start_time": "2025-03-26T16:31:26.994Z"
   },
   {
    "duration": 222,
    "start_time": "2025-03-26T16:31:27.027Z"
   },
   {
    "duration": 7,
    "start_time": "2025-03-26T16:31:27.251Z"
   },
   {
    "duration": 647,
    "start_time": "2025-03-26T16:31:27.259Z"
   },
   {
    "duration": 424,
    "start_time": "2025-03-26T16:31:27.908Z"
   },
   {
    "duration": 4,
    "start_time": "2025-03-26T16:31:28.334Z"
   },
   {
    "duration": 242,
    "start_time": "2025-03-26T16:31:28.340Z"
   },
   {
    "duration": 67,
    "start_time": "2025-03-26T16:31:53.474Z"
   },
   {
    "duration": 62,
    "start_time": "2025-03-26T16:32:35.290Z"
   },
   {
    "duration": 99,
    "start_time": "2025-03-26T16:35:36.460Z"
   },
   {
    "duration": 7,
    "start_time": "2025-03-26T16:35:51.782Z"
   },
   {
    "duration": 8,
    "start_time": "2025-03-26T16:44:56.155Z"
   },
   {
    "duration": 9,
    "start_time": "2025-03-26T16:47:39.675Z"
   },
   {
    "duration": 8,
    "start_time": "2025-03-26T16:47:54.115Z"
   },
   {
    "duration": 10,
    "start_time": "2025-03-26T16:47:55.294Z"
   },
   {
    "duration": 6,
    "start_time": "2025-03-26T16:48:04.705Z"
   },
   {
    "duration": 9,
    "start_time": "2025-03-26T16:50:10.743Z"
   },
   {
    "duration": 91,
    "start_time": "2025-03-26T16:53:20.096Z"
   },
   {
    "duration": 102,
    "start_time": "2025-03-26T16:54:30.715Z"
   },
   {
    "duration": 97,
    "start_time": "2025-03-26T16:55:02.602Z"
   },
   {
    "duration": 260,
    "start_time": "2025-03-26T16:55:18.459Z"
   },
   {
    "duration": 556,
    "start_time": "2025-03-26T16:55:45.580Z"
   },
   {
    "duration": 575,
    "start_time": "2025-03-26T16:56:14.912Z"
   },
   {
    "duration": 57,
    "start_time": "2025-03-26T16:57:35.125Z"
   },
   {
    "duration": 8,
    "start_time": "2025-03-26T16:57:36.463Z"
   },
   {
    "duration": 7,
    "start_time": "2025-03-26T16:57:38.747Z"
   },
   {
    "duration": 7,
    "start_time": "2025-03-26T16:58:53.119Z"
   },
   {
    "duration": 81,
    "start_time": "2025-03-26T17:00:38.125Z"
   },
   {
    "duration": 567,
    "start_time": "2025-03-26T17:01:02.092Z"
   },
   {
    "duration": 200,
    "start_time": "2025-03-26T17:01:07.614Z"
   },
   {
    "duration": 6,
    "start_time": "2025-03-26T17:04:49.474Z"
   },
   {
    "duration": 6,
    "start_time": "2025-03-26T17:04:50.411Z"
   },
   {
    "duration": 6,
    "start_time": "2025-03-26T17:04:51.947Z"
   },
   {
    "duration": 8,
    "start_time": "2025-03-26T17:06:30.285Z"
   },
   {
    "duration": 6,
    "start_time": "2025-03-26T17:06:31.303Z"
   },
   {
    "duration": 7,
    "start_time": "2025-03-26T17:07:48.070Z"
   },
   {
    "duration": 6,
    "start_time": "2025-03-26T17:07:48.859Z"
   },
   {
    "duration": 8,
    "start_time": "2025-03-26T17:07:49.646Z"
   },
   {
    "duration": 93,
    "start_time": "2025-03-26T17:07:51.811Z"
   },
   {
    "duration": 3,
    "start_time": "2025-03-26T17:08:37.742Z"
   },
   {
    "duration": 56,
    "start_time": "2025-03-26T17:11:30.661Z"
   },
   {
    "duration": 6,
    "start_time": "2025-03-26T17:11:31.449Z"
   },
   {
    "duration": 5,
    "start_time": "2025-03-26T17:11:32.328Z"
   },
   {
    "duration": 5,
    "start_time": "2025-03-26T17:11:33.231Z"
   },
   {
    "duration": 81,
    "start_time": "2025-03-26T17:11:36.020Z"
   },
   {
    "duration": 3,
    "start_time": "2025-03-26T17:11:39.234Z"
   },
   {
    "duration": 6,
    "start_time": "2025-03-26T17:13:22.247Z"
   },
   {
    "duration": 1347,
    "start_time": "2025-03-26T17:13:23.336Z"
   },
   {
    "duration": 5,
    "start_time": "2025-03-26T17:13:35.019Z"
   },
   {
    "duration": 6,
    "start_time": "2025-03-26T17:13:37.031Z"
   },
   {
    "duration": 149,
    "start_time": "2025-03-26T17:13:38.634Z"
   },
   {
    "duration": 5,
    "start_time": "2025-03-26T17:14:50.565Z"
   },
   {
    "duration": 12,
    "start_time": "2025-03-26T17:19:02.029Z"
   },
   {
    "duration": 5,
    "start_time": "2025-03-26T17:20:13.503Z"
   },
   {
    "duration": 6,
    "start_time": "2025-03-26T17:20:23.619Z"
   },
   {
    "duration": 105,
    "start_time": "2025-03-26T17:21:47.322Z"
   },
   {
    "duration": 109,
    "start_time": "2025-03-26T17:22:19.182Z"
   },
   {
    "duration": 108,
    "start_time": "2025-03-26T17:22:44.485Z"
   },
   {
    "duration": 106,
    "start_time": "2025-03-26T17:23:06.133Z"
   },
   {
    "duration": 109,
    "start_time": "2025-03-26T17:24:41.147Z"
   },
   {
    "duration": 99,
    "start_time": "2025-03-26T17:25:37.145Z"
   },
   {
    "duration": 94,
    "start_time": "2025-03-26T17:26:32.428Z"
   },
   {
    "duration": 100,
    "start_time": "2025-03-26T17:27:04.711Z"
   },
   {
    "duration": 521,
    "start_time": "2025-03-26T17:30:50.167Z"
   },
   {
    "duration": 4,
    "start_time": "2025-03-26T17:30:52.209Z"
   },
   {
    "duration": 43,
    "start_time": "2025-03-26T17:34:20.050Z"
   },
   {
    "duration": 41,
    "start_time": "2025-03-26T17:36:46.160Z"
   },
   {
    "duration": 49,
    "start_time": "2025-03-26T17:41:58.653Z"
   },
   {
    "duration": 76,
    "start_time": "2025-03-26T17:53:11.472Z"
   },
   {
    "duration": 39,
    "start_time": "2025-03-26T17:53:26.445Z"
   },
   {
    "duration": 44,
    "start_time": "2025-03-26T17:53:38.273Z"
   },
   {
    "duration": 50,
    "start_time": "2025-03-26T17:54:16.036Z"
   },
   {
    "duration": 2,
    "start_time": "2025-03-26T17:55:07.006Z"
   },
   {
    "duration": 1732,
    "start_time": "2025-03-26T17:55:08.478Z"
   },
   {
    "duration": 517,
    "start_time": "2025-03-26T17:55:12.260Z"
   },
   {
    "duration": 32,
    "start_time": "2025-03-26T17:55:12.909Z"
   },
   {
    "duration": 194,
    "start_time": "2025-03-26T17:55:14.210Z"
   },
   {
    "duration": 569,
    "start_time": "2025-03-26T17:55:14.818Z"
   },
   {
    "duration": 603,
    "start_time": "2025-03-26T17:55:15.485Z"
   },
   {
    "duration": 26,
    "start_time": "2025-03-26T17:55:17.689Z"
   },
   {
    "duration": 204,
    "start_time": "2025-03-26T17:55:19.117Z"
   },
   {
    "duration": 5,
    "start_time": "2025-03-26T17:55:21.048Z"
   },
   {
    "duration": 557,
    "start_time": "2025-03-26T17:55:21.710Z"
   },
   {
    "duration": 14,
    "start_time": "2025-03-26T17:55:23.400Z"
   },
   {
    "duration": 4,
    "start_time": "2025-03-26T17:55:24.637Z"
   },
   {
    "duration": 82,
    "start_time": "2025-03-26T17:55:27.382Z"
   },
   {
    "duration": 5,
    "start_time": "2025-03-26T17:55:28.483Z"
   },
   {
    "duration": 5,
    "start_time": "2025-03-26T17:55:29.169Z"
   },
   {
    "duration": 6,
    "start_time": "2025-03-26T17:55:29.892Z"
   },
   {
    "duration": 80,
    "start_time": "2025-03-26T17:55:30.621Z"
   },
   {
    "duration": 4,
    "start_time": "2025-03-26T17:55:32.239Z"
   },
   {
    "duration": 111,
    "start_time": "2025-03-26T17:55:33.490Z"
   },
   {
    "duration": 111,
    "start_time": "2025-03-26T17:55:34.107Z"
   },
   {
    "duration": 111,
    "start_time": "2025-03-26T17:55:53.884Z"
   },
   {
    "duration": 108,
    "start_time": "2025-03-26T17:55:55.391Z"
   },
   {
    "duration": 109,
    "start_time": "2025-03-26T17:56:35.640Z"
   },
   {
    "duration": 110,
    "start_time": "2025-03-26T17:56:37.142Z"
   },
   {
    "duration": 107,
    "start_time": "2025-03-26T17:57:14.383Z"
   },
   {
    "duration": 107,
    "start_time": "2025-03-26T17:57:16.278Z"
   },
   {
    "duration": 186,
    "start_time": "2025-03-26T17:57:18.884Z"
   },
   {
    "duration": 472,
    "start_time": "2025-03-26T17:57:41.182Z"
   },
   {
    "duration": 5,
    "start_time": "2025-03-26T17:57:42.634Z"
   },
   {
    "duration": 46,
    "start_time": "2025-03-26T17:57:45.897Z"
   },
   {
    "duration": 46,
    "start_time": "2025-03-26T17:57:51.786Z"
   },
   {
    "duration": 56,
    "start_time": "2025-03-26T17:57:58.141Z"
   },
   {
    "duration": 56,
    "start_time": "2025-03-26T17:58:06.147Z"
   },
   {
    "duration": 1333,
    "start_time": "2025-03-26T17:58:07.320Z"
   },
   {
    "duration": 40,
    "start_time": "2025-03-26T18:00:36.786Z"
   },
   {
    "duration": 52,
    "start_time": "2025-03-26T18:01:28.883Z"
   },
   {
    "duration": 23,
    "start_time": "2025-03-26T18:05:24.735Z"
   },
   {
    "duration": 1287,
    "start_time": "2025-03-26T18:10:55.879Z"
   },
   {
    "duration": 8,
    "start_time": "2025-03-26T18:11:46.927Z"
   },
   {
    "duration": 48,
    "start_time": "2025-03-26T18:12:34.109Z"
   },
   {
    "duration": 42,
    "start_time": "2025-03-26T18:14:18.304Z"
   },
   {
    "duration": 53,
    "start_time": "2025-03-26T18:18:58.046Z"
   },
   {
    "duration": 88,
    "start_time": "2025-03-26T18:21:28.011Z"
   },
   {
    "duration": 9,
    "start_time": "2025-03-26T18:21:29.274Z"
   },
   {
    "duration": 42,
    "start_time": "2025-03-26T18:23:02.850Z"
   },
   {
    "duration": 54,
    "start_time": "2025-03-26T18:23:04.405Z"
   },
   {
    "duration": 54,
    "start_time": "2025-03-26T18:23:13.148Z"
   },
   {
    "duration": 55,
    "start_time": "2025-03-26T18:23:51.875Z"
   },
   {
    "duration": 39,
    "start_time": "2025-03-26T18:25:07.855Z"
   },
   {
    "duration": 9,
    "start_time": "2025-03-26T18:29:20.198Z"
   },
   {
    "duration": 78,
    "start_time": "2025-03-26T18:35:48.119Z"
   },
   {
    "duration": 7,
    "start_time": "2025-03-26T18:35:56.997Z"
   },
   {
    "duration": 43,
    "start_time": "2025-03-26T18:51:09.802Z"
   },
   {
    "duration": 7,
    "start_time": "2025-03-26T18:51:11.195Z"
   },
   {
    "duration": 27,
    "start_time": "2025-03-26T19:00:10.875Z"
   },
   {
    "duration": 20,
    "start_time": "2025-03-26T19:00:11.973Z"
   },
   {
    "duration": 20,
    "start_time": "2025-03-26T19:00:13.037Z"
   },
   {
    "duration": 143,
    "start_time": "2025-03-26T19:00:14.958Z"
   },
   {
    "duration": 33,
    "start_time": "2025-03-26T19:03:45.269Z"
   },
   {
    "duration": 31,
    "start_time": "2025-03-26T19:03:59.437Z"
   },
   {
    "duration": 31,
    "start_time": "2025-03-26T19:04:39.207Z"
   },
   {
    "duration": 33,
    "start_time": "2025-03-26T19:06:00.899Z"
   },
   {
    "duration": 32,
    "start_time": "2025-03-26T19:06:06.584Z"
   },
   {
    "duration": 31,
    "start_time": "2025-03-26T19:06:15.467Z"
   },
   {
    "duration": 31,
    "start_time": "2025-03-26T19:06:26.666Z"
   },
   {
    "duration": 1259,
    "start_time": "2025-03-26T19:18:52.888Z"
   },
   {
    "duration": 1435,
    "start_time": "2025-03-26T19:19:16.484Z"
   },
   {
    "duration": 32,
    "start_time": "2025-03-26T19:19:57.891Z"
   },
   {
    "duration": 39,
    "start_time": "2025-03-26T19:20:16.852Z"
   },
   {
    "duration": 39,
    "start_time": "2025-03-26T19:20:24.538Z"
   },
   {
    "duration": 35,
    "start_time": "2025-03-26T19:21:17.568Z"
   },
   {
    "duration": 32,
    "start_time": "2025-03-26T19:22:52.512Z"
   },
   {
    "duration": 35,
    "start_time": "2025-03-26T19:23:25.584Z"
   },
   {
    "duration": 61,
    "start_time": "2025-03-26T19:26:26.706Z"
   },
   {
    "duration": 61,
    "start_time": "2025-03-26T19:26:34.594Z"
   },
   {
    "duration": 62,
    "start_time": "2025-03-26T19:27:23.598Z"
   },
   {
    "duration": 63,
    "start_time": "2025-03-26T19:27:51.842Z"
   },
   {
    "duration": 68,
    "start_time": "2025-03-26T19:28:10.861Z"
   },
   {
    "duration": 56,
    "start_time": "2025-03-26T19:36:17.195Z"
   },
   {
    "duration": 55,
    "start_time": "2025-03-26T19:36:43.259Z"
   },
   {
    "duration": 48,
    "start_time": "2025-03-26T19:38:18.260Z"
   },
   {
    "duration": 48,
    "start_time": "2025-03-26T19:40:18.995Z"
   },
   {
    "duration": 5,
    "start_time": "2025-03-26T19:40:56.505Z"
   },
   {
    "duration": 52,
    "start_time": "2025-03-26T19:41:17.849Z"
   },
   {
    "duration": 5,
    "start_time": "2025-03-26T19:41:32.239Z"
   },
   {
    "duration": 1286,
    "start_time": "2025-03-27T11:32:15.568Z"
   },
   {
    "duration": 4510,
    "start_time": "2025-03-27T11:32:16.856Z"
   },
   {
    "duration": 582,
    "start_time": "2025-03-27T11:32:21.367Z"
   },
   {
    "duration": 33,
    "start_time": "2025-03-27T11:32:21.950Z"
   },
   {
    "duration": 219,
    "start_time": "2025-03-27T11:32:21.985Z"
   },
   {
    "duration": 566,
    "start_time": "2025-03-27T11:32:22.206Z"
   },
   {
    "duration": 498,
    "start_time": "2025-03-27T11:32:22.773Z"
   },
   {
    "duration": 29,
    "start_time": "2025-03-27T11:32:23.272Z"
   },
   {
    "duration": 241,
    "start_time": "2025-03-27T11:32:23.303Z"
   },
   {
    "duration": 6,
    "start_time": "2025-03-27T11:32:23.546Z"
   },
   {
    "duration": 586,
    "start_time": "2025-03-27T11:32:23.553Z"
   },
   {
    "duration": 21,
    "start_time": "2025-03-27T11:32:24.141Z"
   },
   {
    "duration": 29,
    "start_time": "2025-03-27T11:32:24.164Z"
   },
   {
    "duration": 369,
    "start_time": "2025-03-27T11:32:24.196Z"
   },
   {
    "duration": 5,
    "start_time": "2025-03-27T11:32:24.567Z"
   },
   {
    "duration": 24,
    "start_time": "2025-03-27T11:32:24.574Z"
   },
   {
    "duration": 12,
    "start_time": "2025-03-27T11:32:24.600Z"
   },
   {
    "duration": 81,
    "start_time": "2025-03-27T11:32:24.614Z"
   },
   {
    "duration": 4,
    "start_time": "2025-03-27T11:32:24.697Z"
   },
   {
    "duration": 146,
    "start_time": "2025-03-27T11:32:24.702Z"
   },
   {
    "duration": 123,
    "start_time": "2025-03-27T11:32:24.850Z"
   },
   {
    "duration": 175,
    "start_time": "2025-03-27T11:32:24.974Z"
   },
   {
    "duration": 107,
    "start_time": "2025-03-27T11:32:25.151Z"
   },
   {
    "duration": 1505,
    "start_time": "2025-03-27T11:32:25.260Z"
   },
   {
    "duration": 4,
    "start_time": "2025-03-27T11:32:26.767Z"
   },
   {
    "duration": 44,
    "start_time": "2025-03-27T11:32:26.772Z"
   },
   {
    "duration": 53,
    "start_time": "2025-03-27T11:32:26.818Z"
   },
   {
    "duration": 7,
    "start_time": "2025-03-27T11:32:26.873Z"
   },
   {
    "duration": 71,
    "start_time": "2025-03-27T11:32:26.881Z"
   },
   {
    "duration": 8,
    "start_time": "2025-03-27T11:32:26.954Z"
   },
   {
    "duration": 2,
    "start_time": "2025-03-27T11:33:15.801Z"
   },
   {
    "duration": 2825,
    "start_time": "2025-03-27T11:33:19.947Z"
   },
   {
    "duration": 11,
    "start_time": "2025-03-27T11:33:22.774Z"
   },
   {
    "duration": 508,
    "start_time": "2025-03-27T11:33:43.165Z"
   },
   {
    "duration": 497,
    "start_time": "2025-03-27T11:33:59.496Z"
   },
   {
    "duration": 36,
    "start_time": "2025-03-27T11:34:19.294Z"
   },
   {
    "duration": 28,
    "start_time": "2025-03-27T11:35:10.796Z"
   },
   {
    "duration": 16,
    "start_time": "2025-03-27T11:37:18.703Z"
   },
   {
    "duration": 18,
    "start_time": "2025-03-27T11:37:39.726Z"
   },
   {
    "duration": 17,
    "start_time": "2025-03-27T11:37:51.876Z"
   },
   {
    "duration": 18,
    "start_time": "2025-03-27T11:37:58.074Z"
   },
   {
    "duration": 14,
    "start_time": "2025-03-27T11:38:07.536Z"
   },
   {
    "duration": 5,
    "start_time": "2025-03-27T11:38:31.376Z"
   },
   {
    "duration": 6,
    "start_time": "2025-03-27T11:40:58.713Z"
   },
   {
    "duration": 7,
    "start_time": "2025-03-27T11:41:14.158Z"
   },
   {
    "duration": 6,
    "start_time": "2025-03-27T11:41:56.299Z"
   },
   {
    "duration": 7,
    "start_time": "2025-03-27T11:43:14.891Z"
   },
   {
    "duration": 7,
    "start_time": "2025-03-27T11:43:26.026Z"
   },
   {
    "duration": 6,
    "start_time": "2025-03-27T11:45:35.189Z"
   },
   {
    "duration": 114,
    "start_time": "2025-03-27T11:46:27.286Z"
   },
   {
    "duration": 6,
    "start_time": "2025-03-27T11:46:34.772Z"
   },
   {
    "duration": 8,
    "start_time": "2025-03-27T11:46:46.511Z"
   },
   {
    "duration": 78,
    "start_time": "2025-03-27T11:47:02.221Z"
   },
   {
    "duration": 5,
    "start_time": "2025-03-27T11:48:02.886Z"
   },
   {
    "duration": 6,
    "start_time": "2025-03-27T11:48:16.161Z"
   },
   {
    "duration": 5,
    "start_time": "2025-03-27T11:50:05.899Z"
   },
   {
    "duration": 5,
    "start_time": "2025-03-27T11:50:42.833Z"
   },
   {
    "duration": 105,
    "start_time": "2025-03-27T11:51:31.590Z"
   },
   {
    "duration": 114,
    "start_time": "2025-03-27T11:52:01.928Z"
   },
   {
    "duration": 98,
    "start_time": "2025-03-27T11:52:23.245Z"
   },
   {
    "duration": 150,
    "start_time": "2025-03-27T11:55:31.727Z"
   },
   {
    "duration": 109,
    "start_time": "2025-03-27T11:55:42.696Z"
   },
   {
    "duration": 106,
    "start_time": "2025-03-27T11:56:22.618Z"
   },
   {
    "duration": 109,
    "start_time": "2025-03-27T11:56:55.772Z"
   },
   {
    "duration": 124,
    "start_time": "2025-03-27T11:58:53.743Z"
   },
   {
    "duration": 95,
    "start_time": "2025-03-27T11:59:03.860Z"
   },
   {
    "duration": 120,
    "start_time": "2025-03-27T11:59:26.017Z"
   },
   {
    "duration": 39,
    "start_time": "2025-03-27T12:06:43.668Z"
   },
   {
    "duration": 7,
    "start_time": "2025-03-27T12:09:07.054Z"
   },
   {
    "duration": 3,
    "start_time": "2025-03-27T12:11:06.629Z"
   },
   {
    "duration": 1046,
    "start_time": "2025-03-27T12:11:35.341Z"
   },
   {
    "duration": 8749,
    "start_time": "2025-03-27T12:11:36.388Z"
   },
   {
    "duration": 13,
    "start_time": "2025-03-27T12:11:45.139Z"
   },
   {
    "duration": 514,
    "start_time": "2025-03-27T12:11:45.154Z"
   },
   {
    "duration": 35,
    "start_time": "2025-03-27T12:11:45.670Z"
   },
   {
    "duration": 189,
    "start_time": "2025-03-27T12:11:45.707Z"
   },
   {
    "duration": 562,
    "start_time": "2025-03-27T12:11:45.898Z"
   },
   {
    "duration": 533,
    "start_time": "2025-03-27T12:11:46.461Z"
   },
   {
    "duration": 26,
    "start_time": "2025-03-27T12:11:46.995Z"
   },
   {
    "duration": 246,
    "start_time": "2025-03-27T12:11:47.035Z"
   },
   {
    "duration": 6,
    "start_time": "2025-03-27T12:11:47.284Z"
   },
   {
    "duration": 546,
    "start_time": "2025-03-27T12:11:47.291Z"
   },
   {
    "duration": 14,
    "start_time": "2025-03-27T12:11:47.839Z"
   },
   {
    "duration": 12,
    "start_time": "2025-03-27T12:11:47.855Z"
   },
   {
    "duration": 403,
    "start_time": "2025-03-27T12:11:47.869Z"
   },
   {
    "duration": 5,
    "start_time": "2025-03-27T12:11:48.273Z"
   },
   {
    "duration": 77,
    "start_time": "2025-03-27T12:11:48.280Z"
   },
   {
    "duration": 12,
    "start_time": "2025-03-27T12:11:48.359Z"
   },
   {
    "duration": 77,
    "start_time": "2025-03-27T12:11:48.373Z"
   },
   {
    "duration": 4,
    "start_time": "2025-03-27T12:11:48.452Z"
   },
   {
    "duration": 121,
    "start_time": "2025-03-27T12:11:48.457Z"
   },
   {
    "duration": 117,
    "start_time": "2025-03-27T12:11:48.579Z"
   },
   {
    "duration": 170,
    "start_time": "2025-03-27T12:11:48.698Z"
   },
   {
    "duration": 110,
    "start_time": "2025-03-27T12:11:48.870Z"
   },
   {
    "duration": 1291,
    "start_time": "2025-03-27T12:11:48.981Z"
   },
   {
    "duration": 4,
    "start_time": "2025-03-27T12:11:50.274Z"
   },
   {
    "duration": 107,
    "start_time": "2025-03-27T12:11:50.279Z"
   },
   {
    "duration": 6,
    "start_time": "2025-03-27T12:11:50.389Z"
   },
   {
    "duration": 50,
    "start_time": "2025-03-27T12:11:50.396Z"
   },
   {
    "duration": 4,
    "start_time": "2025-03-27T12:11:50.448Z"
   },
   {
    "duration": 5,
    "start_time": "2025-03-27T12:19:30.641Z"
   },
   {
    "duration": 3,
    "start_time": "2025-03-27T12:25:14.440Z"
   },
   {
    "duration": 101,
    "start_time": "2025-03-27T12:26:38.776Z"
   },
   {
    "duration": 26,
    "start_time": "2025-03-27T12:26:48.250Z"
   },
   {
    "duration": 30,
    "start_time": "2025-03-27T12:27:04.185Z"
   },
   {
    "duration": 27,
    "start_time": "2025-03-27T12:27:19.400Z"
   },
   {
    "duration": 26,
    "start_time": "2025-03-27T12:27:45.635Z"
   },
   {
    "duration": 21,
    "start_time": "2025-03-27T12:31:53.123Z"
   },
   {
    "duration": 1082,
    "start_time": "2025-03-27T12:34:17.809Z"
   },
   {
    "duration": 1822,
    "start_time": "2025-03-27T12:34:18.893Z"
   },
   {
    "duration": 21,
    "start_time": "2025-03-27T12:34:20.717Z"
   },
   {
    "duration": 554,
    "start_time": "2025-03-27T12:34:20.740Z"
   },
   {
    "duration": 42,
    "start_time": "2025-03-27T12:34:21.296Z"
   },
   {
    "duration": 219,
    "start_time": "2025-03-27T12:34:21.339Z"
   },
   {
    "duration": 612,
    "start_time": "2025-03-27T12:34:21.560Z"
   },
   {
    "duration": 518,
    "start_time": "2025-03-27T12:34:22.173Z"
   },
   {
    "duration": 44,
    "start_time": "2025-03-27T12:34:22.694Z"
   },
   {
    "duration": 206,
    "start_time": "2025-03-27T12:34:22.741Z"
   },
   {
    "duration": 7,
    "start_time": "2025-03-27T12:34:22.949Z"
   },
   {
    "duration": 572,
    "start_time": "2025-03-27T12:34:22.958Z"
   },
   {
    "duration": 13,
    "start_time": "2025-03-27T12:34:23.535Z"
   },
   {
    "duration": 18,
    "start_time": "2025-03-27T12:34:23.550Z"
   },
   {
    "duration": 102,
    "start_time": "2025-03-27T12:34:23.569Z"
   },
   {
    "duration": 5,
    "start_time": "2025-03-27T12:34:23.673Z"
   },
   {
    "duration": 6,
    "start_time": "2025-03-27T12:34:23.679Z"
   },
   {
    "duration": 85,
    "start_time": "2025-03-27T12:34:23.687Z"
   },
   {
    "duration": 92,
    "start_time": "2025-03-27T12:34:23.773Z"
   },
   {
    "duration": 4,
    "start_time": "2025-03-27T12:34:23.867Z"
   },
   {
    "duration": 125,
    "start_time": "2025-03-27T12:34:23.872Z"
   },
   {
    "duration": 118,
    "start_time": "2025-03-27T12:34:23.998Z"
   },
   {
    "duration": 186,
    "start_time": "2025-03-27T12:34:24.118Z"
   },
   {
    "duration": 115,
    "start_time": "2025-03-27T12:34:24.306Z"
   },
   {
    "duration": 719,
    "start_time": "2025-03-27T12:34:24.423Z"
   },
   {
    "duration": 5,
    "start_time": "2025-03-27T12:34:25.144Z"
   },
   {
    "duration": 44,
    "start_time": "2025-03-27T12:34:25.150Z"
   },
   {
    "duration": 7,
    "start_time": "2025-03-27T12:34:25.195Z"
   },
   {
    "duration": 71,
    "start_time": "2025-03-27T12:34:25.203Z"
   },
   {
    "duration": 5,
    "start_time": "2025-03-27T12:34:25.275Z"
   },
   {
    "duration": 1058,
    "start_time": "2025-03-27T12:37:57.838Z"
   },
   {
    "duration": 1831,
    "start_time": "2025-03-27T12:37:58.897Z"
   },
   {
    "duration": 14,
    "start_time": "2025-03-27T12:38:00.730Z"
   },
   {
    "duration": 563,
    "start_time": "2025-03-27T12:38:00.746Z"
   },
   {
    "duration": 41,
    "start_time": "2025-03-27T12:38:01.311Z"
   },
   {
    "duration": 216,
    "start_time": "2025-03-27T12:38:01.354Z"
   },
   {
    "duration": 1183,
    "start_time": "2025-03-27T14:05:31.248Z"
   },
   {
    "duration": 3053,
    "start_time": "2025-03-27T14:05:32.433Z"
   },
   {
    "duration": 15,
    "start_time": "2025-03-27T14:05:35.488Z"
   },
   {
    "duration": 896,
    "start_time": "2025-03-27T14:05:35.505Z"
   },
   {
    "duration": 93,
    "start_time": "2025-03-27T14:05:36.402Z"
   },
   {
    "duration": 479,
    "start_time": "2025-03-27T14:05:36.496Z"
   },
   {
    "duration": 697,
    "start_time": "2025-03-27T14:05:36.976Z"
   },
   {
    "duration": 510,
    "start_time": "2025-03-27T14:05:37.675Z"
   },
   {
    "duration": 31,
    "start_time": "2025-03-27T14:05:38.187Z"
   },
   {
    "duration": 222,
    "start_time": "2025-03-27T14:05:38.222Z"
   },
   {
    "duration": 15,
    "start_time": "2025-03-27T14:05:38.446Z"
   },
   {
    "duration": 595,
    "start_time": "2025-03-27T14:05:38.463Z"
   },
   {
    "duration": 15,
    "start_time": "2025-03-27T14:05:39.059Z"
   },
   {
    "duration": 4,
    "start_time": "2025-03-27T14:05:39.075Z"
   },
   {
    "duration": 407,
    "start_time": "2025-03-27T14:05:39.081Z"
   },
   {
    "duration": 6,
    "start_time": "2025-03-27T14:05:39.489Z"
   },
   {
    "duration": 20,
    "start_time": "2025-03-27T14:05:39.496Z"
   },
   {
    "duration": 7,
    "start_time": "2025-03-27T14:05:39.518Z"
   },
   {
    "duration": 103,
    "start_time": "2025-03-27T14:05:39.527Z"
   },
   {
    "duration": 5,
    "start_time": "2025-03-27T14:05:39.632Z"
   },
   {
    "duration": 130,
    "start_time": "2025-03-27T14:05:39.638Z"
   },
   {
    "duration": 126,
    "start_time": "2025-03-27T14:05:39.770Z"
   },
   {
    "duration": 170,
    "start_time": "2025-03-27T14:05:39.898Z"
   },
   {
    "duration": 107,
    "start_time": "2025-03-27T14:05:40.070Z"
   },
   {
    "duration": 637,
    "start_time": "2025-03-27T14:05:40.179Z"
   },
   {
    "duration": 4,
    "start_time": "2025-03-27T14:05:40.818Z"
   },
   {
    "duration": 50,
    "start_time": "2025-03-27T14:05:40.823Z"
   },
   {
    "duration": 6,
    "start_time": "2025-03-27T14:05:40.876Z"
   },
   {
    "duration": 56,
    "start_time": "2025-03-27T14:05:40.884Z"
   },
   {
    "duration": 4,
    "start_time": "2025-03-27T14:05:40.942Z"
   },
   {
    "duration": 80,
    "start_time": "2025-03-27T14:09:56.273Z"
   },
   {
    "duration": 1245,
    "start_time": "2025-03-27T17:15:07.441Z"
   },
   {
    "duration": 2205,
    "start_time": "2025-03-27T17:15:08.688Z"
   },
   {
    "duration": 32,
    "start_time": "2025-03-27T17:15:10.895Z"
   },
   {
    "duration": 552,
    "start_time": "2025-03-27T17:15:10.929Z"
   },
   {
    "duration": 41,
    "start_time": "2025-03-27T17:15:11.483Z"
   },
   {
    "duration": 225,
    "start_time": "2025-03-27T17:15:11.525Z"
   },
   {
    "duration": 627,
    "start_time": "2025-03-27T17:15:11.752Z"
   },
   {
    "duration": 539,
    "start_time": "2025-03-27T17:15:12.381Z"
   },
   {
    "duration": 29,
    "start_time": "2025-03-27T17:15:12.923Z"
   },
   {
    "duration": 233,
    "start_time": "2025-03-27T17:15:12.954Z"
   },
   {
    "duration": 5,
    "start_time": "2025-03-27T17:15:13.189Z"
   },
   {
    "duration": 577,
    "start_time": "2025-03-27T17:15:13.195Z"
   },
   {
    "duration": 14,
    "start_time": "2025-03-27T17:15:13.774Z"
   },
   {
    "duration": 24,
    "start_time": "2025-03-27T17:15:13.790Z"
   },
   {
    "duration": 94,
    "start_time": "2025-03-27T17:15:13.816Z"
   },
   {
    "duration": 6,
    "start_time": "2025-03-27T17:15:13.917Z"
   },
   {
    "duration": 5,
    "start_time": "2025-03-27T17:15:13.927Z"
   },
   {
    "duration": 5,
    "start_time": "2025-03-27T17:15:13.934Z"
   },
   {
    "duration": 97,
    "start_time": "2025-03-27T17:15:13.941Z"
   },
   {
    "duration": 4,
    "start_time": "2025-03-27T17:15:14.039Z"
   },
   {
    "duration": 136,
    "start_time": "2025-03-27T17:15:14.045Z"
   },
   {
    "duration": 126,
    "start_time": "2025-03-27T17:15:14.183Z"
   },
   {
    "duration": 191,
    "start_time": "2025-03-27T17:15:14.311Z"
   },
   {
    "duration": 111,
    "start_time": "2025-03-27T17:15:14.504Z"
   },
   {
    "duration": 574,
    "start_time": "2025-03-27T17:15:14.616Z"
   },
   {
    "duration": 19,
    "start_time": "2025-03-27T17:15:15.192Z"
   },
   {
    "duration": 51,
    "start_time": "2025-03-27T17:15:15.213Z"
   },
   {
    "duration": 57,
    "start_time": "2025-03-27T17:15:15.265Z"
   },
   {
    "duration": 61,
    "start_time": "2025-03-27T17:15:15.323Z"
   },
   {
    "duration": 5,
    "start_time": "2025-03-27T17:15:15.385Z"
   },
   {
    "duration": 651,
    "start_time": "2025-03-27T17:18:14.365Z"
   },
   {
    "duration": 524,
    "start_time": "2025-03-27T17:18:28.535Z"
   },
   {
    "duration": 505,
    "start_time": "2025-03-27T17:18:55.957Z"
   },
   {
    "duration": 563,
    "start_time": "2025-03-27T17:19:13.778Z"
   },
   {
    "duration": 146,
    "start_time": "2025-03-27T17:20:49.725Z"
   },
   {
    "duration": 202,
    "start_time": "2025-03-27T17:21:12.690Z"
   },
   {
    "duration": 581,
    "start_time": "2025-03-27T17:21:14.320Z"
   },
   {
    "duration": 554,
    "start_time": "2025-03-27T17:21:29.819Z"
   },
   {
    "duration": 554,
    "start_time": "2025-03-27T17:21:47.320Z"
   },
   {
    "duration": 4,
    "start_time": "2025-03-27T17:25:13.678Z"
   },
   {
    "duration": 587,
    "start_time": "2025-03-27T17:27:11.990Z"
   },
   {
    "duration": 4,
    "start_time": "2025-03-27T17:28:05.759Z"
   },
   {
    "duration": 5,
    "start_time": "2025-03-27T17:34:00.538Z"
   },
   {
    "duration": 6,
    "start_time": "2025-03-27T17:35:55.217Z"
   },
   {
    "duration": 589,
    "start_time": "2025-03-27T17:42:03.442Z"
   },
   {
    "duration": 260,
    "start_time": "2025-03-27T17:42:59.838Z"
   },
   {
    "duration": 590,
    "start_time": "2025-03-27T17:43:09.986Z"
   },
   {
    "duration": 28,
    "start_time": "2025-03-27T17:43:25.339Z"
   },
   {
    "duration": 196,
    "start_time": "2025-03-27T17:44:03.693Z"
   },
   {
    "duration": 623,
    "start_time": "2025-03-27T17:44:24.607Z"
   },
   {
    "duration": 603,
    "start_time": "2025-03-27T17:45:08.996Z"
   },
   {
    "duration": 4,
    "start_time": "2025-03-27T17:45:46.968Z"
   },
   {
    "duration": 590,
    "start_time": "2025-03-27T17:46:20.126Z"
   },
   {
    "duration": 542,
    "start_time": "2025-03-27T17:50:17.748Z"
   },
   {
    "duration": 5,
    "start_time": "2025-03-27T17:50:41.585Z"
   },
   {
    "duration": 3,
    "start_time": "2025-03-27T17:53:22.267Z"
   },
   {
    "duration": 4,
    "start_time": "2025-03-27T17:55:04.262Z"
   },
   {
    "duration": 288,
    "start_time": "2025-03-27T17:55:21.397Z"
   },
   {
    "duration": 4,
    "start_time": "2025-03-27T17:55:24.798Z"
   },
   {
    "duration": 349,
    "start_time": "2025-03-27T17:56:17.299Z"
   },
   {
    "duration": 3,
    "start_time": "2025-03-27T17:56:23.031Z"
   },
   {
    "duration": 10,
    "start_time": "2025-03-27T17:56:41.851Z"
   },
   {
    "duration": 27,
    "start_time": "2025-03-27T17:57:50.047Z"
   },
   {
    "duration": 3,
    "start_time": "2025-03-27T17:58:24.345Z"
   },
   {
    "duration": 12,
    "start_time": "2025-03-27T17:59:27.350Z"
   },
   {
    "duration": 93,
    "start_time": "2025-03-27T18:01:54.082Z"
   },
   {
    "duration": 23,
    "start_time": "2025-03-27T18:02:29.044Z"
   },
   {
    "duration": 28,
    "start_time": "2025-03-27T18:02:43.044Z"
   },
   {
    "duration": 88,
    "start_time": "2025-03-27T18:03:18.555Z"
   },
   {
    "duration": 3,
    "start_time": "2025-03-27T18:03:24.889Z"
   },
   {
    "duration": 5,
    "start_time": "2025-03-27T18:04:35.590Z"
   },
   {
    "duration": 11,
    "start_time": "2025-03-27T18:05:23.935Z"
   },
   {
    "duration": 9,
    "start_time": "2025-03-27T18:05:30.098Z"
   },
   {
    "duration": 32,
    "start_time": "2025-03-27T18:05:51.044Z"
   },
   {
    "duration": 142,
    "start_time": "2025-03-27T18:07:28.579Z"
   },
   {
    "duration": 105,
    "start_time": "2025-03-27T18:09:01.298Z"
   },
   {
    "duration": 136,
    "start_time": "2025-03-27T18:09:03.986Z"
   },
   {
    "duration": 241,
    "start_time": "2025-03-27T18:09:17.843Z"
   },
   {
    "duration": 124,
    "start_time": "2025-03-27T18:10:32.171Z"
   },
   {
    "duration": 121,
    "start_time": "2025-03-27T18:10:49.877Z"
   },
   {
    "duration": 128,
    "start_time": "2025-03-27T18:10:51.358Z"
   },
   {
    "duration": 12,
    "start_time": "2025-03-27T18:11:00.096Z"
   },
   {
    "duration": 180,
    "start_time": "2025-03-27T18:19:01.215Z"
   },
   {
    "duration": 158,
    "start_time": "2025-03-27T18:19:14.059Z"
   },
   {
    "duration": 281,
    "start_time": "2025-03-27T18:22:26.533Z"
   },
   {
    "duration": 89,
    "start_time": "2025-03-27T18:22:49.379Z"
   },
   {
    "duration": 160,
    "start_time": "2025-03-27T18:22:53.867Z"
   },
   {
    "duration": 241,
    "start_time": "2025-03-27T18:23:11.523Z"
   },
   {
    "duration": 296,
    "start_time": "2025-03-27T18:23:39.205Z"
   },
   {
    "duration": 186,
    "start_time": "2025-03-27T18:23:48.941Z"
   },
   {
    "duration": 156,
    "start_time": "2025-03-27T18:26:56.330Z"
   },
   {
    "duration": 5,
    "start_time": "2025-03-27T18:28:20.866Z"
   },
   {
    "duration": 67,
    "start_time": "2025-03-27T18:28:48.646Z"
   },
   {
    "duration": 5,
    "start_time": "2025-03-27T18:28:59.174Z"
   },
   {
    "duration": 224,
    "start_time": "2025-03-27T18:29:17.033Z"
   },
   {
    "duration": 4,
    "start_time": "2025-03-27T18:29:21.070Z"
   },
   {
    "duration": 6,
    "start_time": "2025-03-27T18:29:52.726Z"
   },
   {
    "duration": 1101,
    "start_time": "2025-03-27T18:30:09.930Z"
   },
   {
    "duration": 1953,
    "start_time": "2025-03-27T18:30:11.033Z"
   },
   {
    "duration": 20,
    "start_time": "2025-03-27T18:30:12.987Z"
   },
   {
    "duration": 574,
    "start_time": "2025-03-27T18:30:13.009Z"
   },
   {
    "duration": 40,
    "start_time": "2025-03-27T18:30:13.585Z"
   },
   {
    "duration": 210,
    "start_time": "2025-03-27T18:30:13.626Z"
   },
   {
    "duration": 25,
    "start_time": "2025-03-27T18:30:13.838Z"
   },
   {
    "duration": 558,
    "start_time": "2025-03-27T18:30:13.865Z"
   },
   {
    "duration": 510,
    "start_time": "2025-03-27T18:30:14.425Z"
   },
   {
    "duration": 3,
    "start_time": "2025-03-27T18:30:14.937Z"
   },
   {
    "duration": 31,
    "start_time": "2025-03-27T18:30:14.941Z"
   },
   {
    "duration": 219,
    "start_time": "2025-03-27T18:30:14.974Z"
   },
   {
    "duration": 15,
    "start_time": "2025-03-27T18:30:15.194Z"
   },
   {
    "duration": 587,
    "start_time": "2025-03-27T18:30:15.211Z"
   },
   {
    "duration": 22,
    "start_time": "2025-03-27T18:30:15.799Z"
   },
   {
    "duration": 3,
    "start_time": "2025-03-27T18:30:15.823Z"
   },
   {
    "duration": 218,
    "start_time": "2025-03-27T18:30:15.828Z"
   },
   {
    "duration": 5,
    "start_time": "2025-03-27T18:30:16.048Z"
   },
   {
    "duration": 46,
    "start_time": "2025-03-27T18:30:16.054Z"
   },
   {
    "duration": 8,
    "start_time": "2025-03-27T18:30:16.102Z"
   },
   {
    "duration": 80,
    "start_time": "2025-03-27T18:30:16.112Z"
   },
   {
    "duration": 14,
    "start_time": "2025-03-27T18:30:16.194Z"
   },
   {
    "duration": 131,
    "start_time": "2025-03-27T18:30:16.210Z"
   },
   {
    "duration": 126,
    "start_time": "2025-03-27T18:30:16.343Z"
   },
   {
    "duration": 179,
    "start_time": "2025-03-27T18:30:16.471Z"
   },
   {
    "duration": 109,
    "start_time": "2025-03-27T18:30:16.651Z"
   },
   {
    "duration": 1112,
    "start_time": "2025-03-27T18:30:16.762Z"
   },
   {
    "duration": 4,
    "start_time": "2025-03-27T18:30:17.876Z"
   },
   {
    "duration": 45,
    "start_time": "2025-03-27T18:30:17.881Z"
   },
   {
    "duration": 6,
    "start_time": "2025-03-27T18:30:17.928Z"
   },
   {
    "duration": 53,
    "start_time": "2025-03-27T18:30:17.935Z"
   },
   {
    "duration": 18,
    "start_time": "2025-03-27T18:30:17.990Z"
   },
   {
    "duration": 3,
    "start_time": "2025-03-27T18:31:47.897Z"
   },
   {
    "duration": 3,
    "start_time": "2025-03-27T18:31:53.808Z"
   },
   {
    "duration": 3,
    "start_time": "2025-03-27T18:32:03.245Z"
   },
   {
    "duration": 4,
    "start_time": "2025-03-27T18:32:14.848Z"
   },
   {
    "duration": 11,
    "start_time": "2025-03-27T18:33:27.580Z"
   },
   {
    "duration": 5,
    "start_time": "2025-03-27T18:33:38.725Z"
   },
   {
    "duration": 22,
    "start_time": "2025-03-27T18:35:25.557Z"
   },
   {
    "duration": 541,
    "start_time": "2025-03-27T18:36:11.512Z"
   },
   {
    "duration": 528,
    "start_time": "2025-03-27T18:42:46.264Z"
   },
   {
    "duration": 515,
    "start_time": "2025-03-27T18:43:56.896Z"
   },
   {
    "duration": 6,
    "start_time": "2025-03-27T18:45:18.077Z"
   },
   {
    "duration": 105,
    "start_time": "2025-03-27T19:00:19.104Z"
   },
   {
    "duration": 64,
    "start_time": "2025-03-27T19:00:25.554Z"
   },
   {
    "duration": 60,
    "start_time": "2025-03-27T19:02:41.101Z"
   },
   {
    "duration": 63,
    "start_time": "2025-03-27T19:02:57.641Z"
   },
   {
    "duration": 61,
    "start_time": "2025-03-27T19:03:09.754Z"
   },
   {
    "duration": 62,
    "start_time": "2025-03-27T19:04:03.988Z"
   },
   {
    "duration": 61,
    "start_time": "2025-03-27T19:05:34.658Z"
   },
   {
    "duration": 5,
    "start_time": "2025-03-27T19:10:44.336Z"
   },
   {
    "duration": 3,
    "start_time": "2025-03-27T19:13:26.456Z"
   },
   {
    "duration": 1088,
    "start_time": "2025-03-27T19:14:56.688Z"
   },
   {
    "duration": 7441,
    "start_time": "2025-03-27T19:14:57.778Z"
   },
   {
    "duration": 14,
    "start_time": "2025-03-27T19:15:05.220Z"
   },
   {
    "duration": 572,
    "start_time": "2025-03-27T19:15:05.236Z"
   },
   {
    "duration": 36,
    "start_time": "2025-03-27T19:15:05.810Z"
   },
   {
    "duration": 205,
    "start_time": "2025-03-27T19:15:05.847Z"
   },
   {
    "duration": 577,
    "start_time": "2025-03-27T19:15:06.054Z"
   },
   {
    "duration": 522,
    "start_time": "2025-03-27T19:15:06.633Z"
   },
   {
    "duration": 33,
    "start_time": "2025-03-27T19:15:07.156Z"
   },
   {
    "duration": 218,
    "start_time": "2025-03-27T19:15:07.190Z"
   },
   {
    "duration": 6,
    "start_time": "2025-03-27T19:15:07.410Z"
   },
   {
    "duration": 564,
    "start_time": "2025-03-27T19:15:07.417Z"
   },
   {
    "duration": 29,
    "start_time": "2025-03-27T19:15:07.983Z"
   },
   {
    "duration": 4,
    "start_time": "2025-03-27T19:15:08.015Z"
   },
   {
    "duration": 50,
    "start_time": "2025-03-27T19:15:08.021Z"
   },
   {
    "duration": 5,
    "start_time": "2025-03-27T19:15:08.072Z"
   },
   {
    "duration": 25,
    "start_time": "2025-03-27T19:15:08.079Z"
   },
   {
    "duration": 15,
    "start_time": "2025-03-27T19:15:08.106Z"
   },
   {
    "duration": 79,
    "start_time": "2025-03-27T19:15:08.123Z"
   },
   {
    "duration": 4,
    "start_time": "2025-03-27T19:15:08.203Z"
   },
   {
    "duration": 168,
    "start_time": "2025-03-27T19:15:08.209Z"
   },
   {
    "duration": 117,
    "start_time": "2025-03-27T19:15:08.379Z"
   },
   {
    "duration": 164,
    "start_time": "2025-03-27T19:15:08.498Z"
   },
   {
    "duration": 105,
    "start_time": "2025-03-27T19:15:08.663Z"
   },
   {
    "duration": 488,
    "start_time": "2025-03-27T19:15:08.769Z"
   },
   {
    "duration": 4,
    "start_time": "2025-03-27T19:15:09.258Z"
   },
   {
    "duration": 49,
    "start_time": "2025-03-27T19:15:09.264Z"
   },
   {
    "duration": 60,
    "start_time": "2025-03-27T19:15:09.314Z"
   },
   {
    "duration": 64,
    "start_time": "2025-03-27T19:15:09.376Z"
   },
   {
    "duration": 5,
    "start_time": "2025-03-27T19:15:09.442Z"
   },
   {
    "duration": 1118,
    "start_time": "2025-03-27T19:21:19.940Z"
   },
   {
    "duration": 2010,
    "start_time": "2025-03-27T19:21:21.060Z"
   },
   {
    "duration": 14,
    "start_time": "2025-03-27T19:21:23.072Z"
   },
   {
    "duration": 561,
    "start_time": "2025-03-27T19:21:23.087Z"
   },
   {
    "duration": 37,
    "start_time": "2025-03-27T19:21:23.651Z"
   },
   {
    "duration": 201,
    "start_time": "2025-03-27T19:21:23.690Z"
   },
   {
    "duration": 571,
    "start_time": "2025-03-27T19:21:23.892Z"
   },
   {
    "duration": 514,
    "start_time": "2025-03-27T19:21:24.465Z"
   },
   {
    "duration": 37,
    "start_time": "2025-03-27T19:21:24.980Z"
   },
   {
    "duration": 199,
    "start_time": "2025-03-27T19:21:25.018Z"
   },
   {
    "duration": 6,
    "start_time": "2025-03-27T19:21:25.219Z"
   },
   {
    "duration": 561,
    "start_time": "2025-03-27T19:21:25.226Z"
   },
   {
    "duration": 24,
    "start_time": "2025-03-27T19:21:25.788Z"
   },
   {
    "duration": 4,
    "start_time": "2025-03-27T19:21:25.814Z"
   },
   {
    "duration": 58,
    "start_time": "2025-03-27T19:21:25.820Z"
   },
   {
    "duration": 6,
    "start_time": "2025-03-27T19:21:25.880Z"
   },
   {
    "duration": 6,
    "start_time": "2025-03-27T19:21:25.887Z"
   },
   {
    "duration": 7,
    "start_time": "2025-03-27T19:21:25.894Z"
   },
   {
    "duration": 76,
    "start_time": "2025-03-27T19:21:25.902Z"
   },
   {
    "duration": 4,
    "start_time": "2025-03-27T19:21:25.980Z"
   },
   {
    "duration": 130,
    "start_time": "2025-03-27T19:21:25.985Z"
   },
   {
    "duration": 118,
    "start_time": "2025-03-27T19:21:26.116Z"
   },
   {
    "duration": 172,
    "start_time": "2025-03-27T19:21:26.236Z"
   },
   {
    "duration": 108,
    "start_time": "2025-03-27T19:21:26.410Z"
   },
   {
    "duration": 448,
    "start_time": "2025-03-27T19:21:26.519Z"
   },
   {
    "duration": 4,
    "start_time": "2025-03-27T19:21:26.968Z"
   },
   {
    "duration": 55,
    "start_time": "2025-03-27T19:21:26.974Z"
   },
   {
    "duration": 64,
    "start_time": "2025-03-27T19:21:27.030Z"
   },
   {
    "duration": 50,
    "start_time": "2025-03-27T19:21:27.106Z"
   },
   {
    "duration": 5,
    "start_time": "2025-03-27T19:21:27.157Z"
   },
   {
    "duration": 14,
    "start_time": "2025-03-27T19:22:23.258Z"
   },
   {
    "duration": 16,
    "start_time": "2025-03-27T19:23:03.576Z"
   },
   {
    "duration": 1422,
    "start_time": "2025-03-28T10:15:35.198Z"
   },
   {
    "duration": 3396,
    "start_time": "2025-03-28T10:15:36.622Z"
   },
   {
    "duration": 15,
    "start_time": "2025-03-28T10:15:40.020Z"
   },
   {
    "duration": 573,
    "start_time": "2025-03-28T10:15:40.036Z"
   },
   {
    "duration": 44,
    "start_time": "2025-03-28T10:15:40.611Z"
   },
   {
    "duration": 210,
    "start_time": "2025-03-28T10:15:40.656Z"
   },
   {
    "duration": 903,
    "start_time": "2025-03-28T10:15:40.867Z"
   },
   {
    "duration": 995,
    "start_time": "2025-03-28T10:15:41.772Z"
   },
   {
    "duration": 33,
    "start_time": "2025-03-28T10:15:42.769Z"
   },
   {
    "duration": 219,
    "start_time": "2025-03-28T10:15:42.804Z"
   },
   {
    "duration": 11,
    "start_time": "2025-03-28T10:15:43.024Z"
   },
   {
    "duration": 577,
    "start_time": "2025-03-28T10:15:43.036Z"
   },
   {
    "duration": 23,
    "start_time": "2025-03-28T10:15:43.615Z"
   },
   {
    "duration": 4,
    "start_time": "2025-03-28T10:15:43.641Z"
   },
   {
    "duration": 162,
    "start_time": "2025-03-28T10:15:43.647Z"
   },
   {
    "duration": 5,
    "start_time": "2025-03-28T10:15:43.811Z"
   },
   {
    "duration": 8,
    "start_time": "2025-03-28T10:15:43.817Z"
   },
   {
    "duration": 11,
    "start_time": "2025-03-28T10:15:43.827Z"
   },
   {
    "duration": 82,
    "start_time": "2025-03-28T10:15:43.839Z"
   },
   {
    "duration": 5,
    "start_time": "2025-03-28T10:15:43.929Z"
   },
   {
    "duration": 151,
    "start_time": "2025-03-28T10:15:43.936Z"
   },
   {
    "duration": 123,
    "start_time": "2025-03-28T10:15:44.089Z"
   },
   {
    "duration": 182,
    "start_time": "2025-03-28T10:15:44.214Z"
   },
   {
    "duration": 107,
    "start_time": "2025-03-28T10:15:44.398Z"
   },
   {
    "duration": 731,
    "start_time": "2025-03-28T10:15:44.507Z"
   },
   {
    "duration": 6,
    "start_time": "2025-03-28T10:15:45.240Z"
   },
   {
    "duration": 97,
    "start_time": "2025-03-28T10:15:45.247Z"
   },
   {
    "duration": 63,
    "start_time": "2025-03-28T10:15:45.346Z"
   },
   {
    "duration": 58,
    "start_time": "2025-03-28T10:15:45.411Z"
   },
   {
    "duration": 4,
    "start_time": "2025-03-28T10:15:45.471Z"
   }
  ],
  "colab": {
   "provenance": []
  },
  "kernelspec": {
   "display_name": "Python 3",
   "language": "python",
   "name": "python3"
  },
  "language_info": {
   "codemirror_mode": {
    "name": "ipython",
    "version": 3
   },
   "file_extension": ".py",
   "mimetype": "text/x-python",
   "name": "python",
   "nbconvert_exporter": "python",
   "pygments_lexer": "ipython3",
   "version": "3.13.1"
  },
  "toc": {
   "base_numbering": 1,
   "nav_menu": {},
   "number_sections": true,
   "sideBar": true,
   "skip_h1_title": true,
   "title_cell": "Table of Contents",
   "title_sidebar": "Contents",
   "toc_cell": false,
   "toc_position": {
    "height": "calc(100% - 180px)",
    "left": "10px",
    "top": "150px",
    "width": "233.492645px"
   },
   "toc_section_display": true,
   "toc_window_display": true
  }
 },
 "nbformat": 4,
 "nbformat_minor": 1
}
