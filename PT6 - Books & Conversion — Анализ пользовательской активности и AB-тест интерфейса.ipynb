{
 "cells": [
  {
   "cell_type": "markdown",
   "id": "_E41Wr5fqnFT",
   "metadata": {
    "id": "_E41Wr5fqnFT"
   },
   "source": [
    "# Часть 1. Books — Проверка гипотезы о различии активности пользователей из Москвы и Санкт-Петербурга"
   ]
  },
  {
   "cell_type": "markdown",
   "id": "e06910dd",
   "metadata": {
    "id": "e06910dd"
   },
   "source": [
    "## Проверка гипотезы гипотезы в Python и составление аналитической записки\n",
    "- Автор: Сорокин Елисей "
   ]
  },
  {
   "cell_type": "markdown",
   "id": "4149134c",
   "metadata": {
    "id": "4149134c"
   },
   "source": [
    "### Цели и задачи проекта\n",
    "\n",
    "- Цель:\n",
    "     - Проверить статистическую гипотезу о том, что пользователи из Санкт-Петербурга проводят в приложении Яндекс Книги больше времени, чем пользователи из Москвы.\n",
    "\n",
    "- Задачи:\n",
    "\n",
    "    - Загрузить и предобработать данные.\n",
    "\n",
    "    - Проверить данные на дубликаты.\n",
    "\n",
    "    - Провести односторонний t-тест на равенство средних значений.\n",
    "\n",
    "    - Сделать выводы по результатам тестирования."
   ]
  },
  {
   "cell_type": "markdown",
   "id": "728986ea",
   "metadata": {
    "id": "728986ea"
   },
   "source": [
    "### Описание данных\n",
    "\n",
    "Данные загружены из файла yandex_knigi_data.csv. Таблица содержит следующие поля:\n",
    "\n",
    "- city — город пользователя;\n",
    "\n",
    "- puid — уникальный идентификатор пользователя;\n",
    "\n",
    "- hours — общее время активности пользователя в приложении в часах."
   ]
  },
  {
   "cell_type": "markdown",
   "id": "4fecaf95",
   "metadata": {
    "id": "4fecaf95"
   },
   "source": [
    "### Содержимое проекта\n",
    "\n",
    "- Загрузка и предобработка данных.\n",
    "\n",
    "- Проверка на дубликаты пользователей.\n",
    "\n",
    "- Формирование выборок по городам.\n",
    "\n",
    "- Проведение t-теста.\n",
    "\n",
    "- Интерпретация результатов.\n",
    "\n",
    "- Написание аналитической записки.\n",
    "---"
   ]
  },
  {
   "cell_type": "markdown",
   "id": "6f7d21d6",
   "metadata": {
    "id": "6f7d21d6"
   },
   "source": [
    "## Загрузка данных и знакомство с ними"
   ]
  },
  {
   "cell_type": "code",
   "execution_count": 1,
   "id": "360819e6",
   "metadata": {},
   "outputs": [],
   "source": [
    "import pandas as pd \n",
    "import seaborn as sns\n",
    "import scipy.stats as stats\n",
    "import matplotlib.pyplot as plt \n",
    "from scipy.stats import ttest_ind\n",
    "from scipy.stats import mannwhitneyu\n",
    "from statsmodels.stats.power import NormalIndPower\n",
    "from statsmodels.stats.proportion import proportions_ztest\n",
    "from statsmodels.stats.proportion import proportion_effectsize"
   ]
  },
  {
   "cell_type": "code",
   "execution_count": 2,
   "id": "f68a7419",
   "metadata": {
    "id": "f68a7419"
   },
   "outputs": [],
   "source": [
    "df = pd.read_csv('https://code.s3.yandex.net/datasets/yandex_knigi_data.csv')"
   ]
  },
  {
   "cell_type": "code",
   "execution_count": 3,
   "id": "4fee8744",
   "metadata": {},
   "outputs": [
    {
     "data": {
      "application/vnd.microsoft.datawrangler.viewer.v0+json": {
       "columns": [
        {
         "name": "index",
         "rawType": "int64",
         "type": "integer"
        },
        {
         "name": "Unnamed: 0",
         "rawType": "int64",
         "type": "integer"
        },
        {
         "name": "city",
         "rawType": "object",
         "type": "string"
        },
        {
         "name": "puid",
         "rawType": "int64",
         "type": "integer"
        },
        {
         "name": "hours",
         "rawType": "float64",
         "type": "float"
        }
       ],
       "conversionMethod": "pd.DataFrame",
       "ref": "46c715c0-f487-438f-bcef-95a9fe453248",
       "rows": [
        [
         "0",
         "0",
         "Москва",
         "9668",
         "26.16777638888889"
        ],
        [
         "1",
         "1",
         "Москва",
         "16598",
         "82.11121666666708"
        ],
        [
         "2",
         "2",
         "Москва",
         "80401",
         "4.656906060606061"
        ],
        [
         "3",
         "3",
         "Москва",
         "140205",
         "1.8405555555555555"
        ],
        [
         "4",
         "4",
         "Москва",
         "248755",
         "151.32643434343436"
        ]
       ],
       "shape": {
        "columns": 4,
        "rows": 5
       }
      },
      "text/html": [
       "<div>\n",
       "<style scoped>\n",
       "    .dataframe tbody tr th:only-of-type {\n",
       "        vertical-align: middle;\n",
       "    }\n",
       "\n",
       "    .dataframe tbody tr th {\n",
       "        vertical-align: top;\n",
       "    }\n",
       "\n",
       "    .dataframe thead th {\n",
       "        text-align: right;\n",
       "    }\n",
       "</style>\n",
       "<table border=\"1\" class=\"dataframe\">\n",
       "  <thead>\n",
       "    <tr style=\"text-align: right;\">\n",
       "      <th></th>\n",
       "      <th>Unnamed: 0</th>\n",
       "      <th>city</th>\n",
       "      <th>puid</th>\n",
       "      <th>hours</th>\n",
       "    </tr>\n",
       "  </thead>\n",
       "  <tbody>\n",
       "    <tr>\n",
       "      <th>0</th>\n",
       "      <td>0</td>\n",
       "      <td>Москва</td>\n",
       "      <td>9668</td>\n",
       "      <td>26.167776</td>\n",
       "    </tr>\n",
       "    <tr>\n",
       "      <th>1</th>\n",
       "      <td>1</td>\n",
       "      <td>Москва</td>\n",
       "      <td>16598</td>\n",
       "      <td>82.111217</td>\n",
       "    </tr>\n",
       "    <tr>\n",
       "      <th>2</th>\n",
       "      <td>2</td>\n",
       "      <td>Москва</td>\n",
       "      <td>80401</td>\n",
       "      <td>4.656906</td>\n",
       "    </tr>\n",
       "    <tr>\n",
       "      <th>3</th>\n",
       "      <td>3</td>\n",
       "      <td>Москва</td>\n",
       "      <td>140205</td>\n",
       "      <td>1.840556</td>\n",
       "    </tr>\n",
       "    <tr>\n",
       "      <th>4</th>\n",
       "      <td>4</td>\n",
       "      <td>Москва</td>\n",
       "      <td>248755</td>\n",
       "      <td>151.326434</td>\n",
       "    </tr>\n",
       "  </tbody>\n",
       "</table>\n",
       "</div>"
      ],
      "text/plain": [
       "   Unnamed: 0    city    puid       hours\n",
       "0           0  Москва    9668   26.167776\n",
       "1           1  Москва   16598   82.111217\n",
       "2           2  Москва   80401    4.656906\n",
       "3           3  Москва  140205    1.840556\n",
       "4           4  Москва  248755  151.326434"
      ]
     },
     "execution_count": 3,
     "metadata": {},
     "output_type": "execute_result"
    }
   ],
   "source": [
    "df.head()"
   ]
  },
  {
   "cell_type": "code",
   "execution_count": 4,
   "id": "56de2e0b",
   "metadata": {},
   "outputs": [
    {
     "data": {
      "application/vnd.microsoft.datawrangler.viewer.v0+json": {
       "columns": [
        {
         "name": "index",
         "rawType": "int64",
         "type": "integer"
        },
        {
         "name": "Unnamed: 0",
         "rawType": "int64",
         "type": "integer"
        },
        {
         "name": "city",
         "rawType": "object",
         "type": "string"
        },
        {
         "name": "puid",
         "rawType": "int64",
         "type": "integer"
        },
        {
         "name": "hours",
         "rawType": "float64",
         "type": "float"
        }
       ],
       "conversionMethod": "pd.DataFrame",
       "ref": "7ae86407-05f5-46ff-85ee-9c8233d55098",
       "rows": [
        [
         "8779",
         "8779",
         "Санкт-Петербург",
         "1130000028554332",
         "4.107774166666666"
        ],
        [
         "8780",
         "8780",
         "Санкт-Петербург",
         "1130000030307246",
         "45.069222222223054"
        ],
        [
         "8781",
         "8781",
         "Санкт-Петербург",
         "1130000038726322",
         "0.2119444444444444"
        ],
        [
         "8782",
         "8782",
         "Санкт-Петербург",
         "1130000047892100",
         "4.311841464646465"
        ],
        [
         "8783",
         "8783",
         "Санкт-Петербург",
         "1130000061443598",
         "20.847222222222214"
        ]
       ],
       "shape": {
        "columns": 4,
        "rows": 5
       }
      },
      "text/html": [
       "<div>\n",
       "<style scoped>\n",
       "    .dataframe tbody tr th:only-of-type {\n",
       "        vertical-align: middle;\n",
       "    }\n",
       "\n",
       "    .dataframe tbody tr th {\n",
       "        vertical-align: top;\n",
       "    }\n",
       "\n",
       "    .dataframe thead th {\n",
       "        text-align: right;\n",
       "    }\n",
       "</style>\n",
       "<table border=\"1\" class=\"dataframe\">\n",
       "  <thead>\n",
       "    <tr style=\"text-align: right;\">\n",
       "      <th></th>\n",
       "      <th>Unnamed: 0</th>\n",
       "      <th>city</th>\n",
       "      <th>puid</th>\n",
       "      <th>hours</th>\n",
       "    </tr>\n",
       "  </thead>\n",
       "  <tbody>\n",
       "    <tr>\n",
       "      <th>8779</th>\n",
       "      <td>8779</td>\n",
       "      <td>Санкт-Петербург</td>\n",
       "      <td>1130000028554332</td>\n",
       "      <td>4.107774</td>\n",
       "    </tr>\n",
       "    <tr>\n",
       "      <th>8780</th>\n",
       "      <td>8780</td>\n",
       "      <td>Санкт-Петербург</td>\n",
       "      <td>1130000030307246</td>\n",
       "      <td>45.069222</td>\n",
       "    </tr>\n",
       "    <tr>\n",
       "      <th>8781</th>\n",
       "      <td>8781</td>\n",
       "      <td>Санкт-Петербург</td>\n",
       "      <td>1130000038726322</td>\n",
       "      <td>0.211944</td>\n",
       "    </tr>\n",
       "    <tr>\n",
       "      <th>8782</th>\n",
       "      <td>8782</td>\n",
       "      <td>Санкт-Петербург</td>\n",
       "      <td>1130000047892100</td>\n",
       "      <td>4.311841</td>\n",
       "    </tr>\n",
       "    <tr>\n",
       "      <th>8783</th>\n",
       "      <td>8783</td>\n",
       "      <td>Санкт-Петербург</td>\n",
       "      <td>1130000061443598</td>\n",
       "      <td>20.847222</td>\n",
       "    </tr>\n",
       "  </tbody>\n",
       "</table>\n",
       "</div>"
      ],
      "text/plain": [
       "      Unnamed: 0             city              puid      hours\n",
       "8779        8779  Санкт-Петербург  1130000028554332   4.107774\n",
       "8780        8780  Санкт-Петербург  1130000030307246  45.069222\n",
       "8781        8781  Санкт-Петербург  1130000038726322   0.211944\n",
       "8782        8782  Санкт-Петербург  1130000047892100   4.311841\n",
       "8783        8783  Санкт-Петербург  1130000061443598  20.847222"
      ]
     },
     "execution_count": 4,
     "metadata": {},
     "output_type": "execute_result"
    }
   ],
   "source": [
    "df.tail()"
   ]
  },
  {
   "cell_type": "code",
   "execution_count": 5,
   "id": "53f0a727",
   "metadata": {},
   "outputs": [
    {
     "name": "stdout",
     "output_type": "stream",
     "text": [
      "<class 'pandas.core.frame.DataFrame'>\n",
      "RangeIndex: 8784 entries, 0 to 8783\n",
      "Data columns (total 4 columns):\n",
      " #   Column      Non-Null Count  Dtype  \n",
      "---  ------      --------------  -----  \n",
      " 0   Unnamed: 0  8784 non-null   int64  \n",
      " 1   city        8784 non-null   object \n",
      " 2   puid        8784 non-null   int64  \n",
      " 3   hours       8784 non-null   float64\n",
      "dtypes: float64(1), int64(2), object(1)\n",
      "memory usage: 274.6+ KB\n"
     ]
    }
   ],
   "source": [
    "df.info()"
   ]
  },
  {
   "cell_type": "code",
   "execution_count": 6,
   "id": "c047dd03",
   "metadata": {},
   "outputs": [],
   "source": [
    "df = df.drop('Unnamed: 0', axis='columns')"
   ]
  },
  {
   "cell_type": "code",
   "execution_count": 7,
   "id": "10ca5543",
   "metadata": {},
   "outputs": [
    {
     "name": "stdout",
     "output_type": "stream",
     "text": [
      "<class 'pandas.core.frame.DataFrame'>\n",
      "RangeIndex: 8784 entries, 0 to 8783\n",
      "Data columns (total 3 columns):\n",
      " #   Column  Non-Null Count  Dtype  \n",
      "---  ------  --------------  -----  \n",
      " 0   city    8784 non-null   object \n",
      " 1   puid    8784 non-null   int64  \n",
      " 2   hours   8784 non-null   float64\n",
      "dtypes: float64(1), int64(1), object(1)\n",
      "memory usage: 206.0+ KB\n"
     ]
    }
   ],
   "source": [
    "df.info()"
   ]
  },
  {
   "cell_type": "markdown",
   "id": "329b7a94",
   "metadata": {},
   "source": [
    "## Проверка на дубликаты "
   ]
  },
  {
   "cell_type": "code",
   "execution_count": 8,
   "id": "272d82aa",
   "metadata": {},
   "outputs": [
    {
     "data": {
      "application/vnd.microsoft.datawrangler.viewer.v0+json": {
       "columns": [
        {
         "name": "index",
         "rawType": "int64",
         "type": "integer"
        },
        {
         "name": "city",
         "rawType": "object",
         "type": "string"
        },
        {
         "name": "puid",
         "rawType": "int64",
         "type": "integer"
        },
        {
         "name": "hours",
         "rawType": "float64",
         "type": "float"
        }
       ],
       "conversionMethod": "pd.DataFrame",
       "ref": "c6992398-faee-43b3-a058-51566c18b56c",
       "rows": [
        [
         "6247",
         "Санкт-Петербург",
         "2637041",
         "3.883926111111112"
        ],
        [
         "35",
         "Москва",
         "2637041",
         "10.317370555560135"
        ],
        [
         "134",
         "Москва",
         "9979490",
         "32.415573232327816"
        ],
        [
         "6274",
         "Санкт-Петербург",
         "9979490",
         "1.3029969696969694"
        ],
        [
         "145",
         "Москва",
         "10597984",
         "42.93150555555555"
        ],
        [
         "6279",
         "Санкт-Петербург",
         "10597984",
         "9.04132"
        ],
        [
         "6283",
         "Санкт-Петербург",
         "10815097",
         "0.3232909090909091"
        ],
        [
         "150",
         "Москва",
         "10815097",
         "9.086654545454545"
        ],
        [
         "6300",
         "Санкт-Петербург",
         "13626259",
         "1.6484343434343434"
        ],
        [
         "187",
         "Москва",
         "13626259",
         "21.104166666666664"
        ],
        [
         "230",
         "Москва",
         "16488430",
         "1.5025"
        ],
        [
         "6314",
         "Санкт-Петербург",
         "16488430",
         "6.582367474747474"
        ],
        [
         "6328",
         "Санкт-Петербург",
         "19858636",
         "24.756946843434346"
        ],
        [
         "266",
         "Москва",
         "19858636",
         "3.579014141414141"
        ],
        [
         "281",
         "Москва",
         "21062838",
         "0.0868727272727272"
        ],
        [
         "6332",
         "Санкт-Петербург",
         "21062838",
         "0.8043242424242422"
        ],
        [
         "6343",
         "Санкт-Петербург",
         "24138278",
         "7.983501010101009"
        ],
        [
         "315",
         "Москва",
         "24138278",
         "1.9790545454545452"
        ],
        [
         "335",
         "Москва",
         "25963265",
         "0.0775"
        ],
        [
         "6345",
         "Санкт-Петербург",
         "25963265",
         "15.26944444444444"
        ],
        [
         "6350",
         "Санкт-Петербург",
         "26401499",
         "0.9398377777777775"
        ],
        [
         "339",
         "Москва",
         "26401499",
         "0.7899633333333334"
        ],
        [
         "345",
         "Москва",
         "26895846",
         "30.505385858585857"
        ],
        [
         "6352",
         "Санкт-Петербург",
         "26895846",
         "11.397777777777778"
        ],
        [
         "6360",
         "Санкт-Петербург",
         "28749167",
         "2.944722222222222"
        ],
        [
         "371",
         "Москва",
         "28749167",
         "0.6938888888888889"
        ],
        [
         "379",
         "Москва",
         "29664540",
         "1.9515181818181817"
        ],
        [
         "6364",
         "Санкт-Петербург",
         "29664540",
         "2.9884626262626264"
        ],
        [
         "6375",
         "Санкт-Петербург",
         "32242084",
         "0.0411636111111111"
        ],
        [
         "417",
         "Москва",
         "32242084",
         "4.577981666666666"
        ],
        [
         "502",
         "Москва",
         "40698887",
         "0.4400181818181818"
        ],
        [
         "6410",
         "Санкт-Петербург",
         "40698887",
         "10.807036363636364"
        ],
        [
         "516",
         "Москва",
         "42547965",
         "0.5499090909090909"
        ],
        [
         "6419",
         "Санкт-Петербург",
         "42547965",
         "0.4284545454545455"
        ],
        [
         "6425",
         "Санкт-Петербург",
         "45278551",
         "2.1069444444444443"
        ],
        [
         "541",
         "Москва",
         "45278551",
         "20.620277777777776"
        ],
        [
         "552",
         "Москва",
         "46837910",
         "1.0811111111111111"
        ],
        [
         "6429",
         "Санкт-Петербург",
         "46837910",
         "1.1968171717171714"
        ],
        [
         "6431",
         "Санкт-Петербург",
         "47332860",
         "4.1562013888888885"
        ],
        [
         "558",
         "Москва",
         "47332860",
         "0.6727183333333332"
        ],
        [
         "6441",
         "Санкт-Петербург",
         "50404677",
         "0.6539636363636364"
        ],
        [
         "574",
         "Москва",
         "50404677",
         "10.585531313131312"
        ],
        [
         "585",
         "Москва",
         "51625337",
         "0.0135455555555555"
        ],
        [
         "6445",
         "Санкт-Петербург",
         "51625337",
         "7.30849148989899"
        ],
        [
         "6462",
         "Санкт-Петербург",
         "59679749",
         "0.0715883333333333"
        ],
        [
         "637",
         "Москва",
         "59679749",
         "0.8970022222222221"
        ],
        [
         "655",
         "Москва",
         "64378638",
         "8.01611111111111"
        ],
        [
         "6475",
         "Санкт-Петербург",
         "64378638",
         "8.44888888888889"
        ],
        [
         "6476",
         "Санкт-Петербург",
         "64622566",
         "2.1004838383838376"
        ],
        [
         "656",
         "Москва",
         "64622566",
         "4.008858585858585"
        ]
       ],
       "shape": {
        "columns": 3,
        "rows": 488
       }
      },
      "text/html": [
       "<div>\n",
       "<style scoped>\n",
       "    .dataframe tbody tr th:only-of-type {\n",
       "        vertical-align: middle;\n",
       "    }\n",
       "\n",
       "    .dataframe tbody tr th {\n",
       "        vertical-align: top;\n",
       "    }\n",
       "\n",
       "    .dataframe thead th {\n",
       "        text-align: right;\n",
       "    }\n",
       "</style>\n",
       "<table border=\"1\" class=\"dataframe\">\n",
       "  <thead>\n",
       "    <tr style=\"text-align: right;\">\n",
       "      <th></th>\n",
       "      <th>city</th>\n",
       "      <th>puid</th>\n",
       "      <th>hours</th>\n",
       "    </tr>\n",
       "  </thead>\n",
       "  <tbody>\n",
       "    <tr>\n",
       "      <th>6247</th>\n",
       "      <td>Санкт-Петербург</td>\n",
       "      <td>2637041</td>\n",
       "      <td>3.883926</td>\n",
       "    </tr>\n",
       "    <tr>\n",
       "      <th>35</th>\n",
       "      <td>Москва</td>\n",
       "      <td>2637041</td>\n",
       "      <td>10.317371</td>\n",
       "    </tr>\n",
       "    <tr>\n",
       "      <th>134</th>\n",
       "      <td>Москва</td>\n",
       "      <td>9979490</td>\n",
       "      <td>32.415573</td>\n",
       "    </tr>\n",
       "    <tr>\n",
       "      <th>6274</th>\n",
       "      <td>Санкт-Петербург</td>\n",
       "      <td>9979490</td>\n",
       "      <td>1.302997</td>\n",
       "    </tr>\n",
       "    <tr>\n",
       "      <th>145</th>\n",
       "      <td>Москва</td>\n",
       "      <td>10597984</td>\n",
       "      <td>42.931506</td>\n",
       "    </tr>\n",
       "    <tr>\n",
       "      <th>...</th>\n",
       "      <td>...</td>\n",
       "      <td>...</td>\n",
       "      <td>...</td>\n",
       "    </tr>\n",
       "    <tr>\n",
       "      <th>8773</th>\n",
       "      <td>Санкт-Петербург</td>\n",
       "      <td>1130000020425037</td>\n",
       "      <td>2.386944</td>\n",
       "    </tr>\n",
       "    <tr>\n",
       "      <th>6202</th>\n",
       "      <td>Москва</td>\n",
       "      <td>1130000023864516</td>\n",
       "      <td>142.830085</td>\n",
       "    </tr>\n",
       "    <tr>\n",
       "      <th>8775</th>\n",
       "      <td>Санкт-Петербург</td>\n",
       "      <td>1130000023864516</td>\n",
       "      <td>14.384722</td>\n",
       "    </tr>\n",
       "    <tr>\n",
       "      <th>8779</th>\n",
       "      <td>Санкт-Петербург</td>\n",
       "      <td>1130000028554332</td>\n",
       "      <td>4.107774</td>\n",
       "    </tr>\n",
       "    <tr>\n",
       "      <th>6210</th>\n",
       "      <td>Москва</td>\n",
       "      <td>1130000028554332</td>\n",
       "      <td>11.277554</td>\n",
       "    </tr>\n",
       "  </tbody>\n",
       "</table>\n",
       "<p>488 rows × 3 columns</p>\n",
       "</div>"
      ],
      "text/plain": [
       "                 city              puid       hours\n",
       "6247  Санкт-Петербург           2637041    3.883926\n",
       "35             Москва           2637041   10.317371\n",
       "134            Москва           9979490   32.415573\n",
       "6274  Санкт-Петербург           9979490    1.302997\n",
       "145            Москва          10597984   42.931506\n",
       "...               ...               ...         ...\n",
       "8773  Санкт-Петербург  1130000020425037    2.386944\n",
       "6202           Москва  1130000023864516  142.830085\n",
       "8775  Санкт-Петербург  1130000023864516   14.384722\n",
       "8779  Санкт-Петербург  1130000028554332    4.107774\n",
       "6210           Москва  1130000028554332   11.277554\n",
       "\n",
       "[488 rows x 3 columns]"
      ]
     },
     "execution_count": 8,
     "metadata": {},
     "output_type": "execute_result"
    }
   ],
   "source": [
    "dup = df[df['puid'].duplicated(keep = False)].sort_values('puid')\n",
    "dup"
   ]
  },
  {
   "cell_type": "code",
   "execution_count": 9,
   "id": "578ea2d0",
   "metadata": {},
   "outputs": [
    {
     "name": "stdout",
     "output_type": "stream",
     "text": [
      "<class 'pandas.core.frame.DataFrame'>\n",
      "Index: 8540 entries, 0 to 8783\n",
      "Data columns (total 3 columns):\n",
      " #   Column  Non-Null Count  Dtype  \n",
      "---  ------  --------------  -----  \n",
      " 0   city    8540 non-null   object \n",
      " 1   puid    8540 non-null   int64  \n",
      " 2   hours   8540 non-null   float64\n",
      "dtypes: float64(1), int64(1), object(1)\n",
      "memory usage: 266.9+ KB\n"
     ]
    }
   ],
   "source": [
    "book_df = df.drop_duplicates(subset=['puid'])\n",
    "book_df.info()"
   ]
  },
  {
   "cell_type": "markdown",
   "id": "306baeb2",
   "metadata": {},
   "source": [
    "## Формирование выборок по городам"
   ]
  },
  {
   "cell_type": "code",
   "execution_count": 10,
   "id": "ed3ef252",
   "metadata": {},
   "outputs": [],
   "source": [
    "spb = book_df[(book_df['city'] == 'Санкт-Петербург')]\n",
    "msk = book_df[(book_df['city'] == 'Москва')] "
   ]
  },
  {
   "cell_type": "code",
   "execution_count": 11,
   "id": "e0f0ea24",
   "metadata": {},
   "outputs": [
    {
     "name": "stdout",
     "output_type": "stream",
     "text": [
      "Количество пользователей, которые встречаются одновременно в Санкт-Петербурге и Москве: 0\n"
     ]
    }
   ],
   "source": [
    "a_users = spb['puid']\n",
    "b_users = msk['puid']\n",
    "\n",
    "intersection = set(a_users) & set(b_users)\n",
    "\n",
    "print(f'Количество пользователей, которые встречаются одновременно в Санкт-Петербурге и Москве: {len(intersection)}')"
   ]
  },
  {
   "cell_type": "code",
   "execution_count": 12,
   "id": "b6517dbc",
   "metadata": {},
   "outputs": [
    {
     "name": "stdout",
     "output_type": "stream",
     "text": [
      "Количество уникальных пользователей в Санкт-Петербурге: 2306\n",
      "Количество уникальных пользователей в Москве: 6234\n"
     ]
    }
   ],
   "source": [
    "spb_count = spb['puid'].nunique()\n",
    "msk_count = msk['puid'].nunique()\n",
    "print(f'Количество уникальных пользователей в Санкт-Петербурге: {spb_count}')\n",
    "print(f'Количество уникальных пользователей в Москве: {msk_count}')"
   ]
  },
  {
   "cell_type": "code",
   "execution_count": 13,
   "id": "063d1ff4",
   "metadata": {},
   "outputs": [
    {
     "data": {
      "text/plain": [
       "<function matplotlib.pyplot.show(close=None, block=None)>"
      ]
     },
     "execution_count": 13,
     "metadata": {},
     "output_type": "execute_result"
    },
    {
     "data": {
      "image/png": "[encoded data removed]",
      "text/plain": [
       "<Figure size 1200x600 with 1 Axes>"
      ]
     },
     "metadata": {},
     "output_type": "display_data"
    }
   ],
   "source": [
    "city_test_count = book_df.groupby('city')['puid'].nunique()\n",
    "city_test_count.plot(kind='pie',\n",
    "                  figsize = (12,6),\n",
    "                  labels=['Москва','Санкт-Петербург'],\n",
    "                  autopct='%1.1f%%',\n",
    "                  startangle=140,\n",
    "                  colors=['indianred', 'cornflowerblue']\n",
    ")\n",
    "plt.title('Соотношение групп', fontsize=14)\n",
    "plt.ylabel('')\n",
    "plt.show"
   ]
  },
  {
   "cell_type": "code",
   "execution_count": 14,
   "id": "2e1329ee",
   "metadata": {},
   "outputs": [
    {
     "name": "stderr",
     "output_type": "stream",
     "text": [
      "C:\\Users\\elise\\AppData\\Local\\Temp\\ipykernel_19668\\489142889.py:2: FutureWarning: \n",
      "\n",
      "Passing `palette` without assigning `hue` is deprecated and will be removed in v0.14.0. Assign the `x` variable to `hue` and set `legend=False` for the same effect.\n",
      "\n",
      "  sns.boxplot(data=book_df,\n"
     ]
    },
    {
     "data": {
      "image/png": "[encoded data removed]",
      "text/plain": [
       "<Figure size 1200x600 with 1 Axes>"
      ]
     },
     "metadata": {},
     "output_type": "display_data"
    }
   ],
   "source": [
    "plt.figure(figsize=(12, 6))\n",
    "sns.boxplot(data=book_df,\n",
    "            x='city',\n",
    "            y='hours',\n",
    "            palette='Set3'\n",
    ")\n",
    "plt.xticks(rotation=45)\n",
    "plt.title('Распределение часов активности по городам', fontsize=14)\n",
    "plt.xlabel('Город', fontsize=12)\n",
    "plt.ylabel('Количество часов активности', fontsize=12)\n",
    "plt.ylim(0, 100)\n",
    "plt.tight_layout()\n",
    "plt.show()"
   ]
  },
  {
   "cell_type": "code",
   "execution_count": 15,
   "id": "1edc5932",
   "metadata": {},
   "outputs": [
    {
     "name": "stdout",
     "output_type": "stream",
     "text": [
      "                  count       mean        std       min       25%       50%  \\\n",
      "city                                                                          \n",
      "Москва           6234.0  10.881092  36.851683  0.000018  0.059903  0.924498   \n",
      "Санкт-Петербург  2306.0  11.264433  39.831755  0.000025  0.060173  0.875355   \n",
      "\n",
      "                      75%         max  \n",
      "city                                   \n",
      "Москва           5.939972  857.209373  \n",
      "Санкт-Петербург  6.138424  978.764775  \n"
     ]
    }
   ],
   "source": [
    "group_stats = book_df.groupby('city')['hours'].describe()\n",
    "print(group_stats)"
   ]
  },
  {
   "cell_type": "code",
   "execution_count": 16,
   "id": "b698e21d",
   "metadata": {},
   "outputs": [
    {
     "data": {
      "image/png": "[encoded data removed]",
      "text/plain": [
       "<Figure size 1000x500 with 1 Axes>"
      ]
     },
     "metadata": {},
     "output_type": "display_data"
    }
   ],
   "source": [
    "plt.figure(figsize=(10, 5))\n",
    "sns.histplot(book_df['hours'],\n",
    "             bins=50,\n",
    "             kde=True,\n",
    "             color='cornflowerblue'\n",
    ")\n",
    "\n",
    "plt.title('Распределение общего количества часов активности', fontsize=14)\n",
    "plt.xlabel('Часы активности')\n",
    "plt.ylabel('Количество пользователей')\n",
    "plt.grid(True)\n",
    "plt.tight_layout()\n",
    "plt.show()"
   ]
  },
  {
   "cell_type": "markdown",
   "id": "c0bfc28e",
   "metadata": {},
   "source": [
    "## Вывод по распределению часов активности и его влиянию на исследование\n",
    "Особенности распределения часов активности\n",
    "\n",
    "\n",
    "- Распределение по обоим городам (Москва и Санкт-Петербург) имеет:\n",
    "\n",
    "    - Сильно сдвинутую форму (асимметрию) — большинство пользователей проводят мало времени, но есть значительные выбросы (максимумы выше 850–900 часов).\n",
    "\n",
    "    - Среднее значение сильно превышает медиану, что подтверждает влияние выбросов.\n",
    "\n",
    "        - Москва: среднее — ~10.9 ч, медиана — ~0.9 ч.\n",
    "\n",
    "        - СПб: среднее — ~11.3 ч, медиана — ~0.87 ч.\n",
    "\n",
    "\n",
    "- Распределение пользователей между городами\n",
    "\n",
    "    - Москва: 6234 пользователей\n",
    "\n",
    "    - Санкт-Петербург: 2306 пользователей\n",
    "\n",
    "\n",
    "- Как это может повлиять на тест\n",
    "\n",
    "    - Если доля москвичей и петербуржцев неравномерно распределена по тестовым группам, то:\n",
    "\n",
    "    - Полученные различия в метриках могут быть связаны не с воздействием эксперимента, а с географическими особенностями поведения.\n",
    "\n",
    "    - Поэтому важно дополнительно проверить, как города распределены по группам A и B, чтобы исключить конфоундинг-фактор.\n",
    "    \n",
    "\n",
    "- Предобработка данных\n",
    "\n",
    "    - Размер исходных данных: 8784 записей.\n",
    "\n",
    "    - Найдено 244 дубликата пользователей по puid — удалены.\n",
    "\n",
    "    - Итоговый объём данных: 8540 пользователей."
   ]
  },
  {
   "cell_type": "markdown",
   "id": "956e82e2",
   "metadata": {
    "id": "956e82e2"
   },
   "source": [
    "## Проверка гипотезы в Python\n",
    "\n",
    "Гипотеза звучит так: пользователи из Санкт-Петербурга проводят в среднем больше времени за чтением и прослушиванием книг в приложении, чем пользователи из Москвы. Попробуйте статистически это доказать, используя одностороннюю проверку гипотезы с двумя выборками:\n",
    "\n",
    "- Нулевая гипотеза H₀: Средняя активность пользователей в часах в двух группах (Москва и Санкт-Петербург) не различается.\n",
    "\n",
    "- Альтернативная гипотеза H₁: Средняя активность пользователей в Санкт-Петербурге больше, и это различие статистически значимо."
   ]
  },
  {
   "cell_type": "code",
   "execution_count": 17,
   "id": "2cbb09b6",
   "metadata": {},
   "outputs": [
    {
     "name": "stdout",
     "output_type": "stream",
     "text": [
      "T-статистика: 0.403\n",
      "P-value (односторонний): 0.3436\n",
      "Недостаточно оснований отвергнуть нулевую гипотезу: различие не является статистически значимым.\n"
     ]
    }
   ],
   "source": [
    "sample_a = spb['hours']\n",
    "sample_b = msk['hours']\n",
    "\n",
    "alpha = 0.05\n",
    "\n",
    "stat_ttest, p_value_ttest = ttest_ind(\n",
    "    sample_a,\n",
    "    sample_b,\n",
    "    alternative='greater',\n",
    "    equal_var=False)\n",
    "\n",
    "print(f'T-статистика: {stat_ttest:.3f}')\n",
    "print(f'P-value (односторонний): {p_value_ttest:.4f}')\n",
    "\n",
    "if p_value_ttest < alpha:\n",
    "    print('Отвергаем нулевую гипотезу: пользователи из Санкт-Петербурга проводят больше времени в приложении.')\n",
    "else:\n",
    "    print('Недостаточно оснований отвергнуть нулевую гипотезу: различие не является статистически значимым.')"
   ]
  },
  {
   "cell_type": "code",
   "execution_count": 18,
   "id": "0aa2f676",
   "metadata": {},
   "outputs": [
    {
     "name": "stdout",
     "output_type": "stream",
     "text": [
      "Среднее время активности пользователей в СПб: 11.264433367029522\n",
      "Среднее время активности пользователей в Москве: 10.88109206345796\n"
     ]
    }
   ],
   "source": [
    "print(\"Среднее время активности пользователей в СПб:\", sample_a.mean())\n",
    "print(\"Среднее время активности пользователей в Москве:\", sample_b.mean())"
   ]
  },
  {
   "cell_type": "code",
   "execution_count": 19,
   "id": "7a492b4c",
   "metadata": {},
   "outputs": [
    {
     "name": "stdout",
     "output_type": "stream",
     "text": [
      "Медианное время активности пользователей в СПб: 0.8753550505050504\n",
      "Медианное время активности пользователей в Москве: 0.9244980209724304\n"
     ]
    }
   ],
   "source": [
    "print(\"Медианное время активности пользователей в СПб:\", sample_a.median())\n",
    "print(\"Медианное время активности пользователей в Москве:\", sample_b.median())"
   ]
  },
  {
   "cell_type": "markdown",
   "id": "6a2cae9a",
   "metadata": {},
   "source": [
    "## П.С Тест Манна–Уитни"
   ]
  },
  {
   "cell_type": "code",
   "execution_count": 20,
   "id": "9db4e64f",
   "metadata": {},
   "outputs": [
    {
     "name": "stdout",
     "output_type": "stream",
     "text": [
      "U-статистика: 7157178.5\n",
      "P-value (односторонний): 0.6190\n",
      "Недостаточно оснований отвергнуть нулевую гипотезу: различие не является статистически значимым.\n"
     ]
    }
   ],
   "source": [
    "stat_mw, p_value_mw = mannwhitneyu(\n",
    "    sample_a,\n",
    "    sample_b,\n",
    "    alternative='greater')\n",
    "\n",
    "print(f'U-статистика: {stat_mw}')\n",
    "print(f'P-value (односторонний): {p_value_mw:.4f}')\n",
    "\n",
    "if p_value_mw < alpha:\n",
    "    print('Отвергаем нулевую гипотезу: пользователи из Санкт-Петербурга проводят больше времени в приложении.')\n",
    "else:\n",
    "    print('Недостаточно оснований отвергнуть нулевую гипотезу: различие не является статистически значимым.')"
   ]
  },
  {
   "cell_type": "markdown",
   "id": "6953e84c",
   "metadata": {
    "id": "6953e84c"
   },
   "source": [
    "## Аналитическая записка\n",
    "\n",
    "- Гипотезы:\n",
    "\n",
    "    - H₀ (нулевая): среднее время активности пользователей из Санкт-Петербурга не больше, чем у пользователей из Москвы.\n",
    "\n",
    "    - H₁ (альтернативная): среднее время активности пользователей из Санкт-Петербурга больше, чем у пользователей из Москвы.\n",
    "\n",
    "\n",
    "- Тип теста:\n",
    "\n",
    "    - Независимый односторонний t-тест, так как сравниваются две независимые выборки пользователей.\n",
    "\n",
    "- Уровень значимости:\n",
    "    α = 0.05\n",
    "\n",
    "- Результаты теста:\n",
    "    T-статистика: 0.403\n",
    "\n",
    "- P-value: 0.3436\n",
    "\n",
    "\n",
    "- Средняя активность:\n",
    "\n",
    "    - СПб: 11.26 часов\n",
    "\n",
    "    - Москва: 10.88 часов\n",
    "\n",
    "\n",
    "- Медианное время активности:\n",
    "\n",
    "    - СПб: 0.87 часов\n",
    "\n",
    "    - Москва: 0.92 часов\n",
    "\n",
    "\n",
    "\n",
    "- Вывод:\n",
    "\n",
    "    - Несмотря на то, что среднее в СПб было выше (11.26 против 10.88 часов), медиана наоборот — чуть выше в Москве. Это говорит о влиянии редких, но очень длинных сессий в Санкт-Петербурге, которые завышают среднее.\n",
    "\n",
    "    - Распределения асимметричны и с длинным \"хвостом\" — особенно у СПб.\n",
    "\n",
    "    - Поэтому медиана более устойчива и, похоже, говорит о том, что типичный пользователь из Москвы активнее, пусть и ненамного.\n",
    "\n",
    "\n",
    "- Вывод T-тест:\n",
    "P-value выше α, поэтому нет оснований отвергнуть нулевую гипотезу.\n",
    "То есть статистически нельзя утверждать, что пользователи из Санкт-Петербурга проводят больше времени в приложении, чем пользователи из Москвы.\n",
    "\n",
    "\n",
    "- Возможные причины таких результатов\n",
    "    - Схожее поведение пользователей: аудитория в двух городах может иметь одинаковые привычки потребления контента.\n",
    "\n",
    "    - Шум в данных: присутствие пользователей с аномальной активностью (например, >100 часов), может влиять на средние значения.\n",
    "    \n",
    "    - Выборка из СПб в 3 раза меньше, что снижает статистическую мощность теста — но даже так, различие не просматривается.\n",
    "\n",
    "\n",
    "- П.С. Тест Манна–Уитни\n",
    "    - P-value = 0.6190 — намного выше порогового значения α = 0.05, поэтому нет оснований отвергнуть нулевую гипотезу.\n",
    "\n",
    "    - Даже при использовании более гибкого и надёжного теста Манна–Уитни различия между Санкт-Петербургом и Москвой по времени активности статистически незначимы.\n"
   ]
  },
  {
   "cell_type": "markdown",
   "id": "hc1d6jVISegz",
   "metadata": {
    "id": "hc1d6jVISegz"
   },
   "source": [
    "----"
   ]
  },
  {
   "cell_type": "markdown",
   "id": "NqOUIYhbrIfC",
   "metadata": {
    "id": "NqOUIYhbrIfC"
   },
   "source": [
    "# Часть 2. Conversion — Анализ результатов A/B-тестирования интерфейса интернет-магазина BitMotion Kit"
   ]
  },
  {
   "cell_type": "markdown",
   "id": "UNXAAyF5r9Rk",
   "metadata": {
    "id": "UNXAAyF5r9Rk"
   },
   "source": [
    "## Анализ результатов A/B-тестирования\n",
    "- Автор: Сорокин Елисей "
   ]
  },
  {
   "cell_type": "markdown",
   "id": "4a0870f1",
   "metadata": {},
   "source": [
    "### Цели и задачи проекта\n",
    "\n",
    "- Цель:\n",
    "    - Оценить влияние новой версии интерфейса интернет-магазина BitMotion Kit на поведение пользователей и проверить, приводит ли она к увеличению доли покупок.\n",
    "\n",
    "- Задачи:\n",
    "    - Загрузить и изучить предоставленные данные.\n",
    "\n",
    "    - Проверить корректность проведения A/B-теста (разделение пользователей, длительность, пересечения).\n",
    "\n",
    "    - Сформировать выборки и рассчитать ключевую метрику — конверсию.\n",
    "\n",
    "    - Провести статистическую проверку гипотез.\n",
    "\n",
    "    - Сделать выводы и сформулировать рекомендации.\n"
   ]
  },
  {
   "cell_type": "markdown",
   "id": "kHx-51yES8bd",
   "metadata": {
    "id": "kHx-51yES8bd"
   },
   "source": [
    "### Описание данных\n",
    "В рамках A/B-теста интернет-магазина BitMotion Kit доступны две таблицы:\n",
    "\n",
    "- Таблица participants — информация об участниках эксперимента:\n",
    "\n",
    "    - user_id — уникальный идентификатор пользователя;\n",
    "\n",
    "    - group — группа участия;\n",
    "\n",
    "    - ab_test — название теста;\n",
    "\n",
    "    - device — устройство, с которого пользователь зашёл на сайт.\n",
    "\n",
    "    - Размер таблицы: 14 525 строк, пропусков нет.\n",
    "\n",
    "\n",
    "- Таблица events — события, зафиксированные на сайте:\n",
    "\n",
    "    - user_id — уникальный идентификатор пользователя;\n",
    "\n",
    "    - event_dt — дата и время события;\n",
    "\n",
    "    - event_name — тип события;\n",
    "\n",
    "    - details — дополнительные данные по событию.\n",
    "\n",
    "    - Размер таблицы: 787 286 строк, пропуски есть только в поле details, что не критично для анализа поведения.\n",
    "\n"
   ]
  },
  {
   "cell_type": "markdown",
   "id": "_CZryx2OsH-s",
   "metadata": {
    "id": "_CZryx2OsH-s"
   },
   "source": [
    "## Загрузка данных и знакомство с ними \n"
   ]
  },
  {
   "cell_type": "code",
   "execution_count": 21,
   "id": "DjFcJbeGsTIg",
   "metadata": {
    "id": "DjFcJbeGsTIg"
   },
   "outputs": [],
   "source": [
    "participants = pd.read_csv('https://code.s3.yandex.net/datasets/ab_test_participants.csv')\n",
    "events = pd.read_csv('https://code.s3.yandex.net/datasets/ab_test_events.zip',\n",
    "                     parse_dates=['event_dt'], low_memory=False)"
   ]
  },
  {
   "cell_type": "code",
   "execution_count": 22,
   "id": "1d6b2257",
   "metadata": {},
   "outputs": [
    {
     "data": {
      "application/vnd.microsoft.datawrangler.viewer.v0+json": {
       "columns": [
        {
         "name": "index",
         "rawType": "int64",
         "type": "integer"
        },
        {
         "name": "user_id",
         "rawType": "object",
         "type": "string"
        },
        {
         "name": "group",
         "rawType": "object",
         "type": "string"
        },
        {
         "name": "ab_test",
         "rawType": "object",
         "type": "string"
        },
        {
         "name": "device",
         "rawType": "object",
         "type": "string"
        }
       ],
       "conversionMethod": "pd.DataFrame",
       "ref": "0d90f177-bab6-43cc-8cb1-0b2653ba2298",
       "rows": [
        [
         "0",
         "0002CE61FF2C4011",
         "B",
         "interface_eu_test",
         "Mac"
        ],
        [
         "1",
         "001064FEAAB631A1",
         "B",
         "recommender_system_test",
         "Android"
        ],
        [
         "2",
         "001064FEAAB631A1",
         "A",
         "interface_eu_test",
         "Android"
        ],
        [
         "3",
         "0010A1C096941592",
         "A",
         "recommender_system_test",
         "Android"
        ],
        [
         "4",
         "001E72F50D1C48FA",
         "A",
         "interface_eu_test",
         "Mac"
        ]
       ],
       "shape": {
        "columns": 4,
        "rows": 5
       }
      },
      "text/html": [
       "<div>\n",
       "<style scoped>\n",
       "    .dataframe tbody tr th:only-of-type {\n",
       "        vertical-align: middle;\n",
       "    }\n",
       "\n",
       "    .dataframe tbody tr th {\n",
       "        vertical-align: top;\n",
       "    }\n",
       "\n",
       "    .dataframe thead th {\n",
       "        text-align: right;\n",
       "    }\n",
       "</style>\n",
       "<table border=\"1\" class=\"dataframe\">\n",
       "  <thead>\n",
       "    <tr style=\"text-align: right;\">\n",
       "      <th></th>\n",
       "      <th>user_id</th>\n",
       "      <th>group</th>\n",
       "      <th>ab_test</th>\n",
       "      <th>device</th>\n",
       "    </tr>\n",
       "  </thead>\n",
       "  <tbody>\n",
       "    <tr>\n",
       "      <th>0</th>\n",
       "      <td>0002CE61FF2C4011</td>\n",
       "      <td>B</td>\n",
       "      <td>interface_eu_test</td>\n",
       "      <td>Mac</td>\n",
       "    </tr>\n",
       "    <tr>\n",
       "      <th>1</th>\n",
       "      <td>001064FEAAB631A1</td>\n",
       "      <td>B</td>\n",
       "      <td>recommender_system_test</td>\n",
       "      <td>Android</td>\n",
       "    </tr>\n",
       "    <tr>\n",
       "      <th>2</th>\n",
       "      <td>001064FEAAB631A1</td>\n",
       "      <td>A</td>\n",
       "      <td>interface_eu_test</td>\n",
       "      <td>Android</td>\n",
       "    </tr>\n",
       "    <tr>\n",
       "      <th>3</th>\n",
       "      <td>0010A1C096941592</td>\n",
       "      <td>A</td>\n",
       "      <td>recommender_system_test</td>\n",
       "      <td>Android</td>\n",
       "    </tr>\n",
       "    <tr>\n",
       "      <th>4</th>\n",
       "      <td>001E72F50D1C48FA</td>\n",
       "      <td>A</td>\n",
       "      <td>interface_eu_test</td>\n",
       "      <td>Mac</td>\n",
       "    </tr>\n",
       "  </tbody>\n",
       "</table>\n",
       "</div>"
      ],
      "text/plain": [
       "            user_id group                  ab_test   device\n",
       "0  0002CE61FF2C4011     B        interface_eu_test      Mac\n",
       "1  001064FEAAB631A1     B  recommender_system_test  Android\n",
       "2  001064FEAAB631A1     A        interface_eu_test  Android\n",
       "3  0010A1C096941592     A  recommender_system_test  Android\n",
       "4  001E72F50D1C48FA     A        interface_eu_test      Mac"
      ]
     },
     "execution_count": 22,
     "metadata": {},
     "output_type": "execute_result"
    }
   ],
   "source": [
    "participants.head()"
   ]
  },
  {
   "cell_type": "code",
   "execution_count": 23,
   "id": "60ac6c7b",
   "metadata": {},
   "outputs": [
    {
     "data": {
      "application/vnd.microsoft.datawrangler.viewer.v0+json": {
       "columns": [
        {
         "name": "index",
         "rawType": "int64",
         "type": "integer"
        },
        {
         "name": "user_id",
         "rawType": "object",
         "type": "string"
        },
        {
         "name": "group",
         "rawType": "object",
         "type": "string"
        },
        {
         "name": "ab_test",
         "rawType": "object",
         "type": "string"
        },
        {
         "name": "device",
         "rawType": "object",
         "type": "string"
        }
       ],
       "conversionMethod": "pd.DataFrame",
       "ref": "b10781cb-c76b-4ee3-8364-a0d5ff54b00e",
       "rows": [
        [
         "14520",
         "FFE7FC140521F5F6",
         "A",
         "interface_eu_test",
         "PC"
        ],
        [
         "14521",
         "FFEFC0E55C1CCD4F",
         "A",
         "interface_eu_test",
         "PC"
        ],
        [
         "14522",
         "FFF28D02B1EACBE1",
         "B",
         "recommender_system_test",
         "PC"
        ],
        [
         "14523",
         "FFF28D02B1EACBE1",
         "B",
         "interface_eu_test",
         "PC"
        ],
        [
         "14524",
         "FFF58BC33966EB51",
         "A",
         "interface_eu_test",
         "Android"
        ]
       ],
       "shape": {
        "columns": 4,
        "rows": 5
       }
      },
      "text/html": [
       "<div>\n",
       "<style scoped>\n",
       "    .dataframe tbody tr th:only-of-type {\n",
       "        vertical-align: middle;\n",
       "    }\n",
       "\n",
       "    .dataframe tbody tr th {\n",
       "        vertical-align: top;\n",
       "    }\n",
       "\n",
       "    .dataframe thead th {\n",
       "        text-align: right;\n",
       "    }\n",
       "</style>\n",
       "<table border=\"1\" class=\"dataframe\">\n",
       "  <thead>\n",
       "    <tr style=\"text-align: right;\">\n",
       "      <th></th>\n",
       "      <th>user_id</th>\n",
       "      <th>group</th>\n",
       "      <th>ab_test</th>\n",
       "      <th>device</th>\n",
       "    </tr>\n",
       "  </thead>\n",
       "  <tbody>\n",
       "    <tr>\n",
       "      <th>14520</th>\n",
       "      <td>FFE7FC140521F5F6</td>\n",
       "      <td>A</td>\n",
       "      <td>interface_eu_test</td>\n",
       "      <td>PC</td>\n",
       "    </tr>\n",
       "    <tr>\n",
       "      <th>14521</th>\n",
       "      <td>FFEFC0E55C1CCD4F</td>\n",
       "      <td>A</td>\n",
       "      <td>interface_eu_test</td>\n",
       "      <td>PC</td>\n",
       "    </tr>\n",
       "    <tr>\n",
       "      <th>14522</th>\n",
       "      <td>FFF28D02B1EACBE1</td>\n",
       "      <td>B</td>\n",
       "      <td>recommender_system_test</td>\n",
       "      <td>PC</td>\n",
       "    </tr>\n",
       "    <tr>\n",
       "      <th>14523</th>\n",
       "      <td>FFF28D02B1EACBE1</td>\n",
       "      <td>B</td>\n",
       "      <td>interface_eu_test</td>\n",
       "      <td>PC</td>\n",
       "    </tr>\n",
       "    <tr>\n",
       "      <th>14524</th>\n",
       "      <td>FFF58BC33966EB51</td>\n",
       "      <td>A</td>\n",
       "      <td>interface_eu_test</td>\n",
       "      <td>Android</td>\n",
       "    </tr>\n",
       "  </tbody>\n",
       "</table>\n",
       "</div>"
      ],
      "text/plain": [
       "                user_id group                  ab_test   device\n",
       "14520  FFE7FC140521F5F6     A        interface_eu_test       PC\n",
       "14521  FFEFC0E55C1CCD4F     A        interface_eu_test       PC\n",
       "14522  FFF28D02B1EACBE1     B  recommender_system_test       PC\n",
       "14523  FFF28D02B1EACBE1     B        interface_eu_test       PC\n",
       "14524  FFF58BC33966EB51     A        interface_eu_test  Android"
      ]
     },
     "execution_count": 23,
     "metadata": {},
     "output_type": "execute_result"
    }
   ],
   "source": [
    "participants.tail()"
   ]
  },
  {
   "cell_type": "code",
   "execution_count": 24,
   "id": "fd4ac984",
   "metadata": {},
   "outputs": [
    {
     "name": "stdout",
     "output_type": "stream",
     "text": [
      "<class 'pandas.core.frame.DataFrame'>\n",
      "RangeIndex: 14525 entries, 0 to 14524\n",
      "Data columns (total 4 columns):\n",
      " #   Column   Non-Null Count  Dtype \n",
      "---  ------   --------------  ----- \n",
      " 0   user_id  14525 non-null  object\n",
      " 1   group    14525 non-null  object\n",
      " 2   ab_test  14525 non-null  object\n",
      " 3   device   14525 non-null  object\n",
      "dtypes: object(4)\n",
      "memory usage: 454.0+ KB\n"
     ]
    }
   ],
   "source": [
    "participants.info()"
   ]
  },
  {
   "cell_type": "code",
   "execution_count": 25,
   "id": "fd3775a3",
   "metadata": {},
   "outputs": [
    {
     "data": {
      "application/vnd.microsoft.datawrangler.viewer.v0+json": {
       "columns": [
        {
         "name": "index",
         "rawType": "int64",
         "type": "integer"
        },
        {
         "name": "user_id",
         "rawType": "object",
         "type": "string"
        },
        {
         "name": "event_dt",
         "rawType": "datetime64[ns]",
         "type": "datetime"
        },
        {
         "name": "event_name",
         "rawType": "object",
         "type": "string"
        },
        {
         "name": "details",
         "rawType": "object",
         "type": "unknown"
        }
       ],
       "conversionMethod": "pd.DataFrame",
       "ref": "5ab374f2-de76-4c27-ae36-b3673caef64d",
       "rows": [
        [
         "0",
         "GLOBAL",
         "2020-12-01 00:00:00",
         "End of Black Friday Ads Campaign",
         "ZONE_CODE15"
        ],
        [
         "1",
         "CCBE9E7E99F94A08",
         "2020-12-01 00:00:11",
         "registration",
         "0.0"
        ],
        [
         "2",
         "GLOBAL",
         "2020-12-01 00:00:25",
         "product_page",
         null
        ],
        [
         "3",
         "CCBE9E7E99F94A08",
         "2020-12-01 00:00:33",
         "login",
         null
        ],
        [
         "4",
         "CCBE9E7E99F94A08",
         "2020-12-01 00:00:52",
         "product_page",
         null
        ]
       ],
       "shape": {
        "columns": 4,
        "rows": 5
       }
      },
      "text/html": [
       "<div>\n",
       "<style scoped>\n",
       "    .dataframe tbody tr th:only-of-type {\n",
       "        vertical-align: middle;\n",
       "    }\n",
       "\n",
       "    .dataframe tbody tr th {\n",
       "        vertical-align: top;\n",
       "    }\n",
       "\n",
       "    .dataframe thead th {\n",
       "        text-align: right;\n",
       "    }\n",
       "</style>\n",
       "<table border=\"1\" class=\"dataframe\">\n",
       "  <thead>\n",
       "    <tr style=\"text-align: right;\">\n",
       "      <th></th>\n",
       "      <th>user_id</th>\n",
       "      <th>event_dt</th>\n",
       "      <th>event_name</th>\n",
       "      <th>details</th>\n",
       "    </tr>\n",
       "  </thead>\n",
       "  <tbody>\n",
       "    <tr>\n",
       "      <th>0</th>\n",
       "      <td>GLOBAL</td>\n",
       "      <td>2020-12-01 00:00:00</td>\n",
       "      <td>End of Black Friday Ads Campaign</td>\n",
       "      <td>ZONE_CODE15</td>\n",
       "    </tr>\n",
       "    <tr>\n",
       "      <th>1</th>\n",
       "      <td>CCBE9E7E99F94A08</td>\n",
       "      <td>2020-12-01 00:00:11</td>\n",
       "      <td>registration</td>\n",
       "      <td>0.0</td>\n",
       "    </tr>\n",
       "    <tr>\n",
       "      <th>2</th>\n",
       "      <td>GLOBAL</td>\n",
       "      <td>2020-12-01 00:00:25</td>\n",
       "      <td>product_page</td>\n",
       "      <td>NaN</td>\n",
       "    </tr>\n",
       "    <tr>\n",
       "      <th>3</th>\n",
       "      <td>CCBE9E7E99F94A08</td>\n",
       "      <td>2020-12-01 00:00:33</td>\n",
       "      <td>login</td>\n",
       "      <td>NaN</td>\n",
       "    </tr>\n",
       "    <tr>\n",
       "      <th>4</th>\n",
       "      <td>CCBE9E7E99F94A08</td>\n",
       "      <td>2020-12-01 00:00:52</td>\n",
       "      <td>product_page</td>\n",
       "      <td>NaN</td>\n",
       "    </tr>\n",
       "  </tbody>\n",
       "</table>\n",
       "</div>"
      ],
      "text/plain": [
       "            user_id            event_dt                        event_name  \\\n",
       "0            GLOBAL 2020-12-01 00:00:00  End of Black Friday Ads Campaign   \n",
       "1  CCBE9E7E99F94A08 2020-12-01 00:00:11                      registration   \n",
       "2            GLOBAL 2020-12-01 00:00:25                      product_page   \n",
       "3  CCBE9E7E99F94A08 2020-12-01 00:00:33                             login   \n",
       "4  CCBE9E7E99F94A08 2020-12-01 00:00:52                      product_page   \n",
       "\n",
       "       details  \n",
       "0  ZONE_CODE15  \n",
       "1          0.0  \n",
       "2          NaN  \n",
       "3          NaN  \n",
       "4          NaN  "
      ]
     },
     "execution_count": 25,
     "metadata": {},
     "output_type": "execute_result"
    }
   ],
   "source": [
    "events.head()"
   ]
  },
  {
   "cell_type": "code",
   "execution_count": 26,
   "id": "d130be97",
   "metadata": {},
   "outputs": [
    {
     "data": {
      "application/vnd.microsoft.datawrangler.viewer.v0+json": {
       "columns": [
        {
         "name": "index",
         "rawType": "int64",
         "type": "integer"
        },
        {
         "name": "user_id",
         "rawType": "object",
         "type": "string"
        },
        {
         "name": "event_dt",
         "rawType": "datetime64[ns]",
         "type": "datetime"
        },
        {
         "name": "event_name",
         "rawType": "object",
         "type": "string"
        },
        {
         "name": "details",
         "rawType": "object",
         "type": "unknown"
        }
       ],
       "conversionMethod": "pd.DataFrame",
       "ref": "407197ce-7b11-449d-8b9c-c50242482891",
       "rows": [
        [
         "787281",
         "1A655C280B064708",
         "2020-12-31 23:57:44",
         "product_page",
         null
        ],
        [
         "787282",
         "B77B2F4BCA134618",
         "2020-12-31 23:58:23",
         "registration",
         "0.0"
        ],
        [
         "787283",
         "GLOBAL",
         "2020-12-31 23:58:30",
         "product_cart",
         null
        ],
        [
         "787284",
         "B12AD1623E494FAD",
         "2020-12-31 23:58:34",
         "registration",
         "-6.52"
        ],
        [
         "787285",
         "5456977474344433",
         "2020-12-31 23:59:48",
         "registration",
         "-3.67"
        ]
       ],
       "shape": {
        "columns": 4,
        "rows": 5
       }
      },
      "text/html": [
       "<div>\n",
       "<style scoped>\n",
       "    .dataframe tbody tr th:only-of-type {\n",
       "        vertical-align: middle;\n",
       "    }\n",
       "\n",
       "    .dataframe tbody tr th {\n",
       "        vertical-align: top;\n",
       "    }\n",
       "\n",
       "    .dataframe thead th {\n",
       "        text-align: right;\n",
       "    }\n",
       "</style>\n",
       "<table border=\"1\" class=\"dataframe\">\n",
       "  <thead>\n",
       "    <tr style=\"text-align: right;\">\n",
       "      <th></th>\n",
       "      <th>user_id</th>\n",
       "      <th>event_dt</th>\n",
       "      <th>event_name</th>\n",
       "      <th>details</th>\n",
       "    </tr>\n",
       "  </thead>\n",
       "  <tbody>\n",
       "    <tr>\n",
       "      <th>787281</th>\n",
       "      <td>1A655C280B064708</td>\n",
       "      <td>2020-12-31 23:57:44</td>\n",
       "      <td>product_page</td>\n",
       "      <td>NaN</td>\n",
       "    </tr>\n",
       "    <tr>\n",
       "      <th>787282</th>\n",
       "      <td>B77B2F4BCA134618</td>\n",
       "      <td>2020-12-31 23:58:23</td>\n",
       "      <td>registration</td>\n",
       "      <td>0.0</td>\n",
       "    </tr>\n",
       "    <tr>\n",
       "      <th>787283</th>\n",
       "      <td>GLOBAL</td>\n",
       "      <td>2020-12-31 23:58:30</td>\n",
       "      <td>product_cart</td>\n",
       "      <td>NaN</td>\n",
       "    </tr>\n",
       "    <tr>\n",
       "      <th>787284</th>\n",
       "      <td>B12AD1623E494FAD</td>\n",
       "      <td>2020-12-31 23:58:34</td>\n",
       "      <td>registration</td>\n",
       "      <td>-6.52</td>\n",
       "    </tr>\n",
       "    <tr>\n",
       "      <th>787285</th>\n",
       "      <td>5456977474344433</td>\n",
       "      <td>2020-12-31 23:59:48</td>\n",
       "      <td>registration</td>\n",
       "      <td>-3.67</td>\n",
       "    </tr>\n",
       "  </tbody>\n",
       "</table>\n",
       "</div>"
      ],
      "text/plain": [
       "                 user_id            event_dt    event_name details\n",
       "787281  1A655C280B064708 2020-12-31 23:57:44  product_page     NaN\n",
       "787282  B77B2F4BCA134618 2020-12-31 23:58:23  registration     0.0\n",
       "787283            GLOBAL 2020-12-31 23:58:30  product_cart     NaN\n",
       "787284  B12AD1623E494FAD 2020-12-31 23:58:34  registration   -6.52\n",
       "787285  5456977474344433 2020-12-31 23:59:48  registration   -3.67"
      ]
     },
     "execution_count": 26,
     "metadata": {},
     "output_type": "execute_result"
    }
   ],
   "source": [
    "events.tail()"
   ]
  },
  {
   "cell_type": "code",
   "execution_count": 27,
   "id": "b2d58ff0",
   "metadata": {},
   "outputs": [
    {
     "name": "stdout",
     "output_type": "stream",
     "text": [
      "<class 'pandas.core.frame.DataFrame'>\n",
      "RangeIndex: 787286 entries, 0 to 787285\n",
      "Data columns (total 4 columns):\n",
      " #   Column      Non-Null Count   Dtype         \n",
      "---  ------      --------------   -----         \n",
      " 0   user_id     787286 non-null  object        \n",
      " 1   event_dt    787286 non-null  datetime64[ns]\n",
      " 2   event_name  787286 non-null  object        \n",
      " 3   details     249022 non-null  object        \n",
      "dtypes: datetime64[ns](1), object(3)\n",
      "memory usage: 24.0+ MB\n"
     ]
    }
   ],
   "source": [
    "events.info()"
   ]
  },
  {
   "cell_type": "markdown",
   "id": "24beac42",
   "metadata": {},
   "source": [
    "## Выводы по структуре данных\n",
    "\n",
    "- participants содержит 14 525 записей об участии пользователей в A/B-тестах. Один пользователь может участвовать в нескольких тестах — это требует фильтрации по нужному ab_test.\n",
    "\n",
    "\n",
    "- events — 787 286 событий. Присутствуют глобальные (user_id = GLOBAL) и пользовательские события. У многих событий пустой details, что нормально.\n",
    "\n",
    "\n",
    "- Есть пользователи, участвующие в обеих группах одного теста — такие случаи нужно исключить для корректного анализа."
   ]
  },
  {
   "cell_type": "markdown",
   "id": "CnzA-efasUrk",
   "metadata": {
    "id": "CnzA-efasUrk"
   },
   "source": [
    "## Проверка корректность проведения A/B-теста (разделение пользователей, длительность, пересечения).\n"
   ]
  },
  {
   "cell_type": "code",
   "execution_count": 28,
   "id": "c33cd0fd",
   "metadata": {},
   "outputs": [
    {
     "name": "stdout",
     "output_type": "stream",
     "text": [
      "Число пользователей, участвующих в нескольких тестах: 887\n"
     ]
    }
   ],
   "source": [
    "tests_per_user = participants.groupby('user_id')['ab_test'].nunique()\n",
    "users_in_multiple_tests = tests_per_user[tests_per_user > 1]\n",
    "print(f'Число пользователей, участвующих в нескольких тестах: {users_in_multiple_tests.shape[0]}')"
   ]
  },
  {
   "cell_type": "code",
   "execution_count": 29,
   "id": "b4e15c43",
   "metadata": {},
   "outputs": [],
   "source": [
    "users_to_exclude = users_in_multiple_tests.index\n",
    "clean_test_participants = participants[~participants['user_id'].isin(users_to_exclude)]"
   ]
  },
  {
   "cell_type": "code",
   "execution_count": 30,
   "id": "8bfbb294",
   "metadata": {},
   "outputs": [
    {
     "name": "stdout",
     "output_type": "stream",
     "text": [
      "<class 'pandas.core.frame.DataFrame'>\n",
      "Index: 12751 entries, 0 to 14524\n",
      "Data columns (total 4 columns):\n",
      " #   Column   Non-Null Count  Dtype \n",
      "---  ------   --------------  ----- \n",
      " 0   user_id  12751 non-null  object\n",
      " 1   group    12751 non-null  object\n",
      " 2   ab_test  12751 non-null  object\n",
      " 3   device   12751 non-null  object\n",
      "dtypes: object(4)\n",
      "memory usage: 498.1+ KB\n"
     ]
    }
   ],
   "source": [
    "clean_test_participants.info()"
   ]
  },
  {
   "cell_type": "code",
   "execution_count": 31,
   "id": "2363f77b",
   "metadata": {},
   "outputs": [],
   "source": [
    "interface_test_participants = clean_test_participants[(clean_test_participants['ab_test'] == 'interface_eu_test')]"
   ]
  },
  {
   "cell_type": "code",
   "execution_count": 32,
   "id": "6353a2dd",
   "metadata": {},
   "outputs": [
    {
     "data": {
      "application/vnd.microsoft.datawrangler.viewer.v0+json": {
       "columns": [
        {
         "name": "index",
         "rawType": "int64",
         "type": "integer"
        },
        {
         "name": "user_id",
         "rawType": "object",
         "type": "string"
        },
        {
         "name": "group",
         "rawType": "object",
         "type": "string"
        },
        {
         "name": "ab_test",
         "rawType": "object",
         "type": "string"
        },
        {
         "name": "device",
         "rawType": "object",
         "type": "string"
        }
       ],
       "conversionMethod": "pd.DataFrame",
       "ref": "a467cf54-301c-4b6d-80e3-b98011e0f636",
       "rows": [],
       "shape": {
        "columns": 4,
        "rows": 0
       }
      },
      "text/html": [
       "<div>\n",
       "<style scoped>\n",
       "    .dataframe tbody tr th:only-of-type {\n",
       "        vertical-align: middle;\n",
       "    }\n",
       "\n",
       "    .dataframe tbody tr th {\n",
       "        vertical-align: top;\n",
       "    }\n",
       "\n",
       "    .dataframe thead th {\n",
       "        text-align: right;\n",
       "    }\n",
       "</style>\n",
       "<table border=\"1\" class=\"dataframe\">\n",
       "  <thead>\n",
       "    <tr style=\"text-align: right;\">\n",
       "      <th></th>\n",
       "      <th>user_id</th>\n",
       "      <th>group</th>\n",
       "      <th>ab_test</th>\n",
       "      <th>device</th>\n",
       "    </tr>\n",
       "  </thead>\n",
       "  <tbody>\n",
       "  </tbody>\n",
       "</table>\n",
       "</div>"
      ],
      "text/plain": [
       "Empty DataFrame\n",
       "Columns: [user_id, group, ab_test, device]\n",
       "Index: []"
      ]
     },
     "execution_count": 32,
     "metadata": {},
     "output_type": "execute_result"
    }
   ],
   "source": [
    "dup_part = interface_test_participants[interface_test_participants['user_id'].duplicated(keep = False)].sort_values('user_id')\n",
    "dup_part"
   ]
  },
  {
   "cell_type": "code",
   "execution_count": 33,
   "id": "05c85498",
   "metadata": {},
   "outputs": [
    {
     "name": "stdout",
     "output_type": "stream",
     "text": [
      "Количество уникальных пользователей в группе A: 4952\n",
      "Количество уникальных пользователей в группе B: 5011\n"
     ]
    }
   ],
   "source": [
    "users_count_by_group = interface_test_participants.groupby('group')['user_id'].nunique()\n",
    "\n",
    "for group in ['A', 'B']:\n",
    "    print(f\"Количество уникальных пользователей в группе {group}: {users_count_by_group.get(group, 0)}\")"
   ]
  },
  {
   "cell_type": "code",
   "execution_count": 34,
   "id": "483b1b05",
   "metadata": {},
   "outputs": [
    {
     "name": "stdout",
     "output_type": "stream",
     "text": [
      "Процентная разница в количестве пользователей в группе A: 49.7%\n",
      "Процентная разница в количестве пользователей в группе B: 50.3%\n"
     ]
    }
   ],
   "source": [
    "total_users = interface_test_participants['user_id'].nunique()\n",
    "\n",
    "users_count_perc = (users_count_by_group / total_users) * 100\n",
    "\n",
    "for group in ['A', 'B']:\n",
    "    print(f'Процентная разница в количестве пользователей в группе {group}: {users_count_perc.get(group, 0):.1f}%')"
   ]
  },
  {
   "cell_type": "code",
   "execution_count": 35,
   "id": "a01d4e90",
   "metadata": {},
   "outputs": [
    {
     "data": {
      "text/plain": [
       "<function matplotlib.pyplot.show(close=None, block=None)>"
      ]
     },
     "execution_count": 35,
     "metadata": {},
     "output_type": "execute_result"
    },
    {
     "data": {
      "image/png": "[encoded data removed]",
      "text/plain": [
       "<Figure size 1200x600 with 1 Axes>"
      ]
     },
     "metadata": {},
     "output_type": "display_data"
    }
   ],
   "source": [
    "users_count_by_group.plot(kind='pie',\n",
    "                  figsize = (12,6),\n",
    "                  labels=['Группа A', 'Группа В'],\n",
    "                  autopct='%1.1f%%',\n",
    "                  startangle=140,\n",
    "                  colors=['indianred', 'cornflowerblue']\n",
    ")\n",
    "plt.title('Соотношение групп', fontsize=14)\n",
    "plt.ylabel('')\n",
    "plt.show"
   ]
  },
  {
   "cell_type": "code",
   "execution_count": 36,
   "id": "43aeb5d0",
   "metadata": {},
   "outputs": [
    {
     "name": "stdout",
     "output_type": "stream",
     "text": [
      "Количество пользователей, которые встречаются одновременно в группах A и B: 0\n"
     ]
    }
   ],
   "source": [
    "a_users = interface_test_participants[(interface_test_participants['group'] == 'A')]['user_id']\n",
    "b_users = interface_test_participants[(interface_test_participants['group'] == 'B')]['user_id']\n",
    "\n",
    "intersection = set(a_users) & set(b_users)\n",
    "\n",
    "print(f'Количество пользователей, которые встречаются одновременно в группах A и B: {len(intersection)}')"
   ]
  },
  {
   "cell_type": "code",
   "execution_count": 37,
   "id": "QMt0Ybo_swDK",
   "metadata": {
    "id": "QMt0Ybo_swDK"
   },
   "outputs": [],
   "source": [
    "ab_test_events = events[events['user_id'].isin(interface_test_participants['user_id'])]"
   ]
  },
  {
   "cell_type": "code",
   "execution_count": 38,
   "id": "sES4-dKts0Yb",
   "metadata": {
    "id": "sES4-dKts0Yb"
   },
   "outputs": [],
   "source": [
    "registration = ab_test_events.groupby('user_id')['event_dt'].min().reset_index()\n",
    "registration.columns = ['user_id', 'registration_dt']\n",
    "\n",
    "events_lifetime = ab_test_events.merge(registration, on='user_id')"
   ]
  },
  {
   "cell_type": "code",
   "execution_count": 39,
   "id": "d06801b4",
   "metadata": {},
   "outputs": [],
   "source": [
    "events_lifetime['lifetime'] = (events_lifetime['event_dt'] - events_lifetime['registration_dt']).dt.days"
   ]
  },
  {
   "cell_type": "code",
   "execution_count": 40,
   "id": "496408f1",
   "metadata": {},
   "outputs": [],
   "source": [
    "analysis_events = events_lifetime[events_lifetime['lifetime'] < 7]"
   ]
  },
  {
   "cell_type": "code",
   "execution_count": 41,
   "id": "7d97b466",
   "metadata": {},
   "outputs": [
    {
     "name": "stdout",
     "output_type": "stream",
     "text": [
      "Необходимое количество пользователей в каждой группе: 3762\n",
      "Итого минимум пользователей: 7523\n",
      "\n",
      "Общее количество уникальных пользователей, участвующих в тесте: 9963\n"
     ]
    }
   ],
   "source": [
    "num_users = analysis_events['user_id'].nunique()\n",
    "\n",
    "alpha = 0.05         \n",
    "power = 0.8          \n",
    "p1 = 0.3            \n",
    "p2 = 0.33           \n",
    "\n",
    "effect_size = proportion_effectsize(p1, p2)\n",
    "\n",
    "analysis = NormalIndPower()\n",
    "sample_size = analysis.solve_power(effect_size=effect_size,\n",
    "                                   power=power,\n",
    "                                   alpha=alpha,\n",
    "                                   alternative='two-sided')\n",
    "\n",
    "print(f'Необходимое количество пользователей в каждой группе: {round(sample_size)}')\n",
    "print(f'Итого минимум пользователей: {round(sample_size * 2)}')\n",
    "print(f'\\nОбщее количество уникальных пользователей, участвующих в тесте: {num_users}')"
   ]
  },
  {
   "cell_type": "code",
   "execution_count": 42,
   "id": "7ph853Xks4sy",
   "metadata": {
    "id": "7ph853Xks4sy"
   },
   "outputs": [
    {
     "name": "stdout",
     "output_type": "stream",
     "text": [
      "\n",
      "Количество пользователей, сделавших покупку в группе A: 1377\n",
      "Общее количество пользователей в группе A: 4952\n",
      "Конверсия в покупку в группе A: 27.8%\n",
      "\n",
      "Количество пользователей, сделавших покупку в группе B: 1480\n",
      "Общее количество пользователей в группе B: 5011\n",
      "Конверсия в покупку в группе B: 29.5%\n"
     ]
    }
   ],
   "source": [
    "purchase_events = analysis_events[analysis_events['event_name'] == 'purchase']\n",
    "\n",
    "purchase_data = pd.merge(purchase_events, interface_test_participants[['user_id', 'group']], on='user_id', how='left')\n",
    "\n",
    "purchases_by_group = purchase_data.groupby('group')['user_id'].nunique()\n",
    "\n",
    "purchases_cr = (purchases_by_group / users_count_by_group)*100\n",
    "\n",
    "for group in ['A', 'B']:\n",
    "    print(f\"\\nКоличество пользователей, сделавших покупку в группе {group}: {purchases_by_group.get(group, 0)}\")\n",
    "    print(f\"Общее количество пользователей в группе {group}: {users_count_by_group.get(group, 0)}\")\n",
    "    print(f\"Конверсия в покупку в группе {group}: {purchases_cr.get(group, 0):.1f}%\")"
   ]
  },
  {
   "cell_type": "markdown",
   "id": "b8fff218",
   "metadata": {
    "id": "hHTHPkJYs8mE"
   },
   "source": [
    "##  Предварительный общий вывод\n",
    "- Тестовая группа (группа B) показала некоторое улучшение по сравнению с контрольной группой (группа A).\n",
    "\n",
    "- Конверсия в покупку в группе B составила 29.5%, что на 1.7% больше, чем в контрольной группе, где этот показатель равен 27.8%.\n",
    "\n",
    "- Это улучшение в 1.7% может указывать на успешность изменения, которое было внедрено в тестовой группе, однако для статистической уверенности требуется проведение соответствующего статистического теста для проверки значимости различий."
   ]
  },
  {
   "cell_type": "markdown",
   "id": "IKZ1Oo3Ws919",
   "metadata": {
    "id": "IKZ1Oo3Ws919"
   },
   "source": [
    "## 4. Оценка результатов A/B-тестирования:"
   ]
  },
  {
   "cell_type": "code",
   "execution_count": 43,
   "id": "229e825c",
   "metadata": {},
   "outputs": [
    {
     "name": "stdout",
     "output_type": "stream",
     "text": [
      "Доля пользователей, сделавших покупку в группе A: 0.278\n",
      "Доля пользователей, сделавших покупку в группе B: 0.295\n",
      "Разница в доле пользователей, сделавших покупку (B - A): 0.017\n"
     ]
    }
   ],
   "source": [
    "n_a = interface_test_participants[interface_test_participants.group == 'A'].shape[0]\n",
    "n_b = interface_test_participants[interface_test_participants.group == 'B'].shape[0]\n",
    "\n",
    "m_a = purchase_data[purchase_data.group == 'A']['user_id'].nunique()\n",
    "m_b = purchase_data[purchase_data['group'] == 'B']['user_id'].nunique()\n",
    "\n",
    "p_a = m_a/n_a\n",
    "p_b = m_b/n_b \n",
    "diff = p_b - p_a\n",
    "\n",
    "print(f'Доля пользователей, сделавших покупку в группе A: {p_a:.3f}')\n",
    "print(f'Доля пользователей, сделавших покупку в группе B: {p_b:.3f}')\n",
    "print(f'Разница в доле пользователей, сделавших покупку (B - A): {diff:.3f}')"
   ]
  },
  {
   "cell_type": "code",
   "execution_count": 44,
   "id": "l_KOziBQtL3t",
   "metadata": {
    "id": "l_KOziBQtL3t"
   },
   "outputs": [
    {
     "name": "stdout",
     "output_type": "stream",
     "text": [
      "Гипотезы:\n",
      " - H₀ (нулевая гипотеза): конверсия в группе B меньше или равна конверсии в группе A (p_B ≤ p_A)\n",
      " - H₁ (альтернативная гипотеза): конверсия в группе B больше, чем в группе A (p_B > p_A)\n",
      "\n",
      "p-value: 0.0283\n",
      "Результат: нулевая гипотеза отклоняется. Конверсия в группе B статистически значимо выше, чем в группе A.\n"
     ]
    }
   ],
   "source": [
    "alpha = 0.05\n",
    "\n",
    "stat_ztest, p_value_ztest = proportions_ztest(\n",
    "    [m_a, m_b],\n",
    "    [n_a, n_b],\n",
    "    alternative='smaller'\n",
    ")\n",
    "\n",
    "print(\"Гипотезы:\")\n",
    "print(\" - H₀ (нулевая гипотеза): конверсия в группе B меньше или равна конверсии в группе A (p_B ≤ p_A)\")\n",
    "print(\" - H₁ (альтернативная гипотеза): конверсия в группе B больше, чем в группе A (p_B > p_A)\")\n",
    "print(f\"\\np-value: {p_value_ztest:.4f}\")\n",
    "\n",
    "if p_value_ztest < alpha:\n",
    "    print(\"Результат: нулевая гипотеза отклоняется. Конверсия в группе B статистически значимо выше, чем в группе A.\")\n",
    "else:\n",
    "    print(\"Результат: нет оснований отклонить нулевую гипотезу. Разница в конверсии между группами A и B не является статистически значимой.\")"
   ]
  },
  {
   "cell_type": "markdown",
   "id": "npoPPSKytKvR",
   "metadata": {
    "id": "npoPPSKytKvR"
   },
   "source": [
    "## Выводы по результатам A/B-теста \n",
    "\n",
    "1. Характеристики эксперимента\n",
    "    - Цель теста: Оценить влияние изменений в пользовательском интерфейсе на конверсию в покупку.\n",
    "        - Базовая конверсия: 30%\n",
    "        - Ожидаемый рост: +3 п.п.\n",
    "    - Необходимый размер выборки: 3 762 пользователя в каждую группу (при мощности 80% и уровне значимости 5%).\n",
    "    - Фактический размер выборки:\n",
    "        - Группа A: 4 952 пользователя\n",
    "        - Группа B: 5 011 пользователей\n",
    "    - Продолжительность анализа: 7 дней с момента регистрации каждого пользователя\n",
    "    - Тест прошёл требования:\n",
    "        - Распределение пользователей по группам равномерное\n",
    "        - Пересечений между группами A и B нет\n",
    "        - Пересечений с другими тестами устранены (887 пользователей исключены)\n",
    "\n",
    "\n",
    "2. Влияние изменения интерфейса на ключевую метрику\n",
    "    - Конверсия в покупке:\n",
    "        - Группа A: 27.8%\n",
    "        - Группа B: 29.5%\n",
    "    - Разница между группами: +1.7 п.п. в пользу группы B\n",
    "    - Это может свидетельствовать о положительном влиянии интерфейсного изменения\n",
    "    \n",
    "3. Результаты статистического теста\n",
    "    - Гипотезы:\n",
    "        - H₀: Конверсия в группе B не выше, чем в группе A (p_B ≤ p_A)\n",
    "        - H₁: Конверсия в группе B выше, чем в группе A (p_B > p_A)\n",
    "    - Статистический тест: z-тест для сравнения пропорций\n",
    "        - p-value: 0.0283\n",
    "    - Результат: p-value < 0.05 → нулевая гипотеза отвергается\n",
    "    - Вывод: Разница в конверсии статистически значима\n",
    "    \n",
    "    \n",
    "4. Заключение и рекомендации\n",
    "    - Изменения в интерфейсе привели к статистически значимому росту конверсии на 1.7 п.п.\n",
    "    - Выборка достаточна, дизайн теста корректный\n",
    "    - Рекомендуется внедрить изменения, протестированные в группе B, в основной продукт"
   ]
  }
 ],
 "metadata": {
  "ExecuteTimeLog": [
   {
    "duration": 452,
    "start_time": "2025-04-09T08:57:22.115Z"
   },
   {
    "duration": 103,
    "start_time": "2025-04-09T08:57:24.298Z"
   },
   {
    "duration": 14,
    "start_time": "2025-04-09T08:57:43.190Z"
   },
   {
    "duration": 9,
    "start_time": "2025-04-09T08:58:01.196Z"
   },
   {
    "duration": 81,
    "start_time": "2025-04-09T08:58:35.843Z"
   },
   {
    "duration": 59,
    "start_time": "2025-04-09T09:00:34.139Z"
   },
   {
    "duration": 8,
    "start_time": "2025-04-09T09:00:35.173Z"
   },
   {
    "duration": 11,
    "start_time": "2025-04-09T09:00:48.500Z"
   },
   {
    "duration": 48,
    "start_time": "2025-04-09T09:01:00.070Z"
   },
   {
    "duration": 12,
    "start_time": "2025-04-09T09:01:29.663Z"
   },
   {
    "duration": 12,
    "start_time": "2025-04-09T09:01:47.182Z"
   },
   {
    "duration": 14,
    "start_time": "2025-04-09T09:03:17.626Z"
   },
   {
    "duration": 934,
    "start_time": "2025-04-09T09:08:46.486Z"
   },
   {
    "duration": 48,
    "start_time": "2025-04-09T09:08:48.511Z"
   },
   {
    "duration": 12,
    "start_time": "2025-04-09T09:08:49.531Z"
   },
   {
    "duration": 11,
    "start_time": "2025-04-09T09:08:50.958Z"
   },
   {
    "duration": 9,
    "start_time": "2025-04-09T09:10:52.062Z"
   },
   {
    "duration": 15,
    "start_time": "2025-04-09T09:11:12.545Z"
   },
   {
    "duration": 19,
    "start_time": "2025-04-09T09:11:18.534Z"
   },
   {
    "duration": 7,
    "start_time": "2025-04-09T09:12:36.660Z"
   },
   {
    "duration": 13,
    "start_time": "2025-04-09T09:13:02.928Z"
   },
   {
    "duration": 11,
    "start_time": "2025-04-09T09:13:10.876Z"
   },
   {
    "duration": 9,
    "start_time": "2025-04-09T09:21:02.528Z"
   },
   {
    "duration": 56,
    "start_time": "2025-04-09T09:26:00.714Z"
   },
   {
    "duration": 6,
    "start_time": "2025-04-09T09:26:11.717Z"
   },
   {
    "duration": 22,
    "start_time": "2025-04-09T09:26:24.138Z"
   },
   {
    "duration": 6,
    "start_time": "2025-04-09T09:27:00.401Z"
   },
   {
    "duration": 9,
    "start_time": "2025-04-09T09:28:48.293Z"
   },
   {
    "duration": 3,
    "start_time": "2025-04-09T09:29:35.185Z"
   },
   {
    "duration": 4,
    "start_time": "2025-04-09T09:30:19.130Z"
   },
   {
    "duration": 5,
    "start_time": "2025-04-09T09:30:49.154Z"
   },
   {
    "duration": 4,
    "start_time": "2025-04-09T09:31:54.533Z"
   },
   {
    "duration": 51,
    "start_time": "2025-04-09T14:58:41.647Z"
   },
   {
    "duration": 6,
    "start_time": "2025-04-09T14:58:48.135Z"
   },
   {
    "duration": 1372,
    "start_time": "2025-04-09T14:58:59.478Z"
   },
   {
    "duration": 92,
    "start_time": "2025-04-09T14:59:00.852Z"
   },
   {
    "duration": 13,
    "start_time": "2025-04-09T14:59:00.946Z"
   },
   {
    "duration": 15,
    "start_time": "2025-04-09T14:59:00.961Z"
   },
   {
    "duration": 18,
    "start_time": "2025-04-09T14:59:00.979Z"
   },
   {
    "duration": 32,
    "start_time": "2025-04-09T14:59:00.999Z"
   },
   {
    "duration": 23,
    "start_time": "2025-04-09T14:59:01.034Z"
   },
   {
    "duration": 1582,
    "start_time": "2025-04-09T14:59:01.059Z"
   },
   {
    "duration": 4,
    "start_time": "2025-04-09T14:59:43.552Z"
   },
   {
    "duration": 13,
    "start_time": "2025-04-09T15:00:06.016Z"
   },
   {
    "duration": 5,
    "start_time": "2025-04-09T15:00:25.656Z"
   },
   {
    "duration": 14,
    "start_time": "2025-04-09T15:01:03.426Z"
   },
   {
    "duration": 15,
    "start_time": "2025-04-09T15:01:15.446Z"
   },
   {
    "duration": 14,
    "start_time": "2025-04-09T15:02:37.788Z"
   },
   {
    "duration": 5,
    "start_time": "2025-04-09T15:04:09.253Z"
   },
   {
    "duration": 4,
    "start_time": "2025-04-09T15:05:41.617Z"
   },
   {
    "duration": 55,
    "start_time": "2025-04-09T15:11:53.135Z"
   },
   {
    "duration": 51,
    "start_time": "2025-04-09T15:12:38.845Z"
   },
   {
    "duration": 12,
    "start_time": "2025-04-09T15:12:39.588Z"
   },
   {
    "duration": 12,
    "start_time": "2025-04-09T15:12:45.682Z"
   },
   {
    "duration": 9,
    "start_time": "2025-04-09T15:12:48.417Z"
   },
   {
    "duration": 8,
    "start_time": "2025-04-09T15:14:00.133Z"
   },
   {
    "duration": 14,
    "start_time": "2025-04-09T15:16:16.848Z"
   },
   {
    "duration": 14,
    "start_time": "2025-04-09T15:17:52.488Z"
   },
   {
    "duration": 3,
    "start_time": "2025-04-09T15:19:11.727Z"
   },
   {
    "duration": 44,
    "start_time": "2025-04-09T15:19:12.661Z"
   },
   {
    "duration": 8,
    "start_time": "2025-04-09T15:19:13.934Z"
   },
   {
    "duration": 11,
    "start_time": "2025-04-09T15:19:15.741Z"
   },
   {
    "duration": 19,
    "start_time": "2025-04-09T15:19:20.951Z"
   },
   {
    "duration": 12,
    "start_time": "2025-04-09T15:19:23.408Z"
   },
   {
    "duration": 102,
    "start_time": "2025-04-09T15:19:29.205Z"
   },
   {
    "duration": 10,
    "start_time": "2025-04-09T15:19:42.135Z"
   },
   {
    "duration": 5,
    "start_time": "2025-04-09T15:19:54.476Z"
   },
   {
    "duration": 1140,
    "start_time": "2025-04-09T18:34:35.505Z"
   },
   {
    "duration": 100,
    "start_time": "2025-04-09T18:34:36.647Z"
   },
   {
    "duration": 55,
    "start_time": "2025-04-09T18:34:36.749Z"
   },
   {
    "duration": 70,
    "start_time": "2025-04-09T18:34:36.805Z"
   },
   {
    "duration": 114,
    "start_time": "2025-04-09T18:34:36.877Z"
   },
   {
    "duration": 52,
    "start_time": "2025-04-09T18:34:36.992Z"
   },
   {
    "duration": 35,
    "start_time": "2025-04-09T18:34:37.046Z"
   },
   {
    "duration": 45,
    "start_time": "2025-04-09T18:34:37.083Z"
   },
   {
    "duration": 1577,
    "start_time": "2025-04-09T18:34:37.130Z"
   },
   {
    "duration": 9,
    "start_time": "2025-04-09T18:38:18.891Z"
   },
   {
    "duration": 4,
    "start_time": "2025-04-09T18:39:35.236Z"
   },
   {
    "duration": 11,
    "start_time": "2025-04-09T18:39:38.309Z"
   },
   {
    "duration": 6,
    "start_time": "2025-04-09T18:48:49.599Z"
   },
   {
    "duration": 8,
    "start_time": "2025-04-09T18:48:50.770Z"
   },
   {
    "duration": 6,
    "start_time": "2025-04-09T18:49:40.878Z"
   },
   {
    "duration": 110,
    "start_time": "2025-04-09T18:52:15.238Z"
   },
   {
    "duration": 17,
    "start_time": "2025-04-09T18:52:20.661Z"
   },
   {
    "duration": 7,
    "start_time": "2025-04-09T18:52:28.981Z"
   },
   {
    "duration": 6,
    "start_time": "2025-04-09T18:53:10.481Z"
   },
   {
    "duration": 8,
    "start_time": "2025-04-09T18:53:23.961Z"
   },
   {
    "duration": 4,
    "start_time": "2025-04-09T18:53:31.797Z"
   },
   {
    "duration": 8,
    "start_time": "2025-04-09T18:53:55.372Z"
   },
   {
    "duration": 6,
    "start_time": "2025-04-09T18:54:20.338Z"
   },
   {
    "duration": 111,
    "start_time": "2025-04-09T18:55:25.157Z"
   },
   {
    "duration": 97,
    "start_time": "2025-04-09T18:55:46.741Z"
   },
   {
    "duration": 12,
    "start_time": "2025-04-09T18:57:46.156Z"
   },
   {
    "duration": 3,
    "start_time": "2025-04-09T18:58:23.490Z"
   },
   {
    "duration": 250,
    "start_time": "2025-04-09T18:58:24.370Z"
   },
   {
    "duration": 4,
    "start_time": "2025-04-09T18:58:25.614Z"
   },
   {
    "duration": 12,
    "start_time": "2025-04-09T18:58:26.589Z"
   },
   {
    "duration": 9,
    "start_time": "2025-04-09T18:58:27.985Z"
   },
   {
    "duration": 5,
    "start_time": "2025-04-09T18:59:28.866Z"
   },
   {
    "duration": 49,
    "start_time": "2025-04-09T18:59:29.742Z"
   },
   {
    "duration": 4,
    "start_time": "2025-04-09T18:59:30.599Z"
   },
   {
    "duration": 12,
    "start_time": "2025-04-09T18:59:31.479Z"
   },
   {
    "duration": 6,
    "start_time": "2025-04-09T18:59:32.693Z"
   },
   {
    "duration": 6,
    "start_time": "2025-04-09T18:59:35.978Z"
   },
   {
    "duration": 12,
    "start_time": "2025-04-09T18:59:37.637Z"
   },
   {
    "duration": 21,
    "start_time": "2025-04-09T18:59:39.759Z"
   },
   {
    "duration": 6,
    "start_time": "2025-04-09T18:59:44.321Z"
   },
   {
    "duration": 54,
    "start_time": "2025-04-09T19:01:23.327Z"
   },
   {
    "duration": 4,
    "start_time": "2025-04-09T19:01:24.145Z"
   },
   {
    "duration": 13,
    "start_time": "2025-04-09T19:01:24.886Z"
   },
   {
    "duration": 13,
    "start_time": "2025-04-09T19:01:25.784Z"
   },
   {
    "duration": 13,
    "start_time": "2025-04-09T19:01:26.840Z"
   },
   {
    "duration": 6,
    "start_time": "2025-04-09T19:01:28.746Z"
   },
   {
    "duration": 6,
    "start_time": "2025-04-09T19:01:31.190Z"
   },
   {
    "duration": 5,
    "start_time": "2025-04-09T19:01:33.485Z"
   },
   {
    "duration": 81,
    "start_time": "2025-04-09T19:01:35.721Z"
   },
   {
    "duration": 3,
    "start_time": "2025-04-09T19:04:02.680Z"
   },
   {
    "duration": 48,
    "start_time": "2025-04-09T19:04:03.547Z"
   },
   {
    "duration": 4,
    "start_time": "2025-04-09T19:04:04.238Z"
   },
   {
    "duration": 11,
    "start_time": "2025-04-09T19:04:05.024Z"
   },
   {
    "duration": 11,
    "start_time": "2025-04-09T19:04:05.946Z"
   },
   {
    "duration": 13,
    "start_time": "2025-04-09T19:04:07.499Z"
   },
   {
    "duration": 6,
    "start_time": "2025-04-09T19:04:08.950Z"
   },
   {
    "duration": 8,
    "start_time": "2025-04-09T19:04:11.337Z"
   },
   {
    "duration": 5,
    "start_time": "2025-04-09T19:04:12.893Z"
   },
   {
    "duration": 82,
    "start_time": "2025-04-09T19:04:14.484Z"
   },
   {
    "duration": 9,
    "start_time": "2025-04-09T19:04:20.173Z"
   },
   {
    "duration": 5,
    "start_time": "2025-04-09T19:04:25.017Z"
   },
   {
    "duration": 9,
    "start_time": "2025-04-09T19:05:28.994Z"
   },
   {
    "duration": 9,
    "start_time": "2025-04-09T19:13:41.698Z"
   },
   {
    "duration": 4,
    "start_time": "2025-04-09T19:14:04.936Z"
   },
   {
    "duration": 51,
    "start_time": "2025-04-09T19:14:05.910Z"
   },
   {
    "duration": 6,
    "start_time": "2025-04-09T19:14:06.776Z"
   },
   {
    "duration": 13,
    "start_time": "2025-04-09T19:14:07.653Z"
   },
   {
    "duration": 11,
    "start_time": "2025-04-09T19:14:09.393Z"
   },
   {
    "duration": 12,
    "start_time": "2025-04-09T19:14:10.305Z"
   },
   {
    "duration": 6,
    "start_time": "2025-04-09T19:14:11.123Z"
   },
   {
    "duration": 6,
    "start_time": "2025-04-09T19:14:12.088Z"
   },
   {
    "duration": 6,
    "start_time": "2025-04-09T19:14:12.971Z"
   },
   {
    "duration": 83,
    "start_time": "2025-04-09T19:14:14.686Z"
   },
   {
    "duration": 10,
    "start_time": "2025-04-09T19:14:21.476Z"
   },
   {
    "duration": 5,
    "start_time": "2025-04-09T19:14:25.494Z"
   },
   {
    "duration": 19,
    "start_time": "2025-04-09T19:17:35.273Z"
   },
   {
    "duration": 64,
    "start_time": "2025-04-09T19:19:04.565Z"
   },
   {
    "duration": 96,
    "start_time": "2025-04-09T19:19:13.563Z"
   },
   {
    "duration": 9,
    "start_time": "2025-04-09T19:19:18.319Z"
   },
   {
    "duration": 5,
    "start_time": "2025-04-09T19:21:21.074Z"
   },
   {
    "duration": 4,
    "start_time": "2025-04-09T19:22:52.342Z"
   },
   {
    "duration": 5,
    "start_time": "2025-04-09T19:22:53.597Z"
   },
   {
    "duration": 3,
    "start_time": "2025-04-09T19:30:04.736Z"
   },
   {
    "duration": 45,
    "start_time": "2025-04-09T19:30:05.780Z"
   },
   {
    "duration": 4,
    "start_time": "2025-04-09T19:30:06.636Z"
   },
   {
    "duration": 11,
    "start_time": "2025-04-09T19:30:07.420Z"
   },
   {
    "duration": 11,
    "start_time": "2025-04-09T19:30:08.517Z"
   },
   {
    "duration": 12,
    "start_time": "2025-04-09T19:30:09.274Z"
   },
   {
    "duration": 6,
    "start_time": "2025-04-09T19:30:10.058Z"
   },
   {
    "duration": 5,
    "start_time": "2025-04-09T19:30:11.058Z"
   },
   {
    "duration": 6,
    "start_time": "2025-04-09T19:30:12.097Z"
   },
   {
    "duration": 86,
    "start_time": "2025-04-09T19:30:13.222Z"
   },
   {
    "duration": 10,
    "start_time": "2025-04-09T19:30:31.844Z"
   },
   {
    "duration": 5,
    "start_time": "2025-04-09T19:30:33.277Z"
   },
   {
    "duration": 6,
    "start_time": "2025-04-09T19:30:34.318Z"
   },
   {
    "duration": 1185,
    "start_time": "2025-04-09T19:31:50.151Z"
   },
   {
    "duration": 64,
    "start_time": "2025-04-09T19:31:51.338Z"
   },
   {
    "duration": 4,
    "start_time": "2025-04-09T19:31:51.404Z"
   },
   {
    "duration": 24,
    "start_time": "2025-04-09T19:31:51.409Z"
   },
   {
    "duration": 42,
    "start_time": "2025-04-09T19:31:51.435Z"
   },
   {
    "duration": 21,
    "start_time": "2025-04-09T19:31:51.479Z"
   },
   {
    "duration": 10,
    "start_time": "2025-04-09T19:31:51.501Z"
   },
   {
    "duration": 23,
    "start_time": "2025-04-09T19:31:51.513Z"
   },
   {
    "duration": 72,
    "start_time": "2025-04-09T19:31:51.537Z"
   },
   {
    "duration": 112,
    "start_time": "2025-04-09T19:31:51.611Z"
   },
   {
    "duration": 8,
    "start_time": "2025-04-09T19:31:51.725Z"
   },
   {
    "duration": 19,
    "start_time": "2025-04-09T19:31:51.735Z"
   },
   {
    "duration": 10,
    "start_time": "2025-04-09T19:31:51.756Z"
   },
   {
    "duration": 1577,
    "start_time": "2025-04-09T19:31:51.768Z"
   },
   {
    "duration": 3,
    "start_time": "2025-04-09T19:37:54.914Z"
   },
   {
    "duration": 196,
    "start_time": "2025-04-09T19:37:55.988Z"
   },
   {
    "duration": 4,
    "start_time": "2025-04-09T19:37:56.996Z"
   },
   {
    "duration": 10,
    "start_time": "2025-04-09T19:37:57.858Z"
   },
   {
    "duration": 11,
    "start_time": "2025-04-09T19:38:01.399Z"
   },
   {
    "duration": 13,
    "start_time": "2025-04-09T19:38:04.376Z"
   },
   {
    "duration": 6,
    "start_time": "2025-04-09T19:38:07.163Z"
   },
   {
    "duration": 6,
    "start_time": "2025-04-09T19:38:09.573Z"
   },
   {
    "duration": 5,
    "start_time": "2025-04-09T19:38:11.696Z"
   },
   {
    "duration": 79,
    "start_time": "2025-04-09T19:38:14.792Z"
   },
   {
    "duration": 7,
    "start_time": "2025-04-09T19:38:22.982Z"
   },
   {
    "duration": 5,
    "start_time": "2025-04-09T19:38:25.197Z"
   },
   {
    "duration": 6,
    "start_time": "2025-04-09T19:38:28.104Z"
   },
   {
    "duration": 6,
    "start_time": "2025-04-09T19:38:33.924Z"
   },
   {
    "duration": 4,
    "start_time": "2025-04-09T19:38:35.557Z"
   },
   {
    "duration": 4,
    "start_time": "2025-04-09T19:38:37.391Z"
   },
   {
    "duration": 5,
    "start_time": "2025-04-09T19:40:00.119Z"
   },
   {
    "duration": 1125,
    "start_time": "2025-04-09T19:40:34.613Z"
   },
   {
    "duration": 48,
    "start_time": "2025-04-09T19:40:35.739Z"
   },
   {
    "duration": 4,
    "start_time": "2025-04-09T19:40:35.788Z"
   },
   {
    "duration": 35,
    "start_time": "2025-04-09T19:40:35.794Z"
   },
   {
    "duration": 91,
    "start_time": "2025-04-09T19:40:35.831Z"
   },
   {
    "duration": 63,
    "start_time": "2025-04-09T19:40:35.924Z"
   },
   {
    "duration": 23,
    "start_time": "2025-04-09T19:40:35.988Z"
   },
   {
    "duration": 59,
    "start_time": "2025-04-09T19:40:36.013Z"
   },
   {
    "duration": 32,
    "start_time": "2025-04-09T19:40:36.073Z"
   },
   {
    "duration": 169,
    "start_time": "2025-04-09T19:40:36.107Z"
   },
   {
    "duration": 5,
    "start_time": "2025-04-09T19:40:36.278Z"
   },
   {
    "duration": 38,
    "start_time": "2025-04-09T19:40:36.285Z"
   },
   {
    "duration": 41,
    "start_time": "2025-04-09T19:40:36.325Z"
   },
   {
    "duration": 1604,
    "start_time": "2025-04-09T19:40:36.369Z"
   },
   {
    "duration": 1095,
    "start_time": "2025-04-09T19:48:39.065Z"
   },
   {
    "duration": 67,
    "start_time": "2025-04-09T19:48:40.162Z"
   },
   {
    "duration": 4,
    "start_time": "2025-04-09T19:48:40.230Z"
   },
   {
    "duration": 22,
    "start_time": "2025-04-09T19:48:40.235Z"
   },
   {
    "duration": 14,
    "start_time": "2025-04-09T19:48:40.259Z"
   },
   {
    "duration": 11,
    "start_time": "2025-04-09T19:48:40.275Z"
   },
   {
    "duration": 5,
    "start_time": "2025-04-09T19:48:40.288Z"
   },
   {
    "duration": 7,
    "start_time": "2025-04-09T19:48:40.294Z"
   },
   {
    "duration": 7,
    "start_time": "2025-04-09T19:48:40.302Z"
   },
   {
    "duration": 130,
    "start_time": "2025-04-09T19:48:40.310Z"
   },
   {
    "duration": 20,
    "start_time": "2025-04-09T19:48:40.441Z"
   },
   {
    "duration": 23,
    "start_time": "2025-04-09T19:48:40.463Z"
   },
   {
    "duration": 8,
    "start_time": "2025-04-09T19:48:40.488Z"
   },
   {
    "duration": 1589,
    "start_time": "2025-04-09T19:48:40.499Z"
   },
   {
    "duration": 1178,
    "start_time": "2025-04-10T15:07:59.083Z"
   },
   {
    "duration": 55,
    "start_time": "2025-04-10T15:08:00.263Z"
   },
   {
    "duration": 186,
    "start_time": "2025-04-10T15:08:00.320Z"
   },
   {
    "duration": 37,
    "start_time": "2025-04-10T15:08:00.508Z"
   },
   {
    "duration": 31,
    "start_time": "2025-04-10T15:08:00.548Z"
   },
   {
    "duration": 30,
    "start_time": "2025-04-10T15:08:00.580Z"
   },
   {
    "duration": 131,
    "start_time": "2025-04-10T15:08:00.612Z"
   },
   {
    "duration": 164,
    "start_time": "2025-04-10T15:08:00.745Z"
   },
   {
    "duration": 77,
    "start_time": "2025-04-10T15:08:00.911Z"
   },
   {
    "duration": 149,
    "start_time": "2025-04-10T15:08:00.990Z"
   },
   {
    "duration": 20,
    "start_time": "2025-04-10T15:08:01.141Z"
   },
   {
    "duration": 17,
    "start_time": "2025-04-10T15:08:01.163Z"
   },
   {
    "duration": 32,
    "start_time": "2025-04-10T15:08:01.182Z"
   },
   {
    "duration": 1586,
    "start_time": "2025-04-10T15:08:01.217Z"
   },
   {
    "duration": 108,
    "start_time": "2025-04-10T15:09:02.755Z"
   },
   {
    "duration": 62,
    "start_time": "2025-04-10T15:09:49.367Z"
   },
   {
    "duration": 58,
    "start_time": "2025-04-10T15:09:50.138Z"
   },
   {
    "duration": 4,
    "start_time": "2025-04-10T15:09:50.765Z"
   },
   {
    "duration": 12,
    "start_time": "2025-04-10T15:09:51.352Z"
   },
   {
    "duration": 13,
    "start_time": "2025-04-10T15:09:52.731Z"
   },
   {
    "duration": 17,
    "start_time": "2025-04-10T15:09:53.355Z"
   },
   {
    "duration": 8,
    "start_time": "2025-04-10T15:09:53.852Z"
   },
   {
    "duration": 8,
    "start_time": "2025-04-10T15:09:54.387Z"
   },
   {
    "duration": 7,
    "start_time": "2025-04-10T15:09:54.851Z"
   },
   {
    "duration": 87,
    "start_time": "2025-04-10T15:09:55.254Z"
   },
   {
    "duration": 257,
    "start_time": "2025-04-10T15:09:55.657Z"
   },
   {
    "duration": 246,
    "start_time": "2025-04-10T15:10:49.067Z"
   },
   {
    "duration": 12,
    "start_time": "2025-04-10T15:14:14.697Z"
   },
   {
    "duration": 12,
    "start_time": "2025-04-10T15:14:52.085Z"
   },
   {
    "duration": 11,
    "start_time": "2025-04-10T15:14:58.248Z"
   },
   {
    "duration": 13,
    "start_time": "2025-04-10T15:16:01.241Z"
   },
   {
    "duration": 11,
    "start_time": "2025-04-10T15:30:34.720Z"
   },
   {
    "duration": 13,
    "start_time": "2025-04-10T15:31:58.976Z"
   },
   {
    "duration": 112,
    "start_time": "2025-04-10T15:32:21.014Z"
   },
   {
    "duration": 1702,
    "start_time": "2025-04-10T15:38:35.436Z"
   },
   {
    "duration": 9,
    "start_time": "2025-04-10T15:38:37.140Z"
   },
   {
    "duration": 13,
    "start_time": "2025-04-10T15:38:37.382Z"
   },
   {
    "duration": 10,
    "start_time": "2025-04-10T15:38:58.620Z"
   },
   {
    "duration": 8,
    "start_time": "2025-04-10T15:39:29.737Z"
   },
   {
    "duration": 8,
    "start_time": "2025-04-10T15:39:43.463Z"
   },
   {
    "duration": 2146,
    "start_time": "2025-04-10T15:41:24.684Z"
   },
   {
    "duration": 1600,
    "start_time": "2025-04-10T15:41:45.113Z"
   },
   {
    "duration": 8,
    "start_time": "2025-04-10T15:41:46.715Z"
   },
   {
    "duration": 8,
    "start_time": "2025-04-10T15:41:48.052Z"
   },
   {
    "duration": 13,
    "start_time": "2025-04-10T15:41:48.838Z"
   },
   {
    "duration": 10,
    "start_time": "2025-04-10T15:41:49.516Z"
   },
   {
    "duration": 9,
    "start_time": "2025-04-10T15:41:50.189Z"
   },
   {
    "duration": 110,
    "start_time": "2025-04-10T15:41:50.880Z"
   },
   {
    "duration": 15,
    "start_time": "2025-04-10T15:43:30.405Z"
   },
   {
    "duration": 5,
    "start_time": "2025-04-10T15:45:53.129Z"
   },
   {
    "duration": 6,
    "start_time": "2025-04-10T15:52:29.138Z"
   },
   {
    "duration": 5,
    "start_time": "2025-04-10T15:55:07.530Z"
   },
   {
    "duration": 7,
    "start_time": "2025-04-10T15:55:08.240Z"
   },
   {
    "duration": 8,
    "start_time": "2025-04-10T15:55:09.621Z"
   },
   {
    "duration": 9,
    "start_time": "2025-04-10T15:55:11.973Z"
   },
   {
    "duration": 84,
    "start_time": "2025-04-10T15:56:44.675Z"
   },
   {
    "duration": 7,
    "start_time": "2025-04-10T15:57:23.021Z"
   },
   {
    "duration": 17,
    "start_time": "2025-04-10T15:58:57.782Z"
   },
   {
    "duration": 21,
    "start_time": "2025-04-10T16:02:32.531Z"
   },
   {
    "duration": 14,
    "start_time": "2025-04-10T16:05:03.254Z"
   },
   {
    "duration": 12,
    "start_time": "2025-04-10T16:07:45.378Z"
   },
   {
    "duration": 8,
    "start_time": "2025-04-10T16:08:19.065Z"
   },
   {
    "duration": 9,
    "start_time": "2025-04-10T16:10:53.875Z"
   },
   {
    "duration": 15,
    "start_time": "2025-04-10T16:12:10.071Z"
   },
   {
    "duration": 17,
    "start_time": "2025-04-10T16:17:39.553Z"
   },
   {
    "duration": 21,
    "start_time": "2025-04-10T16:17:45.897Z"
   },
   {
    "duration": 6,
    "start_time": "2025-04-10T16:17:46.923Z"
   },
   {
    "duration": 14,
    "start_time": "2025-04-10T16:17:47.863Z"
   },
   {
    "duration": 14,
    "start_time": "2025-04-10T16:20:25.630Z"
   },
   {
    "duration": 65,
    "start_time": "2025-04-10T16:20:25.647Z"
   },
   {
    "duration": 13,
    "start_time": "2025-04-10T16:20:28.095Z"
   },
   {
    "duration": 5,
    "start_time": "2025-04-10T16:20:36.077Z"
   },
   {
    "duration": 7,
    "start_time": "2025-04-10T16:20:39.068Z"
   },
   {
    "duration": 7,
    "start_time": "2025-04-10T16:20:40.462Z"
   },
   {
    "duration": 8,
    "start_time": "2025-04-10T16:20:42.640Z"
   },
   {
    "duration": 92,
    "start_time": "2025-04-10T16:20:46.632Z"
   },
   {
    "duration": 6,
    "start_time": "2025-04-10T16:20:49.394Z"
   },
   {
    "duration": 1248,
    "start_time": "2025-04-10T17:20:10.662Z"
   },
   {
    "duration": 58,
    "start_time": "2025-04-10T17:20:11.912Z"
   },
   {
    "duration": 4,
    "start_time": "2025-04-10T17:20:11.972Z"
   },
   {
    "duration": 49,
    "start_time": "2025-04-10T17:20:11.978Z"
   },
   {
    "duration": 15,
    "start_time": "2025-04-10T17:20:12.029Z"
   },
   {
    "duration": 11,
    "start_time": "2025-04-10T17:20:12.046Z"
   },
   {
    "duration": 11,
    "start_time": "2025-04-10T17:20:12.059Z"
   },
   {
    "duration": 59,
    "start_time": "2025-04-10T17:20:12.071Z"
   },
   {
    "duration": 38,
    "start_time": "2025-04-10T17:20:12.132Z"
   },
   {
    "duration": 140,
    "start_time": "2025-04-10T17:20:12.173Z"
   },
   {
    "duration": 294,
    "start_time": "2025-04-10T17:20:12.315Z"
   },
   {
    "duration": 7,
    "start_time": "2025-04-10T17:20:12.611Z"
   },
   {
    "duration": 9,
    "start_time": "2025-04-10T17:20:12.619Z"
   },
   {
    "duration": 5,
    "start_time": "2025-04-10T17:20:12.631Z"
   },
   {
    "duration": 129,
    "start_time": "2025-04-10T17:20:12.638Z"
   },
   {
    "duration": 0,
    "start_time": "2025-04-10T17:20:12.768Z"
   },
   {
    "duration": 0,
    "start_time": "2025-04-10T17:20:12.769Z"
   },
   {
    "duration": 0,
    "start_time": "2025-04-10T17:20:12.770Z"
   },
   {
    "duration": 0,
    "start_time": "2025-04-10T17:20:12.772Z"
   },
   {
    "duration": 0,
    "start_time": "2025-04-10T17:20:12.773Z"
   },
   {
    "duration": 0,
    "start_time": "2025-04-10T17:20:12.774Z"
   },
   {
    "duration": 0,
    "start_time": "2025-04-10T17:20:12.775Z"
   },
   {
    "duration": 0,
    "start_time": "2025-04-10T17:20:12.776Z"
   },
   {
    "duration": 0,
    "start_time": "2025-04-10T17:20:12.777Z"
   },
   {
    "duration": 0,
    "start_time": "2025-04-10T17:20:12.778Z"
   },
   {
    "duration": 0,
    "start_time": "2025-04-10T17:20:12.779Z"
   },
   {
    "duration": 0,
    "start_time": "2025-04-10T17:20:12.781Z"
   },
   {
    "duration": 0,
    "start_time": "2025-04-10T17:20:12.782Z"
   },
   {
    "duration": 0,
    "start_time": "2025-04-10T17:20:12.783Z"
   },
   {
    "duration": 0,
    "start_time": "2025-04-10T17:20:12.784Z"
   },
   {
    "duration": 0,
    "start_time": "2025-04-10T17:20:12.786Z"
   },
   {
    "duration": 1229,
    "start_time": "2025-04-10T17:21:21.761Z"
   },
   {
    "duration": 58,
    "start_time": "2025-04-10T17:21:22.992Z"
   },
   {
    "duration": 4,
    "start_time": "2025-04-10T17:21:23.051Z"
   },
   {
    "duration": 22,
    "start_time": "2025-04-10T17:21:23.057Z"
   },
   {
    "duration": 69,
    "start_time": "2025-04-10T17:21:23.082Z"
   },
   {
    "duration": 35,
    "start_time": "2025-04-10T17:21:23.152Z"
   },
   {
    "duration": 5,
    "start_time": "2025-04-10T17:21:23.189Z"
   },
   {
    "duration": 13,
    "start_time": "2025-04-10T17:21:23.196Z"
   },
   {
    "duration": 24,
    "start_time": "2025-04-10T17:21:23.210Z"
   },
   {
    "duration": 138,
    "start_time": "2025-04-10T17:21:23.236Z"
   },
   {
    "duration": 257,
    "start_time": "2025-04-10T17:21:23.375Z"
   },
   {
    "duration": 31,
    "start_time": "2025-04-10T17:21:23.633Z"
   },
   {
    "duration": 18,
    "start_time": "2025-04-10T17:21:23.666Z"
   },
   {
    "duration": 9,
    "start_time": "2025-04-10T17:21:23.687Z"
   },
   {
    "duration": 12,
    "start_time": "2025-04-10T17:21:23.698Z"
   },
   {
    "duration": 1626,
    "start_time": "2025-04-10T17:21:23.711Z"
   },
   {
    "duration": 9,
    "start_time": "2025-04-10T17:21:25.339Z"
   },
   {
    "duration": 12,
    "start_time": "2025-04-10T17:21:25.362Z"
   },
   {
    "duration": 19,
    "start_time": "2025-04-10T17:21:25.376Z"
   },
   {
    "duration": 9,
    "start_time": "2025-04-10T17:21:25.397Z"
   },
   {
    "duration": 23,
    "start_time": "2025-04-10T17:21:25.407Z"
   },
   {
    "duration": 120,
    "start_time": "2025-04-10T17:21:25.432Z"
   },
   {
    "duration": 19,
    "start_time": "2025-04-10T17:21:25.554Z"
   },
   {
    "duration": 10,
    "start_time": "2025-04-10T17:21:25.574Z"
   },
   {
    "duration": 17,
    "start_time": "2025-04-10T17:21:25.586Z"
   },
   {
    "duration": 24,
    "start_time": "2025-04-10T17:21:25.605Z"
   },
   {
    "duration": 47,
    "start_time": "2025-04-10T17:21:25.630Z"
   },
   {
    "duration": 9,
    "start_time": "2025-04-10T17:21:25.679Z"
   },
   {
    "duration": 18,
    "start_time": "2025-04-10T17:21:25.689Z"
   },
   {
    "duration": 85,
    "start_time": "2025-04-10T17:21:25.709Z"
   },
   {
    "duration": 6,
    "start_time": "2025-04-10T17:21:25.795Z"
   },
   {
    "duration": 10,
    "start_time": "2025-04-10T17:27:31.141Z"
   },
   {
    "duration": 11,
    "start_time": "2025-04-10T17:27:57.230Z"
   },
   {
    "duration": 100,
    "start_time": "2025-04-10T17:33:25.533Z"
   },
   {
    "duration": 70,
    "start_time": "2025-04-10T17:33:30.964Z"
   },
   {
    "duration": 63,
    "start_time": "2025-04-10T17:33:33.716Z"
   },
   {
    "duration": 20,
    "start_time": "2025-04-10T17:34:09.457Z"
   },
   {
    "duration": 13,
    "start_time": "2025-04-10T17:34:24.112Z"
   },
   {
    "duration": 15,
    "start_time": "2025-04-10T17:35:01.667Z"
   },
   {
    "duration": 12,
    "start_time": "2025-04-10T17:41:30.899Z"
   },
   {
    "duration": 13,
    "start_time": "2025-04-10T17:41:47.770Z"
   },
   {
    "duration": 13,
    "start_time": "2025-04-10T17:43:01.205Z"
   },
   {
    "duration": 18,
    "start_time": "2025-04-10T17:44:08.497Z"
   },
   {
    "duration": 13,
    "start_time": "2025-04-10T17:51:30.754Z"
   },
   {
    "duration": 15,
    "start_time": "2025-04-10T17:53:43.161Z"
   },
   {
    "duration": 12,
    "start_time": "2025-04-10T17:55:54.857Z"
   },
   {
    "duration": 15,
    "start_time": "2025-04-10T17:56:49.532Z"
   },
   {
    "duration": 286,
    "start_time": "2025-04-10T17:58:41.746Z"
   },
   {
    "duration": 18,
    "start_time": "2025-04-10T17:58:52.108Z"
   },
   {
    "duration": 14,
    "start_time": "2025-04-10T17:59:13.777Z"
   },
   {
    "duration": 15,
    "start_time": "2025-04-10T18:00:03.614Z"
   },
   {
    "duration": 10,
    "start_time": "2025-04-10T18:05:55.581Z"
   },
   {
    "duration": 9,
    "start_time": "2025-04-10T18:06:12.041Z"
   },
   {
    "duration": 9,
    "start_time": "2025-04-10T18:08:23.757Z"
   },
   {
    "duration": 25,
    "start_time": "2025-04-10T18:09:24.962Z"
   },
   {
    "duration": 40,
    "start_time": "2025-04-10T18:11:34.030Z"
   },
   {
    "duration": 27,
    "start_time": "2025-04-10T18:11:46.478Z"
   },
   {
    "duration": 29,
    "start_time": "2025-04-10T18:12:00.215Z"
   },
   {
    "duration": 56,
    "start_time": "2025-04-10T18:16:39.262Z"
   },
   {
    "duration": 8,
    "start_time": "2025-04-10T18:17:19.765Z"
   },
   {
    "duration": 10,
    "start_time": "2025-04-10T18:21:23.152Z"
   },
   {
    "duration": 9,
    "start_time": "2025-04-10T18:21:32.006Z"
   },
   {
    "duration": 8,
    "start_time": "2025-04-10T18:21:38.320Z"
   },
   {
    "duration": 7,
    "start_time": "2025-04-10T18:21:46.310Z"
   },
   {
    "duration": 9,
    "start_time": "2025-04-10T18:21:47.633Z"
   },
   {
    "duration": 87,
    "start_time": "2025-04-10T18:21:48.543Z"
   },
   {
    "duration": 7,
    "start_time": "2025-04-10T18:26:06.530Z"
   },
   {
    "duration": 8,
    "start_time": "2025-04-10T18:26:11.162Z"
   },
   {
    "duration": 8,
    "start_time": "2025-04-10T18:26:13.911Z"
   },
   {
    "duration": 8,
    "start_time": "2025-04-10T18:26:50.341Z"
   },
   {
    "duration": 9,
    "start_time": "2025-04-10T18:27:14.302Z"
   },
   {
    "duration": 5,
    "start_time": "2025-04-10T18:31:12.447Z"
   },
   {
    "duration": 6,
    "start_time": "2025-04-10T18:31:13.153Z"
   },
   {
    "duration": 6,
    "start_time": "2025-04-10T18:31:15.905Z"
   },
   {
    "duration": 85,
    "start_time": "2025-04-10T18:31:20.294Z"
   },
   {
    "duration": 87,
    "start_time": "2025-04-10T18:31:41.160Z"
   },
   {
    "duration": 8,
    "start_time": "2025-04-10T18:33:09.237Z"
   },
   {
    "duration": 61,
    "start_time": "2025-04-10T18:34:23.012Z"
   },
   {
    "duration": 8,
    "start_time": "2025-04-10T18:35:23.980Z"
   },
   {
    "duration": 10,
    "start_time": "2025-04-10T18:35:38.455Z"
   },
   {
    "duration": 26,
    "start_time": "2025-04-10T18:40:31.362Z"
   },
   {
    "duration": 27,
    "start_time": "2025-04-10T18:40:49.301Z"
   },
   {
    "duration": 26,
    "start_time": "2025-04-10T18:41:22.648Z"
   },
   {
    "duration": 35,
    "start_time": "2025-04-10T18:41:46.418Z"
   },
   {
    "duration": 25,
    "start_time": "2025-04-10T18:44:19.147Z"
   },
   {
    "duration": 23,
    "start_time": "2025-04-10T18:44:57.618Z"
   },
   {
    "duration": 28,
    "start_time": "2025-04-10T18:47:16.130Z"
   },
   {
    "duration": 7,
    "start_time": "2025-04-10T18:47:28.838Z"
   },
   {
    "duration": 7,
    "start_time": "2025-04-10T18:47:30.112Z"
   },
   {
    "duration": 83,
    "start_time": "2025-04-10T18:47:31.081Z"
   },
   {
    "duration": 11,
    "start_time": "2025-04-10T18:47:32.302Z"
   },
   {
    "duration": 71,
    "start_time": "2025-04-10T18:47:35.066Z"
   },
   {
    "duration": 60,
    "start_time": "2025-04-10T18:47:37.117Z"
   },
   {
    "duration": 14,
    "start_time": "2025-04-10T18:47:44.148Z"
   },
   {
    "duration": 16,
    "start_time": "2025-04-10T18:47:45.469Z"
   },
   {
    "duration": 11,
    "start_time": "2025-04-10T18:47:46.804Z"
   },
   {
    "duration": 9,
    "start_time": "2025-04-10T18:47:48.224Z"
   },
   {
    "duration": 21,
    "start_time": "2025-04-10T18:47:52.215Z"
   },
   {
    "duration": 5,
    "start_time": "2025-04-10T18:55:55.430Z"
   },
   {
    "duration": 8,
    "start_time": "2025-04-10T18:55:57.682Z"
   },
   {
    "duration": 6,
    "start_time": "2025-04-10T18:55:58.930Z"
   },
   {
    "duration": 86,
    "start_time": "2025-04-10T18:55:59.962Z"
   },
   {
    "duration": 10,
    "start_time": "2025-04-10T18:56:01.363Z"
   },
   {
    "duration": 66,
    "start_time": "2025-04-10T18:56:03.360Z"
   },
   {
    "duration": 54,
    "start_time": "2025-04-10T18:56:04.873Z"
   },
   {
    "duration": 17,
    "start_time": "2025-04-10T18:56:06.758Z"
   },
   {
    "duration": 16,
    "start_time": "2025-04-10T18:56:07.827Z"
   },
   {
    "duration": 10,
    "start_time": "2025-04-10T18:56:09.808Z"
   },
   {
    "duration": 9,
    "start_time": "2025-04-10T18:56:10.785Z"
   },
   {
    "duration": 23,
    "start_time": "2025-04-10T18:56:18.566Z"
   },
   {
    "duration": 8,
    "start_time": "2025-04-10T19:01:24.012Z"
   },
   {
    "duration": 81,
    "start_time": "2025-04-10T19:01:25.697Z"
   },
   {
    "duration": 10,
    "start_time": "2025-04-10T19:01:28.630Z"
   },
   {
    "duration": 66,
    "start_time": "2025-04-10T19:01:30.830Z"
   },
   {
    "duration": 54,
    "start_time": "2025-04-10T19:01:32.100Z"
   },
   {
    "duration": 14,
    "start_time": "2025-04-10T19:01:33.393Z"
   },
   {
    "duration": 15,
    "start_time": "2025-04-10T19:01:34.375Z"
   },
   {
    "duration": 10,
    "start_time": "2025-04-10T19:01:35.238Z"
   },
   {
    "duration": 62,
    "start_time": "2025-04-10T19:03:20.090Z"
   },
   {
    "duration": 7,
    "start_time": "2025-04-10T19:03:20.597Z"
   },
   {
    "duration": 6,
    "start_time": "2025-04-10T19:03:21.331Z"
   },
   {
    "duration": 14,
    "start_time": "2025-04-10T19:03:26.049Z"
   },
   {
    "duration": 16,
    "start_time": "2025-04-10T19:03:26.912Z"
   },
   {
    "duration": 24,
    "start_time": "2025-04-10T19:05:03.164Z"
   },
   {
    "duration": 58,
    "start_time": "2025-04-10T19:07:28.331Z"
   },
   {
    "duration": 24,
    "start_time": "2025-04-10T19:07:34.335Z"
   },
   {
    "duration": 1221,
    "start_time": "2025-04-10T19:08:36.327Z"
   },
   {
    "duration": 61,
    "start_time": "2025-04-10T19:08:37.550Z"
   },
   {
    "duration": 4,
    "start_time": "2025-04-10T19:08:37.612Z"
   },
   {
    "duration": 21,
    "start_time": "2025-04-10T19:08:37.617Z"
   },
   {
    "duration": 39,
    "start_time": "2025-04-10T19:08:37.640Z"
   },
   {
    "duration": 24,
    "start_time": "2025-04-10T19:08:37.681Z"
   },
   {
    "duration": 18,
    "start_time": "2025-04-10T19:08:37.707Z"
   },
   {
    "duration": 31,
    "start_time": "2025-04-10T19:08:37.726Z"
   },
   {
    "duration": 18,
    "start_time": "2025-04-10T19:08:37.759Z"
   },
   {
    "duration": 102,
    "start_time": "2025-04-10T19:08:37.779Z"
   },
   {
    "duration": 242,
    "start_time": "2025-04-10T19:08:37.883Z"
   },
   {
    "duration": 41,
    "start_time": "2025-04-10T19:08:38.126Z"
   },
   {
    "duration": 13,
    "start_time": "2025-04-10T19:08:38.169Z"
   },
   {
    "duration": 5,
    "start_time": "2025-04-10T19:08:38.185Z"
   },
   {
    "duration": 16,
    "start_time": "2025-04-10T19:08:38.191Z"
   },
   {
    "duration": 1544,
    "start_time": "2025-04-10T19:08:38.209Z"
   },
   {
    "duration": 13,
    "start_time": "2025-04-10T19:08:39.755Z"
   },
   {
    "duration": 23,
    "start_time": "2025-04-10T19:08:39.769Z"
   },
   {
    "duration": 20,
    "start_time": "2025-04-10T19:08:39.793Z"
   },
   {
    "duration": 41,
    "start_time": "2025-04-10T19:08:39.815Z"
   },
   {
    "duration": 57,
    "start_time": "2025-04-10T19:08:39.858Z"
   },
   {
    "duration": 160,
    "start_time": "2025-04-10T19:08:39.916Z"
   },
   {
    "duration": 19,
    "start_time": "2025-04-10T19:08:40.078Z"
   },
   {
    "duration": 85,
    "start_time": "2025-04-10T19:08:40.099Z"
   },
   {
    "duration": 37,
    "start_time": "2025-04-10T19:08:40.185Z"
   },
   {
    "duration": 30,
    "start_time": "2025-04-10T19:08:40.224Z"
   },
   {
    "duration": 27,
    "start_time": "2025-04-10T19:08:40.255Z"
   },
   {
    "duration": 36,
    "start_time": "2025-04-10T19:08:40.284Z"
   },
   {
    "duration": 89,
    "start_time": "2025-04-10T19:08:40.322Z"
   },
   {
    "duration": 9,
    "start_time": "2025-04-10T19:08:40.413Z"
   },
   {
    "duration": 84,
    "start_time": "2025-04-10T19:08:40.424Z"
   },
   {
    "duration": 58,
    "start_time": "2025-04-10T19:08:40.510Z"
   },
   {
    "duration": 6,
    "start_time": "2025-04-10T19:08:40.570Z"
   },
   {
    "duration": 106,
    "start_time": "2025-04-10T19:08:40.578Z"
   },
   {
    "duration": 0,
    "start_time": "2025-04-10T19:08:40.686Z"
   },
   {
    "duration": 0,
    "start_time": "2025-04-10T19:08:40.687Z"
   },
   {
    "duration": 0,
    "start_time": "2025-04-10T19:08:40.688Z"
   },
   {
    "duration": 10,
    "start_time": "2025-04-10T19:09:06.703Z"
   },
   {
    "duration": 16,
    "start_time": "2025-04-10T19:09:13.036Z"
   },
   {
    "duration": 24,
    "start_time": "2025-04-10T19:09:15.418Z"
   },
   {
    "duration": 14,
    "start_time": "2025-04-10T19:09:17.169Z"
   },
   {
    "duration": 24,
    "start_time": "2025-04-10T19:09:42.721Z"
   },
   {
    "duration": 1116,
    "start_time": "2025-04-10T19:11:00.320Z"
   },
   {
    "duration": 45,
    "start_time": "2025-04-10T19:11:01.438Z"
   },
   {
    "duration": 4,
    "start_time": "2025-04-10T19:11:01.484Z"
   },
   {
    "duration": 50,
    "start_time": "2025-04-10T19:11:01.489Z"
   },
   {
    "duration": 136,
    "start_time": "2025-04-10T19:11:01.542Z"
   },
   {
    "duration": 13,
    "start_time": "2025-04-10T19:11:01.681Z"
   },
   {
    "duration": 48,
    "start_time": "2025-04-10T19:11:01.696Z"
   },
   {
    "duration": 73,
    "start_time": "2025-04-10T19:11:01.745Z"
   },
   {
    "duration": 48,
    "start_time": "2025-04-10T19:11:01.820Z"
   },
   {
    "duration": 132,
    "start_time": "2025-04-10T19:11:01.870Z"
   },
   {
    "duration": 293,
    "start_time": "2025-04-10T19:11:02.005Z"
   },
   {
    "duration": 5,
    "start_time": "2025-04-10T19:11:02.300Z"
   },
   {
    "duration": 61,
    "start_time": "2025-04-10T19:11:02.307Z"
   },
   {
    "duration": 45,
    "start_time": "2025-04-10T19:11:02.372Z"
   },
   {
    "duration": 58,
    "start_time": "2025-04-10T19:11:02.418Z"
   },
   {
    "duration": 1461,
    "start_time": "2025-04-10T19:11:02.478Z"
   },
   {
    "duration": 8,
    "start_time": "2025-04-10T19:11:03.940Z"
   },
   {
    "duration": 54,
    "start_time": "2025-04-10T19:11:03.950Z"
   },
   {
    "duration": 45,
    "start_time": "2025-04-10T19:11:04.006Z"
   },
   {
    "duration": 81,
    "start_time": "2025-04-10T19:11:04.053Z"
   },
   {
    "duration": 76,
    "start_time": "2025-04-10T19:11:04.136Z"
   },
   {
    "duration": 149,
    "start_time": "2025-04-10T19:11:04.214Z"
   },
   {
    "duration": 14,
    "start_time": "2025-04-10T19:11:04.366Z"
   },
   {
    "duration": 33,
    "start_time": "2025-04-10T19:11:04.382Z"
   },
   {
    "duration": 46,
    "start_time": "2025-04-10T19:11:04.416Z"
   },
   {
    "duration": 53,
    "start_time": "2025-04-10T19:11:04.464Z"
   },
   {
    "duration": 40,
    "start_time": "2025-04-10T19:11:04.519Z"
   },
   {
    "duration": 35,
    "start_time": "2025-04-10T19:11:04.561Z"
   },
   {
    "duration": 116,
    "start_time": "2025-04-10T19:11:04.598Z"
   },
   {
    "duration": 12,
    "start_time": "2025-04-10T19:11:04.716Z"
   },
   {
    "duration": 86,
    "start_time": "2025-04-10T19:11:04.730Z"
   },
   {
    "duration": 57,
    "start_time": "2025-04-10T19:11:04.817Z"
   },
   {
    "duration": 8,
    "start_time": "2025-04-10T19:11:04.875Z"
   },
   {
    "duration": 101,
    "start_time": "2025-04-10T19:11:04.884Z"
   },
   {
    "duration": 43,
    "start_time": "2025-04-10T19:11:04.986Z"
   },
   {
    "duration": 35,
    "start_time": "2025-04-10T19:11:05.031Z"
   },
   {
    "duration": 10,
    "start_time": "2025-04-10T19:16:17.132Z"
   },
   {
    "duration": 12,
    "start_time": "2025-04-10T19:16:59.700Z"
   },
   {
    "duration": 14,
    "start_time": "2025-04-10T19:17:12.896Z"
   },
   {
    "duration": 11,
    "start_time": "2025-04-10T19:17:22.305Z"
   },
   {
    "duration": 12,
    "start_time": "2025-04-10T19:20:04.626Z"
   },
   {
    "duration": 10,
    "start_time": "2025-04-10T19:22:02.033Z"
   },
   {
    "duration": 8,
    "start_time": "2025-04-10T19:25:32.522Z"
   },
   {
    "duration": 12,
    "start_time": "2025-04-10T19:25:42.410Z"
   },
   {
    "duration": 21,
    "start_time": "2025-04-10T19:26:00.071Z"
   },
   {
    "duration": 11,
    "start_time": "2025-04-10T19:30:30.356Z"
   },
   {
    "duration": 3,
    "start_time": "2025-04-10T19:32:32.535Z"
   },
   {
    "duration": 3,
    "start_time": "2025-04-10T19:32:41.843Z"
   },
   {
    "duration": 3,
    "start_time": "2025-04-10T19:32:48.933Z"
   },
   {
    "duration": 11,
    "start_time": "2025-04-10T19:34:25.291Z"
   },
   {
    "duration": 3,
    "start_time": "2025-04-10T19:34:28.522Z"
   },
   {
    "duration": 4,
    "start_time": "2025-04-10T19:35:01.497Z"
   },
   {
    "duration": 17,
    "start_time": "2025-04-10T19:36:18.792Z"
   },
   {
    "duration": 3,
    "start_time": "2025-04-10T19:36:21.117Z"
   },
   {
    "duration": 14,
    "start_time": "2025-04-10T19:38:22.770Z"
   },
   {
    "duration": 5,
    "start_time": "2025-04-10T19:38:33.574Z"
   },
   {
    "duration": 5,
    "start_time": "2025-04-10T19:39:56.239Z"
   },
   {
    "duration": 5,
    "start_time": "2025-04-10T19:42:35.132Z"
   },
   {
    "duration": 5,
    "start_time": "2025-04-10T19:44:19.408Z"
   },
   {
    "duration": 6,
    "start_time": "2025-04-10T19:46:39.759Z"
   },
   {
    "duration": 1200,
    "start_time": "2025-04-10T19:58:59.342Z"
   },
   {
    "duration": 56,
    "start_time": "2025-04-10T19:59:00.544Z"
   },
   {
    "duration": 4,
    "start_time": "2025-04-10T19:59:00.602Z"
   },
   {
    "duration": 68,
    "start_time": "2025-04-10T19:59:00.608Z"
   },
   {
    "duration": 33,
    "start_time": "2025-04-10T19:59:00.678Z"
   },
   {
    "duration": 18,
    "start_time": "2025-04-10T19:59:00.712Z"
   },
   {
    "duration": 31,
    "start_time": "2025-04-10T19:59:00.732Z"
   },
   {
    "duration": 40,
    "start_time": "2025-04-10T19:59:00.765Z"
   },
   {
    "duration": 104,
    "start_time": "2025-04-10T19:59:00.807Z"
   },
   {
    "duration": 141,
    "start_time": "2025-04-10T19:59:00.913Z"
   },
   {
    "duration": 260,
    "start_time": "2025-04-10T19:59:01.056Z"
   },
   {
    "duration": 6,
    "start_time": "2025-04-10T19:59:01.318Z"
   },
   {
    "duration": 89,
    "start_time": "2025-04-10T19:59:01.326Z"
   },
   {
    "duration": 97,
    "start_time": "2025-04-10T19:59:01.418Z"
   },
   {
    "duration": 39,
    "start_time": "2025-04-10T19:59:01.517Z"
   },
   {
    "duration": 1591,
    "start_time": "2025-04-10T19:59:01.559Z"
   },
   {
    "duration": 14,
    "start_time": "2025-04-10T19:59:03.151Z"
   },
   {
    "duration": 29,
    "start_time": "2025-04-10T19:59:03.166Z"
   },
   {
    "duration": 31,
    "start_time": "2025-04-10T19:59:03.197Z"
   },
   {
    "duration": 47,
    "start_time": "2025-04-10T19:59:03.230Z"
   },
   {
    "duration": 17,
    "start_time": "2025-04-10T19:59:03.279Z"
   },
   {
    "duration": 122,
    "start_time": "2025-04-10T19:59:03.298Z"
   },
   {
    "duration": 15,
    "start_time": "2025-04-10T19:59:03.421Z"
   },
   {
    "duration": 120,
    "start_time": "2025-04-10T19:59:03.438Z"
   },
   {
    "duration": 96,
    "start_time": "2025-04-10T19:59:03.560Z"
   },
   {
    "duration": 143,
    "start_time": "2025-04-10T19:59:03.658Z"
   },
   {
    "duration": 7,
    "start_time": "2025-04-10T19:59:03.803Z"
   },
   {
    "duration": 12,
    "start_time": "2025-04-10T19:59:03.812Z"
   },
   {
    "duration": 93,
    "start_time": "2025-04-10T19:59:03.825Z"
   },
   {
    "duration": 10,
    "start_time": "2025-04-10T19:59:03.919Z"
   },
   {
    "duration": 161,
    "start_time": "2025-04-10T19:59:03.931Z"
   },
   {
    "duration": 53,
    "start_time": "2025-04-10T19:59:04.094Z"
   },
   {
    "duration": 8,
    "start_time": "2025-04-10T19:59:04.160Z"
   },
   {
    "duration": 56,
    "start_time": "2025-04-10T19:59:04.169Z"
   },
   {
    "duration": 34,
    "start_time": "2025-04-10T19:59:04.227Z"
   },
   {
    "duration": 58,
    "start_time": "2025-04-10T19:59:04.262Z"
   },
   {
    "duration": 19,
    "start_time": "2025-04-10T19:59:04.322Z"
   },
   {
    "duration": 9,
    "start_time": "2025-04-10T19:59:04.342Z"
   },
   {
    "duration": 3,
    "start_time": "2025-04-10T20:03:40.526Z"
   },
   {
    "duration": 2711,
    "start_time": "2025-04-11T12:59:14.177Z"
   },
   {
    "duration": 62,
    "start_time": "2025-04-11T12:59:16.890Z"
   },
   {
    "duration": 3,
    "start_time": "2025-04-11T12:59:16.954Z"
   },
   {
    "duration": 24,
    "start_time": "2025-04-11T12:59:16.959Z"
   },
   {
    "duration": 16,
    "start_time": "2025-04-11T12:59:16.985Z"
   },
   {
    "duration": 12,
    "start_time": "2025-04-11T12:59:17.004Z"
   },
   {
    "duration": 6,
    "start_time": "2025-04-11T12:59:17.018Z"
   },
   {
    "duration": 10,
    "start_time": "2025-04-11T12:59:17.026Z"
   },
   {
    "duration": 11,
    "start_time": "2025-04-11T12:59:17.038Z"
   },
   {
    "duration": 165,
    "start_time": "2025-04-11T12:59:17.051Z"
   },
   {
    "duration": 359,
    "start_time": "2025-04-11T12:59:17.218Z"
   },
   {
    "duration": 9,
    "start_time": "2025-04-11T12:59:17.578Z"
   },
   {
    "duration": 41,
    "start_time": "2025-04-11T12:59:17.604Z"
   },
   {
    "duration": 18,
    "start_time": "2025-04-11T12:59:17.649Z"
   },
   {
    "duration": 29,
    "start_time": "2025-04-11T12:59:17.668Z"
   },
   {
    "duration": 1556,
    "start_time": "2025-04-11T12:59:17.698Z"
   },
   {
    "duration": 9,
    "start_time": "2025-04-11T12:59:19.256Z"
   },
   {
    "duration": 25,
    "start_time": "2025-04-11T12:59:19.266Z"
   },
   {
    "duration": 18,
    "start_time": "2025-04-11T12:59:19.293Z"
   },
   {
    "duration": 20,
    "start_time": "2025-04-11T12:59:19.313Z"
   },
   {
    "duration": 16,
    "start_time": "2025-04-11T12:59:19.335Z"
   },
   {
    "duration": 124,
    "start_time": "2025-04-11T12:59:19.352Z"
   },
   {
    "duration": 28,
    "start_time": "2025-04-11T12:59:19.477Z"
   },
   {
    "duration": 6,
    "start_time": "2025-04-11T12:59:19.507Z"
   },
   {
    "duration": 14,
    "start_time": "2025-04-11T12:59:19.515Z"
   },
   {
    "duration": 6,
    "start_time": "2025-04-11T12:59:19.531Z"
   },
   {
    "duration": 9,
    "start_time": "2025-04-11T12:59:19.538Z"
   },
   {
    "duration": 55,
    "start_time": "2025-04-11T12:59:19.549Z"
   },
   {
    "duration": 118,
    "start_time": "2025-04-11T12:59:19.606Z"
   },
   {
    "duration": 81,
    "start_time": "2025-04-11T12:59:19.726Z"
   },
   {
    "duration": 128,
    "start_time": "2025-04-11T12:59:19.809Z"
   },
   {
    "duration": 83,
    "start_time": "2025-04-11T12:59:19.938Z"
   },
   {
    "duration": 7,
    "start_time": "2025-04-11T12:59:20.023Z"
   },
   {
    "duration": 11,
    "start_time": "2025-04-11T12:59:20.031Z"
   },
   {
    "duration": 45,
    "start_time": "2025-04-11T12:59:20.043Z"
   },
   {
    "duration": 29,
    "start_time": "2025-04-11T12:59:20.090Z"
   },
   {
    "duration": 99,
    "start_time": "2025-04-11T12:59:20.121Z"
   },
   {
    "duration": 6,
    "start_time": "2025-04-11T12:59:20.222Z"
   },
   {
    "duration": 1369,
    "start_time": "2025-04-12T08:01:01.671Z"
   },
   {
    "duration": 56,
    "start_time": "2025-04-12T08:01:03.042Z"
   },
   {
    "duration": 33,
    "start_time": "2025-04-12T08:01:03.100Z"
   },
   {
    "duration": 38,
    "start_time": "2025-04-12T08:01:03.134Z"
   },
   {
    "duration": 15,
    "start_time": "2025-04-12T08:01:03.174Z"
   },
   {
    "duration": 11,
    "start_time": "2025-04-12T08:01:03.191Z"
   },
   {
    "duration": 6,
    "start_time": "2025-04-12T08:01:03.203Z"
   },
   {
    "duration": 21,
    "start_time": "2025-04-12T08:01:03.210Z"
   },
   {
    "duration": 19,
    "start_time": "2025-04-12T08:01:03.232Z"
   },
   {
    "duration": 127,
    "start_time": "2025-04-12T08:01:03.252Z"
   },
   {
    "duration": 333,
    "start_time": "2025-04-12T08:01:03.381Z"
   },
   {
    "duration": 6,
    "start_time": "2025-04-12T08:01:03.716Z"
   },
   {
    "duration": 15,
    "start_time": "2025-04-12T08:01:03.723Z"
   },
   {
    "duration": 5,
    "start_time": "2025-04-12T08:01:03.741Z"
   },
   {
    "duration": 29,
    "start_time": "2025-04-12T08:01:03.747Z"
   },
   {
    "duration": 1590,
    "start_time": "2025-04-12T08:01:03.778Z"
   },
   {
    "duration": 13,
    "start_time": "2025-04-12T08:01:05.370Z"
   },
   {
    "duration": 24,
    "start_time": "2025-04-12T08:01:05.385Z"
   },
   {
    "duration": 42,
    "start_time": "2025-04-12T08:01:05.411Z"
   },
   {
    "duration": 132,
    "start_time": "2025-04-12T08:01:05.455Z"
   },
   {
    "duration": 28,
    "start_time": "2025-04-12T08:01:05.589Z"
   },
   {
    "duration": 161,
    "start_time": "2025-04-12T08:01:05.619Z"
   },
   {
    "duration": 13,
    "start_time": "2025-04-12T08:01:05.782Z"
   },
   {
    "duration": 29,
    "start_time": "2025-04-12T08:01:05.796Z"
   },
   {
    "duration": 61,
    "start_time": "2025-04-12T08:01:05.827Z"
   },
   {
    "duration": 53,
    "start_time": "2025-04-12T08:01:05.890Z"
   },
   {
    "duration": 45,
    "start_time": "2025-04-12T08:01:05.945Z"
   },
   {
    "duration": 27,
    "start_time": "2025-04-12T08:01:05.992Z"
   },
   {
    "duration": 112,
    "start_time": "2025-04-12T08:01:06.020Z"
   },
   {
    "duration": 9,
    "start_time": "2025-04-12T08:01:06.134Z"
   },
   {
    "duration": 83,
    "start_time": "2025-04-12T08:01:06.145Z"
   },
   {
    "duration": 57,
    "start_time": "2025-04-12T08:01:06.230Z"
   },
   {
    "duration": 7,
    "start_time": "2025-04-12T08:01:06.288Z"
   },
   {
    "duration": 60,
    "start_time": "2025-04-12T08:01:06.296Z"
   },
   {
    "duration": 95,
    "start_time": "2025-04-12T08:01:06.357Z"
   },
   {
    "duration": 73,
    "start_time": "2025-04-12T08:01:06.454Z"
   },
   {
    "duration": 67,
    "start_time": "2025-04-12T08:01:06.528Z"
   },
   {
    "duration": 49,
    "start_time": "2025-04-12T08:01:06.596Z"
   },
   {
    "duration": 7,
    "start_time": "2025-04-12T08:12:06.149Z"
   },
   {
    "duration": 9,
    "start_time": "2025-04-12T08:12:06.966Z"
   },
   {
    "duration": 37,
    "start_time": "2025-04-12T08:12:47.641Z"
   },
   {
    "duration": 8,
    "start_time": "2025-04-12T08:13:18.885Z"
   },
   {
    "duration": 8,
    "start_time": "2025-04-12T08:13:19.692Z"
   },
   {
    "duration": 11,
    "start_time": "2025-04-12T08:13:20.512Z"
   },
   {
    "duration": 12,
    "start_time": "2025-04-12T08:13:48.490Z"
   },
   {
    "duration": 420,
    "start_time": "2025-04-12T08:16:45.848Z"
   },
   {
    "duration": 234,
    "start_time": "2025-04-12T08:17:03.398Z"
   },
   {
    "duration": 15,
    "start_time": "2025-04-12T08:18:34.206Z"
   },
   {
    "duration": 443,
    "start_time": "2025-04-12T08:19:19.944Z"
   },
   {
    "duration": 593,
    "start_time": "2025-04-12T08:19:34.476Z"
   },
   {
    "duration": 393,
    "start_time": "2025-04-12T08:19:43.132Z"
   },
   {
    "duration": 404,
    "start_time": "2025-04-12T08:19:52.876Z"
   },
   {
    "duration": 490,
    "start_time": "2025-04-12T08:20:00.242Z"
   },
   {
    "duration": 400,
    "start_time": "2025-04-12T08:36:22.106Z"
   },
   {
    "duration": 10,
    "start_time": "2025-04-12T08:45:34.194Z"
   },
   {
    "duration": 103,
    "start_time": "2025-04-12T08:46:43.723Z"
   },
   {
    "duration": 8,
    "start_time": "2025-04-12T08:46:57.341Z"
   },
   {
    "duration": 9,
    "start_time": "2025-04-12T08:47:14.494Z"
   },
   {
    "duration": 1173,
    "start_time": "2025-04-12T08:51:17.068Z"
   },
   {
    "duration": 65,
    "start_time": "2025-04-12T08:51:18.243Z"
   },
   {
    "duration": 12,
    "start_time": "2025-04-12T08:51:18.309Z"
   },
   {
    "duration": 12,
    "start_time": "2025-04-12T08:51:18.322Z"
   },
   {
    "duration": 12,
    "start_time": "2025-04-12T08:51:18.335Z"
   },
   {
    "duration": 5,
    "start_time": "2025-04-12T08:51:18.348Z"
   },
   {
    "duration": 12,
    "start_time": "2025-04-12T08:51:18.354Z"
   },
   {
    "duration": 16,
    "start_time": "2025-04-12T08:51:18.367Z"
   },
   {
    "duration": 12,
    "start_time": "2025-04-12T08:51:18.385Z"
   },
   {
    "duration": 6,
    "start_time": "2025-04-12T08:51:18.398Z"
   },
   {
    "duration": 8,
    "start_time": "2025-04-12T08:51:18.405Z"
   },
   {
    "duration": 14,
    "start_time": "2025-04-12T08:51:18.414Z"
   },
   {
    "duration": 127,
    "start_time": "2025-04-12T08:51:18.430Z"
   },
   {
    "duration": 273,
    "start_time": "2025-04-12T08:51:18.560Z"
   },
   {
    "duration": 14,
    "start_time": "2025-04-12T08:51:18.835Z"
   },
   {
    "duration": 460,
    "start_time": "2025-04-12T08:51:18.851Z"
   },
   {
    "duration": 5,
    "start_time": "2025-04-12T08:51:19.313Z"
   },
   {
    "duration": 8,
    "start_time": "2025-04-12T08:51:19.320Z"
   },
   {
    "duration": 5,
    "start_time": "2025-04-12T08:51:19.329Z"
   },
   {
    "duration": 12,
    "start_time": "2025-04-12T08:51:19.335Z"
   },
   {
    "duration": 1458,
    "start_time": "2025-04-12T08:51:19.348Z"
   },
   {
    "duration": 9,
    "start_time": "2025-04-12T08:51:20.808Z"
   },
   {
    "duration": 50,
    "start_time": "2025-04-12T08:51:20.818Z"
   },
   {
    "duration": 20,
    "start_time": "2025-04-12T08:51:20.870Z"
   },
   {
    "duration": 16,
    "start_time": "2025-04-12T08:51:20.892Z"
   },
   {
    "duration": 32,
    "start_time": "2025-04-12T08:51:20.910Z"
   },
   {
    "duration": 115,
    "start_time": "2025-04-12T08:51:20.944Z"
   },
   {
    "duration": 19,
    "start_time": "2025-04-12T08:51:21.061Z"
   },
   {
    "duration": 7,
    "start_time": "2025-04-12T08:51:21.081Z"
   },
   {
    "duration": 19,
    "start_time": "2025-04-12T08:51:21.089Z"
   },
   {
    "duration": 42,
    "start_time": "2025-04-12T08:51:21.110Z"
   },
   {
    "duration": 14,
    "start_time": "2025-04-12T08:51:21.153Z"
   },
   {
    "duration": 8,
    "start_time": "2025-04-12T08:51:21.169Z"
   },
   {
    "duration": 26,
    "start_time": "2025-04-12T08:51:21.178Z"
   },
   {
    "duration": 81,
    "start_time": "2025-04-12T08:51:21.206Z"
   },
   {
    "duration": 9,
    "start_time": "2025-04-12T08:51:21.289Z"
   },
   {
    "duration": 117,
    "start_time": "2025-04-12T08:51:21.300Z"
   },
   {
    "duration": 51,
    "start_time": "2025-04-12T08:51:21.419Z"
   },
   {
    "duration": 76,
    "start_time": "2025-04-12T08:51:21.472Z"
   },
   {
    "duration": 16,
    "start_time": "2025-04-12T08:51:21.549Z"
   },
   {
    "duration": 24,
    "start_time": "2025-04-12T08:51:21.569Z"
   },
   {
    "duration": 30,
    "start_time": "2025-04-12T08:51:21.595Z"
   },
   {
    "duration": 16,
    "start_time": "2025-04-12T08:51:21.627Z"
   },
   {
    "duration": 6,
    "start_time": "2025-04-12T08:51:21.644Z"
   },
   {
    "duration": 25,
    "start_time": "2025-04-12T08:56:08.144Z"
   },
   {
    "duration": 21,
    "start_time": "2025-04-12T08:56:34.958Z"
   },
   {
    "duration": 13,
    "start_time": "2025-04-12T08:57:56.466Z"
   },
   {
    "duration": 6,
    "start_time": "2025-04-12T08:58:01.630Z"
   },
   {
    "duration": 8,
    "start_time": "2025-04-12T08:58:58.594Z"
   },
   {
    "duration": 22,
    "start_time": "2025-04-12T08:59:01.387Z"
   },
   {
    "duration": 1195,
    "start_time": "2025-04-12T09:02:43.349Z"
   },
   {
    "duration": 50,
    "start_time": "2025-04-12T09:02:44.546Z"
   },
   {
    "duration": 13,
    "start_time": "2025-04-12T09:02:44.597Z"
   },
   {
    "duration": 8,
    "start_time": "2025-04-12T09:02:44.612Z"
   },
   {
    "duration": 17,
    "start_time": "2025-04-12T09:02:44.622Z"
   },
   {
    "duration": 13,
    "start_time": "2025-04-12T09:02:44.641Z"
   },
   {
    "duration": 21,
    "start_time": "2025-04-12T09:02:44.656Z"
   },
   {
    "duration": 12,
    "start_time": "2025-04-12T09:02:44.679Z"
   },
   {
    "duration": 13,
    "start_time": "2025-04-12T09:02:44.693Z"
   },
   {
    "duration": 7,
    "start_time": "2025-04-12T09:02:44.707Z"
   },
   {
    "duration": 22,
    "start_time": "2025-04-12T09:02:44.715Z"
   },
   {
    "duration": 8,
    "start_time": "2025-04-12T09:02:44.739Z"
   },
   {
    "duration": 130,
    "start_time": "2025-04-12T09:02:44.749Z"
   },
   {
    "duration": 257,
    "start_time": "2025-04-12T09:02:44.882Z"
   },
   {
    "duration": 14,
    "start_time": "2025-04-12T09:02:45.141Z"
   },
   {
    "duration": 459,
    "start_time": "2025-04-12T09:02:45.157Z"
   },
   {
    "duration": 6,
    "start_time": "2025-04-12T09:02:45.618Z"
   },
   {
    "duration": 23,
    "start_time": "2025-04-12T09:02:45.626Z"
   },
   {
    "duration": 10,
    "start_time": "2025-04-12T09:02:45.651Z"
   },
   {
    "duration": 24,
    "start_time": "2025-04-12T09:02:45.663Z"
   },
   {
    "duration": 1665,
    "start_time": "2025-04-12T09:02:45.689Z"
   },
   {
    "duration": 8,
    "start_time": "2025-04-12T09:02:47.356Z"
   },
   {
    "duration": 65,
    "start_time": "2025-04-12T09:02:47.377Z"
   },
   {
    "duration": 13,
    "start_time": "2025-04-12T09:02:47.444Z"
   },
   {
    "duration": 9,
    "start_time": "2025-04-12T09:02:47.458Z"
   },
   {
    "duration": 19,
    "start_time": "2025-04-12T09:02:47.469Z"
   },
   {
    "duration": 226,
    "start_time": "2025-04-12T09:02:47.490Z"
   },
   {
    "duration": 14,
    "start_time": "2025-04-12T09:02:47.718Z"
   },
   {
    "duration": 6,
    "start_time": "2025-04-12T09:02:47.734Z"
   },
   {
    "duration": 109,
    "start_time": "2025-04-12T09:02:47.741Z"
   },
   {
    "duration": 12,
    "start_time": "2025-04-12T09:02:47.852Z"
   },
   {
    "duration": 27,
    "start_time": "2025-04-12T09:02:47.866Z"
   },
   {
    "duration": 31,
    "start_time": "2025-04-12T09:02:47.895Z"
   },
   {
    "duration": 39,
    "start_time": "2025-04-12T09:02:47.928Z"
   },
   {
    "duration": 113,
    "start_time": "2025-04-12T09:02:47.968Z"
   },
   {
    "duration": 11,
    "start_time": "2025-04-12T09:02:48.082Z"
   },
   {
    "duration": 83,
    "start_time": "2025-04-12T09:02:48.094Z"
   },
   {
    "duration": 48,
    "start_time": "2025-04-12T09:02:48.179Z"
   },
   {
    "duration": 7,
    "start_time": "2025-04-12T09:02:48.229Z"
   },
   {
    "duration": 21,
    "start_time": "2025-04-12T09:02:48.237Z"
   },
   {
    "duration": 24,
    "start_time": "2025-04-12T09:02:48.276Z"
   },
   {
    "duration": 23,
    "start_time": "2025-04-12T09:02:48.302Z"
   },
   {
    "duration": 13,
    "start_time": "2025-04-12T09:02:48.327Z"
   },
   {
    "duration": 35,
    "start_time": "2025-04-12T09:02:48.342Z"
   },
   {
    "duration": 5,
    "start_time": "2025-04-12T10:16:04.497Z"
   },
   {
    "duration": 84,
    "start_time": "2025-04-12T10:16:04.504Z"
   },
   {
    "duration": 12,
    "start_time": "2025-04-12T10:16:04.590Z"
   },
   {
    "duration": 20,
    "start_time": "2025-04-12T10:16:04.605Z"
   },
   {
    "duration": 31,
    "start_time": "2025-04-12T10:16:04.627Z"
   },
   {
    "duration": 42,
    "start_time": "2025-04-12T10:16:04.661Z"
   },
   {
    "duration": 14,
    "start_time": "2025-04-12T10:16:04.705Z"
   },
   {
    "duration": 60,
    "start_time": "2025-04-12T10:16:04.721Z"
   },
   {
    "duration": 27,
    "start_time": "2025-04-12T10:16:04.783Z"
   },
   {
    "duration": 7,
    "start_time": "2025-04-12T10:16:04.813Z"
   },
   {
    "duration": 25,
    "start_time": "2025-04-12T10:16:04.821Z"
   },
   {
    "duration": 15,
    "start_time": "2025-04-12T10:16:04.848Z"
   },
   {
    "duration": 149,
    "start_time": "2025-04-12T10:16:04.865Z"
   },
   {
    "duration": 357,
    "start_time": "2025-04-12T10:16:05.017Z"
   },
   {
    "duration": 31,
    "start_time": "2025-04-12T10:16:05.376Z"
   },
   {
    "duration": 847,
    "start_time": "2025-04-12T10:16:05.409Z"
   },
   {
    "duration": 12,
    "start_time": "2025-04-12T10:16:06.258Z"
   },
   {
    "duration": 28,
    "start_time": "2025-04-12T10:16:06.272Z"
   },
   {
    "duration": 15,
    "start_time": "2025-04-12T10:16:06.302Z"
   },
   {
    "duration": 23,
    "start_time": "2025-04-12T10:16:06.320Z"
   }
  ],
  "colab": {
   "provenance": [],
   "toc_visible": true
  },
  "kernelspec": {
   "display_name": "Python 3",
   "language": "python",
   "name": "python3"
  },
  "language_info": {
   "codemirror_mode": {
    "name": "ipython",
    "version": 3
   },
   "file_extension": ".py",
   "mimetype": "text/x-python",
   "name": "python",
   "nbconvert_exporter": "python",
   "pygments_lexer": "ipython3",
   "version": "3.13.1"
  },
  "toc": {
   "base_numbering": 1,
   "nav_menu": {},
   "number_sections": true,
   "sideBar": true,
   "skip_h1_title": true,
   "title_cell": "Table of Contents",
   "title_sidebar": "Contents",
   "toc_cell": false,
   "toc_position": {
    "height": "calc(100% - 180px)",
    "left": "10px",
    "top": "150px",
    "width": "242px"
   },
   "toc_section_display": true,
   "toc_window_display": true
  }
 },
 "nbformat": 4,
 "nbformat_minor": 5
}
